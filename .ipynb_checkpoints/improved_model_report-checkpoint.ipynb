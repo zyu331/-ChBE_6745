{
 "cells": [
  {
   "cell_type": "markdown",
   "metadata": {},
   "source": [
    "<center><font size=\"6\"><b>ChBE 6745 Project: Improved Model report</b></font></center>\n",
    "\n",
    "<center><font size=\"5\"><b>Prediction of Adsorption Properties of Metal-Organic Frameworks with Framework Flexibility</b></font></center>\n",
    "\n",
    "<center><b>Chao-Wen Chang, Pengfei Cheng, Po-Wei Huang, Xiaohan Yu, Yamin Zhang</b></center>\n",
    "\n",
    "Based on our project plan and the feedback on our baseline models, we focus mainly on the following points in the improved model report:\n",
    "- We address the **issue of the initial validation strategy** and **present the new validation strategy**, in Section 2.3 and Section 4.\n",
    "- We **analyze the overfitting issue of the pure rbf model**, and **re-implement it using the new validation strategy** in Section 5.\n",
    "- We **implement three new models** on the dataset: **KRR, LASSO, MLPRegressor (neural network)** in Section 6-8.\n",
    "- We add more descriptions on our project goals (Section 1.1), dataset, model training strategy and model validation strategy (Section 2.1-2.3).\n",
    "\n",
    "# Introduction\n",
    "\n",
    "## Project description\n",
    "\n",
    "Agrawal and Sholl (2019) show that appropriate consideration of framework flexibility may be important to quantitative predictions about molecular adsorption in metal-organic frameworks (MOFs). \n",
    "Involving framework flexibility in molecular simulation may significantly affect adsorption uptakes and selectivities.\n",
    "However, taking the framework flexibility into account directly in the molecular simulation framework may be 5-10 times more computationally expensive than standard simulation methods based on rigid crystal structure. Therefore, we are interested in constructing a regression model to predict the adsorption properties of MOFs with framework flexibility involved.\n",
    "\n",
    "\n",
    "## Goals\n",
    "\n",
    "We plan to construct different regression models and evaluate their performance on **predicting single-component adsorption uptake of MOFs with framework flexibility with respect to certain adosrbates at saturation pressure**, based on three types of input: \n",
    "1. the features of the MOFs, \n",
    "2. the features of adsorbates, and \n",
    "3. the single-component adsorption uptake of MOFs with framework flexibility with respect to certain adosrbates *from standard simulation methods based on rigid crystal structure*.\n",
    "\n",
    "The main focus of this project is to:\n",
    "1. implement various regression algorithms on the proposed dataset to find the one with the best prediction ability,\n",
    "2. apply hyperparameter tuning for each algorithm to improve model performance, and\n",
    "3. combine different validation strategies and apply throughout the project to make the models robust and least biased.\n",
    "\n",
    "The features of the MOF have been pre-selected and the number of the overall features is relatively small, so we do not address feature engineering as the main focus of our project except for the LASSO models."
   ]
  },
  {
   "cell_type": "markdown",
   "metadata": {},
   "source": [
    "# Methodology\n",
    "\n",
    "## Dataset details\n",
    "\n",
    "The dataset discussed below is provided by Dr. David Sholl's group.\n",
    "The corresponding files can be found at the `data` folder.\n",
    "\n",
    "The dataset is composed of three parts:\n",
    "1. **28 MOF features** (under `data/ML_data`),\n",
    "2. **6 adsorbate features** (manually added below), and\n",
    "3. **adsorption uptakes** of **801 (MOF, adsorbate) pairs** (under `data/flexibility_data/y_data/adsorption_data`), containing two values:\n",
    "    1. values from rigid model (serve as a feature)\n",
    "    2. mean values from flexible model (serve as $y$)\n",
    "\n",
    "All features are continuous entries.\n",
    "The dimension of the input is $(801, 28 + 6 + 1) = (801, 35)$.\n",
    "The dimension of the output is $(801, 1)$.\n",
    "\n",
    "\n",
    "## Model training strategy\n",
    "\n",
    "We plan to train 5 models for the proposed problem:\n",
    "\n",
    "1. Multi-linear regression\n",
    "2. RBF kernel regression\n",
    "3. Kernel ridge regression (KRR)\n",
    "4. LASSO regression\n",
    "5. MLPRegressor (neural network)\n",
    "\n",
    "Multi-linear model serves as a baseline model to assess the performance of other models.\n",
    "RBF kernel regression (without regularization) also serves as a baseline model with nonlinearity.\n",
    "These two models were built and tested in the baseline model report.\n",
    "\n",
    "The rest three models are covered in this report.\n",
    "The KRR model is built to show the power of regularization compared with the pure RBF kernel regression model.\n",
    "The LASSO model is built for both multi-linear regression and RBF kernel regression.\n",
    "It can be used to see the impact of complexity optimization on the prediction performance.\n",
    "Finally the MLPRegressor model is built as a representation of the neural network algorithms.\n",
    "Implementing this model is an attempt on models that are not covered in the class and will be tested against other algorithms in the final report.\n",
    "\n",
    "\n",
    "\n",
    "## Model validation strategy\n",
    "\n",
    "Our *new* validation strategy is as follows:\n",
    "1. We first apply hold-out to split 25% of the data as validation set, which would not be modified or changed throughout the training-testing process.\n",
    "2. After hold-out, we then apply 5-fold on the rest 75% data to form five (training set, test set) pairs. \n",
    "Each training set contains 75%\\*80%=60% data, and each test set contains 75%\\*20%=15% data.\n",
    "The same five pairs are used throughout the project for model training and hyperparameter tuning for all models. \n",
    "In this way the training and the tuning processes will be least biased by how the dataset is split into the training and test sets.\n",
    "\n",
    "The 5-fold is implemented based on the following feature of `GridSearchCV`:\n",
    "it can take [CV splitter](https://scikit-learn.org/stable/glossary.html#term-cv-splitter) object as its `cv` argument.\n",
    "Therefore, if we can define a 5-fold CV splitter object beforehand and apply it during the training process for all the models, we can guarantee that the same (training set, test set) pairs are used and no bias is generated by the validation strategy.\n",
    "For models that do not use `GridSearchCV`, an explicit for-loop iterating the five (training set, test set) pairs is used instead, which are generated from the same CV splitter object.\n",
    "\n",
    "\n",
    "In the baseline model report, a relatively simple strategy is used: \n",
    "after hold-out to split 25% of the data as validation set, we applied another hold-out to split the rest data into a single (training set, test set) pair.\n",
    "The latter can be seen as applying a 1-fold.\n",
    "Compared with the current strategy, the previous validation strategy is significantly less robust, as it is highly possible to be affected by the sampling of training/test set, while the 5-fold can alleviate this issue.\n",
    "Therefore, we can expect that the models trained with the new validation strategy will be more stable in terms of prediction quality.\n",
    "\n",
    "The implementation the new validation strategy is shown in Section 4.\n",
    "\n",
    "## Hyperparameter optimization strategy\n",
    "\n",
    "A general hyperparameter optimization strategy is used for all models except for `MLPRegressor`, which is described below:\n",
    "1. rough estimation: for each hyperparameter, a list of value range (typically roughly logarithmically discretized) is given to `GridSearchCV`.\n",
    "`GridSearchCV` searches through the lists for all hyperparameters and returns the best ones.\n",
    "2. refined estimation: for each hyperparameter, a list of value range close to the best value determined in the first step is given to `GridSearchCV`.\n",
    "`GridSearchCV` searches through the lists for all hyperparameters and returns the best ones.\n",
    "\n",
    "This strategy assumes that the loss function is convex over all hyperparameters jointly. \n",
    "This may be not reasonable but it will be well beyond the scope of this course to address this issue, so we apply this strategy for all models except `MLPRegressor`, whose tuning strategy is discussed separately in Section 7.1.\n",
    "\n",
    "\n",
    "## Block diagram of data pipeline and model(s)\n",
    "\n",
    "The block diagram is given below, where the highlighted part is covered in the improved model report.\n",
    "\n",
    "<img src=\"images/block_diagram.png\" width=\"600\">\n",
    "\n",
    "## Software packages\n",
    "\n",
    "All algorithms are imported from `sklearn`.\n",
    "\n",
    "- multi-linear regression: `sklearn.linear_model.LinearRegression`\n",
    "- rbf kernel regression: `sklearn.metrics.pairwise.rbf_kernel`\n",
    "- KRR: `sklearn.kernel_ridge.KernelRidge`\n",
    "- LASSO: `sklearn.linear_model.Lasso`\n",
    "- MLPregressor: `sklearn.neural_network.MLPRegressor`\n",
    "- validation strategy: `sklearn.model_selection.train_test_split`, `sklearn.model_selection.KFold`\n",
    "- hyperparameter tuning: `sklearn.model_selection.GridSearchCV`"
   ]
  },
  {
   "cell_type": "markdown",
   "metadata": {},
   "source": [
    "# Data preprocessing\n",
    "\n",
    "This section is the same as the one in the baseline model report, so no extra explanation or comment is provided here."
   ]
  },
  {
   "cell_type": "code",
   "execution_count": 1,
   "metadata": {},
   "outputs": [],
   "source": [
    "# Preamble for package import and figure formatting\n",
    "\n",
    "import pandas as pd\n",
    "import numpy as np\n",
    "import os\n",
    "import matplotlib.pyplot as plt\n",
    "%matplotlib inline\n",
    "from sklearn.model_selection import train_test_split\n",
    "from sklearn.model_selection import KFold\n",
    "from sklearn.model_selection import GridSearchCV\n",
    "from sklearn.linear_model import Lasso\n",
    "from sklearn.linear_model import LinearRegression\n",
    "from sklearn.kernel_ridge import KernelRidge\n",
    "from sklearn.neural_network import MLPRegressor\n",
    "from sklearn.metrics.pairwise import rbf_kernel\n",
    "\n",
    "from IPython.display import set_matplotlib_formats\n",
    "set_matplotlib_formats('pdf', 'png')\n",
    "plt.rcParams['savefig.dpi'] = 75\n",
    "plt.rcParams['figure.autolayout'] = False\n",
    "plt.rcParams['figure.figsize'] = 10, 6\n",
    "plt.rcParams['axes.labelsize'] = 18\n",
    "plt.rcParams['axes.titlesize'] = 20\n",
    "plt.rcParams['font.size'] = 16\n",
    "plt.rcParams['lines.linewidth'] = 2.0\n",
    "plt.rcParams['lines.markersize'] = 8\n",
    "plt.rcParams['legend.fontsize'] = 14\n",
    "plt.rcParams['font.family'] = \"serif\"\n",
    "plt.rcParams['font.serif'] = \"cm\"\n",
    "# plt.rcParams['text.usetex'] = True\n",
    "# plt.rcParams['text.latex.preamble']= r\"\\usepackage{subdepth}, \\usepackage{type1cm}\""
   ]
  },
  {
   "cell_type": "code",
   "execution_count": 2,
   "metadata": {},
   "outputs": [],
   "source": [
    "# read MOF feature data\n",
    "\n",
    "df36Descriptor = pd.read_excel('data/ML_data/descriptor_used.xlsx',header=4,index_col=1)\n",
    "\n",
    "# clean up the column\n",
    "columns = [df36Descriptor.columns[1]] + df36Descriptor.columns[3: -11].tolist()\n",
    "\n",
    "newColumns = {}\n",
    "for ci in columns:\n",
    "    if ' ' in ci:\n",
    "        newColumns[ci] = ci.split(' ',1)[0]\n",
    "    elif '(' in ci:\n",
    "        newColumns[ci] = ci.split('(',1)[0]\n",
    "    else:\n",
    "        newColumns[ci] = ci\n",
    "\n",
    "dfShortNames = df36Descriptor[columns].rename(columns=newColumns)\n",
    "\n",
    "# reduce columns to only contain MOF features\n",
    "shared_descriptor = [col for col in dfShortNames.columns if col in newColumns]\n",
    "dfMLReduced = dfShortNames[shared_descriptor]"
   ]
  },
  {
   "cell_type": "code",
   "execution_count": 3,
   "metadata": {},
   "outputs": [],
   "source": [
    "# Read adsorption update data\n",
    "\n",
    "# the MOFs in \"dfMLReduced\" and adsorption data sets are different, so it is necessary to match the MOFs in two datasets\n",
    "def datasetMatch(MOFName):\n",
    "    dfML= dfMLReduced[dfMLReduced['MOF'].isin(MOFName)].drop_duplicates()\n",
    "    matchedMOFIndex=np.isin(MOFName, dfML['MOF'].values)\n",
    "    return matchedMOFIndex, dfML\n",
    "\n",
    "# read flexibility data\n",
    "flexibilityList=os.listdir('data/flexibility_data/y_data/adsorption_data') # obtain list of csv files for 9 adsorption uptakes\n",
    "flexivilityData=[]\n",
    "adsorbateNameList = []\n",
    "\n",
    "for i, name in enumerate(flexibilityList):\n",
    "    # read csv files for certain adsorption uptakes\n",
    "    df = pd.read_csv('data/flexibility_data/y_data/adsorption_data/' + name)\n",
    "    \n",
    "    # obtain the rigid value\n",
    "    rigidValue = np.array(df[df.columns[1]], dtype = float)\n",
    "    \n",
    "    # obtain the flexible mean value\n",
    "    flexValue = np.mean(np.array(df[df.columns[2:]],dtype=float),axis=1)\n",
    "    \n",
    "    # obtain the adsorbate label\n",
    "    label = np.array([name.split(\"_\")[1] for x in range(0,len(flexValue))],dtype=str)\n",
    "    adsorbateNameList.append(name.split(\"_\")[1])\n",
    "    \n",
    "    # stack the rigid value, flexible mean value and the adsorbate label\n",
    "    singleSet = np.column_stack([rigidValue,flexValue,label])\n",
    "\n",
    "    if i == 0:\n",
    "        # obtain the name list of MOFs\n",
    "        MOFNameTemp = np.array(df[df.columns[0]], dtype = str)\n",
    "        MOFName = [x.split(\"_\")[0] for x in MOFNameTemp]\n",
    "        \n",
    "        # search the MOF name in \"dfMLReduced\", generating dfML\n",
    "        matchedMOFIndex, dfML = datasetMatch(MOFName)\n",
    "        \n",
    "        # generating flexibilityData as \"y\"\n",
    "        flexibilityData = singleSet[matchedMOFIndex,:].copy()\n",
    "    else:\n",
    "        # concatenate \"y\"\n",
    "        flexibilityData = np.concatenate([flexibilityData.copy(),singleSet[matchedMOFIndex,:].copy()])"
   ]
  },
  {
   "cell_type": "code",
   "execution_count": 4,
   "metadata": {},
   "outputs": [],
   "source": [
    "# manually add adsorbate descriptors\n",
    "\n",
    "# Mw/gr.mol-1, Tc/K, Pc/bar, ω, Tb/K, Tf/K\n",
    "\n",
    "adsorbateData=np.array([\n",
    "    ['xenon',131.293,289.7,58.4,0.008,164.87,161.2], \n",
    "    ['butane',58.1,449.8,39.5,0.3,280.1,146.7], \n",
    "    ['propene',42.1,436.9,51.7,0.2,254.8,150.6], \n",
    "    ['ethane',30.1,381.8,50.3,0.2,184.0,126.2], \n",
    "    ['propane',44.1,416.5,44.6,0.2,230.1,136.5], \n",
    "    ['CO2',44.0,295.9,71.8,0.2,317.4,204.9], \n",
    "    ['ethene',28.054,282.5,51.2,0.089,169.3,228], \n",
    "    ['methane',16.04,190.4,46.0,0.011,111.5,91],\n",
    "    ['krypton',83.798,209.4,55.0,0.005,119.6,115.6]])\n",
    "\n",
    "adDf = pd.DataFrame(data=adsorbateData, columns=[\"adsorbate\", \"Mw/gr.mol-1\", \"Tc/K\", \"Pc/bar\", \"ω\", \"Tb/K\", \"Tf/K\"])\n",
    "\n",
    "# sort the dataframe based on adsorbateNameList\n",
    "sorterIndex = dict(zip(adsorbateNameList,range(len(adsorbateNameList))))\n",
    "adDf['an_Rank'] = adDf['adsorbate'].map(sorterIndex)\n",
    "adDf.sort_values(['an_Rank'],ascending = [True], inplace = True)\n",
    "adDf.drop('an_Rank', 1, inplace = True)\n",
    "adDfFloat = adDf.iloc[:, 1:].astype(np.float)\n",
    "adDfFloat[\"adsorbate\"] = adDf[\"adsorbate\"]"
   ]
  },
  {
   "cell_type": "code",
   "execution_count": 5,
   "metadata": {},
   "outputs": [],
   "source": [
    "## Combine MOF and adsorbate feature data\n",
    "\n",
    "# replicate dfML for 9 adsorbates\n",
    "dfMLReplicate = pd.concat([dfML]*9)\n",
    "\n",
    "# replicate adDf for 89 MOFs\n",
    "adDfReplicate = pd.DataFrame(np.repeat(adDfFloat.values, 89, axis=0))\n",
    "adDfReplicate.columns = adDfFloat.columns\n",
    "\n",
    "# concatenate two datasets\n",
    "dfMLReplicate.reset_index(drop=True, inplace=True)\n",
    "adDfReplicate.reset_index(drop=True, inplace=True)\n",
    "XAllDescriptor = pd.concat([dfMLReplicate, adDfReplicate],axis=1)"
   ]
  },
  {
   "cell_type": "code",
   "execution_count": 6,
   "metadata": {},
   "outputs": [],
   "source": [
    "# generate X and y\n",
    "\n",
    "X = np.concatenate((XAllDescriptor.iloc[:, 1:-1], flexibilityData[:, 0].reshape(-1, 1)),axis=1).astype(np.float)\n",
    "y = flexibilityData[:, 1].astype('float64') .reshape(-1,1)\n",
    "\n",
    "# feature scaling\n",
    "X_scaled = (X - X.mean(axis=0))/X.std(axis=0) "
   ]
  },
  {
   "cell_type": "markdown",
   "metadata": {},
   "source": [
    "# Validation strategy\n",
    "## Hold-out for validation set"
   ]
  },
  {
   "cell_type": "code",
   "execution_count": 54,
   "metadata": {
    "scrolled": false
   },
   "outputs": [],
   "source": [
    "np.random.seed(5)\n",
    "\n",
    "# combine the unscaled and scaled X, so that they can be split together\n",
    "X_combined = np.concatenate((X, X_scaled), axis=1)\n",
    "\n",
    "# ---------------------------- don't touch the validation set ----------------------------\n",
    "X_train_test_combined, X_validation_combined, y_train_test, y_validation = train_test_split(X_combined, \\\n",
    "                                                                                            y, test_size=0.25)\n",
    "X_train_test, X_train_test_scaled = X_train_test_combined[:, :35], X_train_test_combined[:, 35:]\n",
    "X_validation, X_validation_scaled = X_validation_combined[:, :35], X_validation_combined[:, 35:]\n",
    "# ---------------------------- don't touch the validation set ----------------------------"
   ]
  },
  {
   "cell_type": "markdown",
   "metadata": {},
   "source": [
    "## 5-Fold for model training\n",
    "\n",
    "As discussed in Section 2.3, we utilize the feature of `GridSearchCV` applying the same CV-splitter object `kf` for all models for training and hyperparameter optimization, which is defined below."
   ]
  },
  {
   "cell_type": "code",
   "execution_count": 55,
   "metadata": {},
   "outputs": [],
   "source": [
    "# create a CV-splitter object that is used for all models\n",
    "kf = KFold(n_splits=5, shuffle = True, random_state=20)\n",
    "# kf = KFold(n_splits=5, shuffle = True)\n",
    "\n",
    "# for models that cannot use kf, an explicit (train, test) pairs are created\n",
    "for i, (train_index, test_index) in enumerate(kf.split(X_train_test_combined)):\n",
    "    \n",
    "    # initialize sets\n",
    "    if i == 0:\n",
    "        X_train_combined_5fold = np.zeros(X_train_test_combined[train_index].shape + (5,))\n",
    "        X_test_combined_5fold = np.zeros(X_train_test_combined[test_index].shape + (5,))\n",
    "        y_train_5fold = np.zeros(y_train_test[train_index].shape + (5,))\n",
    "        y_test_5fold = np.zeros(y_train_test[test_index].shape + (5,))\n",
    "    \n",
    "    X_train_combined_5fold[:, :, i], X_test_combined_5fold[:, :, i] = X_train_test_combined[train_index], X_train_test_combined[test_index]\n",
    "    y_train_5fold[:, :, i], y_test_5fold[:, :, i] = y_train_test[train_index], y_train_test[test_index]\n",
    "\n",
    "X_train_5fold, X_train_scaled_5fold = X_train_combined_5fold[:, :35], X_train_combined_5fold[:, 35:]\n",
    "X_test_5fold, X_test_scaled_5fold = X_test_combined_5fold[:, :35], X_test_combined_5fold[:, 35:]"
   ]
  },
  {
   "cell_type": "markdown",
   "metadata": {},
   "source": [
    "# Re-implementing RBF kernel regression (without regularization)\n",
    "\n",
    "As mentioned in Section 2.3, we used a single 1-fold validation strategy when training the RBF kernel regression model in the baseline model report.\n",
    "The model obtained $r^2$ = 0.0167 with unscaled data and $r^2$ = 0.3449 with scaled data, both of which are significantly worse than the ones obtained from the multi-linear model.\n",
    "The main reason for the poor performance is that\n",
    "1. The original 1-fold strategy may lead to umbalanced sampling between the training and the testing set, causing poor fitting. This can be avoided by updating the validation strategy.\n",
    "2. The overfitting to training sets is unavoidable. So regularization is necessary for the model.\n",
    "\n",
    "We address the first point by re-implementing the RBF kernel regression using our new validation strategy.\n",
    "For the second point, we would like to compare the results from RBF kernel regression with results from KRR to show the power of regularization in the final report.\n",
    "\n",
    "Since pure RBF kernel regression model cannot directly apply `GridSearchCV`, we manually apply hyperparameter tuning using for-loops. \n",
    "We basically follow the general hyperparameter tuning strategy described in Section 2.4. \n",
    "After the best $\\gamma$ is obtained in the rough estimation for a certain fold, we directly apply refined estimation in that certain fold.\n",
    "The pure RBF kernel model is trained on both the unscaled data and the scaled data.\n",
    "\n",
    "## Regression using unscaled data"
   ]
  },
  {
   "cell_type": "code",
   "execution_count": 56,
   "metadata": {},
   "outputs": [
    {
     "name": "stdout",
     "output_type": "stream",
     "text": [
      "Fold 0:\tr2=0.048,\toptimal gamma=2e+00\n",
      "Fold 1:\tr2=0.314,\toptimal gamma=2e-03\t\t<-best performance\n",
      "Fold 2:\tr2=0.019,\toptimal gamma=2e+02\n",
      "Fold 3:\tr2=0.028,\toptimal gamma=2e+02\n",
      "Fold 4:\tr2=0.021,\toptimal gamma=2e+02\n"
     ]
    }
   ],
   "source": [
    "# 1st round hyperparameter tuning\n",
    "\n",
    "sigmas = np.array([1E-4, 5E-4, 1E-3, 5E-3, 0.01, 0.05, 0.1, 0.5, 1, 5, 10, 15, 20, 25, 30, 40, 50, 60])\n",
    "gammas = 1./(2*sigmas**2)\n",
    "r2_matrix = np.zeros((gammas.size, 3))\n",
    "\n",
    "rbf_r2_list = []\n",
    "rbf_coef_list = []\n",
    "rbf_gamma_list = []\n",
    "\n",
    "for i in range(5):\n",
    "    \n",
    "    rbf_coef_temp_list = [] # temporarily store parameter values for each gamma\n",
    "    \n",
    "    for j, gamma in enumerate(gammas):\n",
    "    \n",
    "        X_train_kernel = rbf_kernel(X_train_5fold[:, :, i], X_train_5fold[:, :, i], gamma = gamma)\n",
    "        X_test_kernel = rbf_kernel(X_test_5fold[:, :, i], X_train_5fold[:, :, i], gamma = gamma)\n",
    "        model_rbf = LinearRegression()\n",
    "        model_rbf.fit(X_train_kernel, y_train_5fold[:, :, i])\n",
    "\n",
    "        r2_matrix[j, 0] = gamma\n",
    "        r2_matrix[j, 1] = model_rbf.score(X_train_kernel, y_train_5fold[:, :, i])\n",
    "        r2_matrix[j, -1] = model_rbf.score(X_test_kernel, y_test_5fold[:, :, i])\n",
    "        \n",
    "        rbf_coef_temp_list.append(model_rbf.coef_)\n",
    "\n",
    "    # For each fold, record the optimal gamma and the corresponding parameter values and r2\n",
    "    n = r2_matrix[:, -1].argmax()\n",
    "    rbf_r2_list.append(r2_matrix[n, -1])\n",
    "    rbf_gamma_list.append(r2_matrix[n, 0])\n",
    "    rbf_coef_list.append(rbf_coef_temp_list[n])\n",
    "\n",
    "\n",
    "best_i = np.array(rbf_r2_list).argmax()\n",
    "rbf_r2_best1 = rbf_r2_list[best_i]\n",
    "rbf_gamma_best = rbf_gamma_list[best_i]\n",
    "rbf_coef_best = rbf_coef_list[best_i]\n",
    "\n",
    "\n",
    "for i in range(5):\n",
    "    if i != best_i:\n",
    "        print(\"Fold {}:\\tr2={:.3f},\\toptimal gamma={:.0e}\".format(i, rbf_r2_list[i], rbf_gamma_list[i]))\n",
    "    else:\n",
    "        print(\"Fold {}:\\tr2={:.3f},\\toptimal gamma={:.0e}\\t\\t<-best performance\".format(i, rbf_r2_list[i], rbf_gamma_list[i]))"
   ]
  },
  {
   "cell_type": "code",
   "execution_count": 57,
   "metadata": {},
   "outputs": [
    {
     "name": "stdout",
     "output_type": "stream",
     "text": [
      "Fold 1:\tr2=0.829,\toptimal gamma=8e-08\n"
     ]
    }
   ],
   "source": [
    "refined_gammmas = np.append(np.logspace(np.log(rbf_gamma_best) - 1, np.log(rbf_gamma_best) + 1, 10), rbf_gamma_best)\n",
    "\n",
    "r2_matrix = np.zeros((gammas.size, 3))\n",
    "rbf_coef_temp_list = []\n",
    "\n",
    "for j, gamma in enumerate(refined_gammmas):\n",
    "\n",
    "    X_train_kernel = rbf_kernel(X_train_5fold[:, :, best_i], X_train_5fold[:, :, best_i], gamma = gamma)\n",
    "    X_test_kernel = rbf_kernel(X_test_5fold[:, :, best_i], X_train_5fold[:, :, best_i], gamma = gamma)\n",
    "    model_rbf = LinearRegression()\n",
    "    model_rbf.fit(X_train_kernel, y_train_5fold[:, :, best_i])\n",
    "\n",
    "    r2_matrix[j, 0] = gamma\n",
    "    r2_matrix[j, 1] = model_rbf.score(X_train_kernel, y_train_5fold[:, :, best_i])\n",
    "    r2_matrix[j, -1] = model_rbf.score(X_test_kernel, y_test_5fold[:, :, best_i])\n",
    "\n",
    "    rbf_coef_temp_list.append(model_rbf.coef_)\n",
    "\n",
    "n = r2_matrix[:, -1].argmax()\n",
    "rbf_refined_r2 = r2_matrix[n, -1]\n",
    "rbf_refined_gamma = r2_matrix[n, 0]\n",
    "rbf_refined_coef = rbf_coef_temp_list[n]\n",
    "\n",
    "print(\"Fold {}:\\tr2={:.3f},\\toptimal gamma={:.0e}\".format(best_i, rbf_refined_r2, rbf_refined_gamma))"
   ]
  },
  {
   "cell_type": "markdown",
   "metadata": {},
   "source": [
    "## Regression using scaled data"
   ]
  },
  {
   "cell_type": "code",
   "execution_count": 58,
   "metadata": {},
   "outputs": [
    {
     "name": "stdout",
     "output_type": "stream",
     "text": [
      "Fold 0:\tr2=0.951,\toptimal gamma=2e-02\t\t<-best performance\n",
      "Fold 1:\tr2=0.082,\toptimal gamma=8e-04\n",
      "Fold 2:\tr2=0.175,\toptimal gamma=2e+00\n",
      "Fold 3:\tr2=0.123,\toptimal gamma=2e+00\n",
      "Fold 4:\tr2=0.504,\toptimal gamma=5e-03\n"
     ]
    }
   ],
   "source": [
    "sigmas = np.array([1E-4, 5E-4, 1E-3, 5E-3, 0.01, 0.05, 0.1, 0.5, 1, 5, 10, 15, 20, 25, 30, 40, 50, 60])\n",
    "gammas = 1./(2*sigmas**2)\n",
    "r2_matrix = np.zeros((gammas.size, 3))\n",
    "\n",
    "rbf_r2_list_scaled = []\n",
    "rbf_coef_list_scaled = []\n",
    "rbf_gamma_list_scaled = []\n",
    "\n",
    "for i in range(5):\n",
    "    \n",
    "    rbf_coef_temp_list = []\n",
    "    \n",
    "    for j, gamma in enumerate(gammas):\n",
    "    \n",
    "        X_train_scaled_kernel = rbf_kernel(X_train_scaled_5fold[:, :, i], X_train_scaled_5fold[:, :, i], gamma = gamma)\n",
    "        X_test_scaled_kernel = rbf_kernel(X_test_scaled_5fold[:, :, i], X_train_scaled_5fold[:, :, i], gamma = gamma)\n",
    "        model_rbf = LinearRegression()\n",
    "        model_rbf.fit(X_train_scaled_kernel, y_train_5fold[:, :, i])\n",
    "\n",
    "        r2_matrix[j, 0] = gamma\n",
    "        r2_matrix[j, 1] = model_rbf.score(X_train_scaled_kernel, y_train_5fold[:, :, i])\n",
    "        r2_matrix[j, -1] = model_rbf.score(X_test_scaled_kernel, y_test_5fold[:, :, i])\n",
    "        \n",
    "        rbf_coef_temp_list.append(model_rbf.coef_)\n",
    "\n",
    "    n = r2_matrix[:, -1].argmax()\n",
    "    rbf_r2_list_scaled.append(r2_matrix[n, -1])\n",
    "    rbf_gamma_list_scaled.append(r2_matrix[n, 0])\n",
    "    rbf_coef_list_scaled.append(rbf_coef_temp_list[n])\n",
    "\n",
    "\n",
    "best_i = np.array(rbf_r2_list_scaled).argmax()\n",
    "rbf_r2_best_scaled = rbf_r2_list_scaled[best_i]\n",
    "rbf_gamma_best_scaled = rbf_gamma_list_scaled[best_i]\n",
    "rbf_coef_best_scaled = rbf_coef_list_scaled[best_i]\n",
    "\n",
    "for i in range(5):\n",
    "    if i != best_i:\n",
    "        print(\"Fold {}:\\tr2={:.3f},\\toptimal gamma={:.0e}\".format(i, rbf_r2_list_scaled[i], rbf_gamma_list_scaled[i]))\n",
    "    else:\n",
    "        print(\"Fold {}:\\tr2={:.3f},\\toptimal gamma={:.0e}\\t\\t<-best performance\".format(i, rbf_r2_list_scaled[i], rbf_gamma_list_scaled[i]))"
   ]
  },
  {
   "cell_type": "code",
   "execution_count": 59,
   "metadata": {},
   "outputs": [
    {
     "name": "stdout",
     "output_type": "stream",
     "text": [
      "Fold 0:\tr2=0.951,\toptimal gamma=2e-02\n"
     ]
    }
   ],
   "source": [
    "scaled_refined_gammmas = np.append(np.logspace(np.log(rbf_gamma_best_scaled) - 1, np.log(rbf_gamma_best_scaled) + 1, 10), rbf_gamma_best_scaled)\n",
    "r2_matrix = np.zeros((scaled_refined_gammmas.size, 3))\n",
    "rbf_coef_temp_list = []\n",
    "\n",
    "for j, gamma in enumerate(scaled_refined_gammmas):\n",
    "\n",
    "    X_train_scaled_kernel = rbf_kernel(X_train_scaled_5fold[:, :, best_i], X_train_scaled_5fold[:, :, best_i], gamma = gamma)\n",
    "    X_test_scaled_kernel = rbf_kernel(X_test_scaled_5fold[:, :, best_i], X_train_scaled_5fold[:, :, best_i], gamma = gamma)\n",
    "    model_rbf = LinearRegression()\n",
    "    model_rbf.fit(X_train_scaled_kernel, y_train_5fold[:, :, best_i])\n",
    "\n",
    "    r2_matrix[j, 0] = gamma\n",
    "    r2_matrix[j, 1] = model_rbf.score(X_train_scaled_kernel, y_train_5fold[:, :, best_i])\n",
    "    r2_matrix[j, -1] = model_rbf.score(X_test_scaled_kernel, y_test_5fold[:, :, best_i])\n",
    "\n",
    "    rbf_coef_temp_list.append(model_rbf.coef_)\n",
    "\n",
    "n = r2_matrix[:, -1].argmax()\n",
    "rbf_refined_r2 = r2_matrix[n, -1]\n",
    "rbf_refined_gamma = r2_matrix[n, 0]\n",
    "# rbf_refined_coef = rbf_coef_temp_list[n]\n",
    "\n",
    "print(\"Fold {}:\\tr2={:.3f},\\toptimal gamma={:.0e}\".format(best_i, rbf_refined_r2, rbf_refined_gamma))"
   ]
  },
  {
   "cell_type": "markdown",
   "metadata": {},
   "source": [
    "## Discussion\n",
    "\n",
    "By upating the validation strategy, we managed to significantly improve the performance of the pure RBF kernel regression model):\n",
    "\n",
    "|       $r^2$      | original validation strategy | new validation strategy |\n",
    "|:-------------:|------------------------------|-------------------------|\n",
    "| unscaled data |             0.017            |          0.829          |\n",
    "| scaled data   |             0.345            |          0.951          |\n",
    "\n",
    "However, it is worth noting that RBF kernel regression is not a stable method for the dataset. \n",
    "The hyperparameter tuning processes above show that the model performs poorly for some folds of the train-test sets, and is only good for certain folds, indicating that the model is very sensitive to the split of the train-test sets.\n",
    "When the `random_state` argument of `kf` is changed, it is observed that the performance of the model is changing drastically and the $r^2$ values may not be as good as the ones in the table (although they are still better than the one obtained using the original validation strategy).\n",
    "This shows the necessity of involving regularization into the model, which motivates the implementation of KRR models in the next section."
   ]
  },
  {
   "cell_type": "markdown",
   "metadata": {},
   "source": [
    "# Kernel ridge regression (KRR)\n",
    "\n",
    "Regularization is especially important in non-parametric models. In order to avoid over-fitting the model, penalizing models that change very sharply is necessary. By adding a penalty for very large parameters in the loss function, the error of the model is kept small while the size of the parameters is also kept small. By using a kernel and regularize on the sum of squared parameters it is called Kernel Ridge Regression, or KRR. In this project, we use **radial basis function** as the kernel in KRR. The loss function for KRR is as follows:\n",
    "\n",
    "$$\\mathcal{L}_\\text{KRR}  = \\sum_i \\varepsilon_i^2 + \\alpha ||\\vec{w}||_2$$\n",
    "\n",
    "## Hyperparameter tuning strategy\n",
    "\n",
    "There are two main hyperparameters in the KRR:\n",
    "1. $\\alpha$, which controls the strength of regularization\n",
    "2. $\\gamma$ in the RBF:\n",
    "$$\\operatorname{rbf}(x_i, x_j) = \\exp (-\\gamma (x_i - x_j)^2),$$ \n",
    "or \n",
    "$$\\gamma = \\frac{1}{2\\sigma^2},$$ \n",
    "where $\\sigma$ is the width of the Gaussian function:\n",
    "$G(x_i) = \\exp\\left(\\frac{-(x_i - \\mu)^2}{2\\sigma^2}\\right)$.\n",
    "\n",
    "When the hyperparameters are tuned, gammas of different orders of magnitude are looped through. `GridSearchCV` is then used to find out the alpha of different orders of magnitude which produces the highest r square value for a given gamma. \n",
    "`GridSearchCV` is called two times to refine the hyperparameters. In the second round of tuning, the range of alpha and gamma is limited to 0.5~5\\*optimal value in the first round.\n",
    "\n",
    "## Regression using unscaled data"
   ]
  },
  {
   "cell_type": "code",
   "execution_count": 13,
   "metadata": {},
   "outputs": [
    {
     "name": "stdout",
     "output_type": "stream",
     "text": [
      "Highest r2=0.963,\toptimal gamma=1e-04,\toptimal alpha=1e-03\n"
     ]
    }
   ],
   "source": [
    "sigmas = np.array([1E-4, 5E-4, 1E-3, 5E-3, 0.01, 0.05, 0.1, 0.5, 1, 5, 10, 15, 20, 25, 30, 40, 50, 60])\n",
    "gammas = 1./(2*sigmas**2)\n",
    "alphas = np.array([1e-5, 1e-4, 1e-3, 1e-2, 1e-1, 1, 10, 100])\n",
    "parameter_ranges = {'alpha':alphas}\n",
    "\n",
    "KRR_r2_test_list = []\n",
    "KRR_coef_list = []\n",
    "KRR_gamma_list = []\n",
    "KRR_alpha_list = []\n",
    "\n",
    "for gamma in gammas:\n",
    "    KRR = KernelRidge(kernel='rbf',gamma=gamma)\n",
    "    KRR_search = GridSearchCV(KRR, parameter_ranges, cv=kf)\n",
    "    KRR_search.fit(X_train_test, y_train_test)\n",
    "    KRR_r2_test_list.append(KRR_search.best_score_)\n",
    "    KRR_gamma_list.append(KRR_search.best_estimator_.gamma)\n",
    "    KRR_alpha_list.append(KRR_search.best_estimator_.alpha)\n",
    "    KRR_coef_list.append(KRR_search.best_estimator_.dual_coef_)\n",
    "    \n",
    "best_i = np.array(KRR_r2_test_list).argmax()\n",
    "KRR_r2_best_1= KRR_r2_test_list[best_i]\n",
    "KRR_gamma_best_1 = KRR_gamma_list[best_i]\n",
    "KRR_alpha_best_1 = KRR_alpha_list[best_i]\n",
    "KRR_coef_best_1 = KRR_coef_list[best_i]\n",
    "\n",
    "print(\"Highest r2={:.3f},\\toptimal gamma={:.0e},\\toptimal alpha={:.0e}\".format(KRR_r2_test_list[best_i], KRR_gamma_best_1, KRR_alpha_best_1))"
   ]
  },
  {
   "cell_type": "markdown",
   "metadata": {},
   "source": [
    "In the first round of the hyperparameter tuning, r2 score is high, indicating good performance of the model. "
   ]
  },
  {
   "cell_type": "code",
   "execution_count": 14,
   "metadata": {},
   "outputs": [
    {
     "name": "stdout",
     "output_type": "stream",
     "text": [
      "Highest r2=0.969,\toptimal gamma=7e-05,\toptimal alpha=8e-04\n"
     ]
    }
   ],
   "source": [
    "#Second interation with smaller range of alphas and gammas\n",
    "gammas = np.array([KRR_gamma_best_1*0.5,KRR_gamma_best_1*0.75,KRR_gamma_best_1,KRR_gamma_best_1*2.5,KRR_gamma_best_1*5])\n",
    "alphas = np.array([KRR_alpha_best_1*0.5,KRR_alpha_best_1*0.75,KRR_alpha_best_1,KRR_alpha_best_1*2.5,KRR_alpha_best_1*5])\n",
    "parameter_ranges = {'alpha':alphas}\n",
    "\n",
    "KRR_r2_test_list = []\n",
    "KRR_coef_list = []\n",
    "KRR_gamma_list = []\n",
    "KRR_alpha_list = []\n",
    "    \n",
    "for gamma in gammas:\n",
    "    KRR = KernelRidge(kernel='rbf',gamma=gamma)\n",
    "    KRR_search = GridSearchCV(KRR, parameter_ranges, cv=kf)\n",
    "    KRR_search.fit(X_train_test, y_train_test)\n",
    "    KRR_r2_test_list.append(KRR_search.best_score_)\n",
    "    KRR_gamma_list.append(KRR_search.best_estimator_.gamma)\n",
    "    KRR_alpha_list.append(KRR_search.best_estimator_.alpha)\n",
    "    KRR_coef_list.append(KRR_search.best_estimator_.dual_coef_) \n",
    "    \n",
    "best_i = np.array(KRR_r2_test_list).argmax()\n",
    "KRR_r2_best_2= KRR_r2_test_list[best_i]\n",
    "KRR_gamma_best = KRR_gamma_list[best_i]\n",
    "KRR_alpha_best = KRR_alpha_list[best_i]\n",
    "KRR_coef_best = KRR_coef_list[best_i]\n",
    "\n",
    "print(\"Highest r2={:.3f},\\toptimal gamma={:.0e},\\toptimal alpha={:.0e}\".format(KRR_r2_test_list[best_i], KRR_gamma_best, KRR_alpha_best))"
   ]
  },
  {
   "cell_type": "markdown",
   "metadata": {},
   "source": [
    "In the second round of the hyperparameter tuning, the optimal values of gamma and alpha are different. We don't see a significant improvement in r2 scores, but in the first round the models are already well-performed.\n",
    "\n",
    "## Regression using scaled data with hyperparameter tuning"
   ]
  },
  {
   "cell_type": "code",
   "execution_count": 16,
   "metadata": {},
   "outputs": [
    {
     "name": "stdout",
     "output_type": "stream",
     "text": [
      "Highest r2=0.987,\toptimal gamma=5e-03,\toptimal alpha=1e-03\n"
     ]
    }
   ],
   "source": [
    "#Regression with scaled data\n",
    "#GridSearchCV alpha iterate gamma\n",
    "\n",
    "sigmas = np.array([1E-4, 5E-4, 1E-3, 5E-3, 0.01, 0.05, 0.1, 0.5, 1, 5, 10, 15, 20, 25, 30, 40, 50, 60])\n",
    "gammas = 1./(2*sigmas**2)\n",
    "alphas = np.array([1e-5, 1e-4, 1e-3, 1e-2, 1e-1, 1, 10, 100])\n",
    "parameter_ranges = {'alpha':alphas}\n",
    "\n",
    "KRR_r2_test_scaled_list = []\n",
    "KRR_coef_scaled_list = []\n",
    "KRR_gamma_scaled_list = []\n",
    "KRR_alpha_scaled_list = []\n",
    "\n",
    "for gamma in gammas:\n",
    "    KRR = KernelRidge(kernel='rbf',gamma=gamma)\n",
    "    KRR_search = GridSearchCV(KRR, parameter_ranges, cv=kf)\n",
    "    KRR_search.fit(X_train_test_scaled, y_train_test)\n",
    "    KRR_r2_test_scaled_list.append(KRR_search.best_score_)\n",
    "    KRR_gamma_scaled_list.append(KRR_search.best_estimator_.gamma)\n",
    "    KRR_alpha_scaled_list.append(KRR_search.best_estimator_.alpha)\n",
    "    KRR_coef_scaled_list.append(KRR_search.best_estimator_.dual_coef_)    \n",
    "\n",
    "    \n",
    "best_i = np.array(KRR_r2_test_scaled_list).argmax()\n",
    "KRR_r2_best_scaled1= KRR_r2_test_scaled_list[best_i]\n",
    "KRR_gamma_best_scaled_1 = KRR_gamma_scaled_list[best_i]\n",
    "KRR_alpha_best_scaled_1 = KRR_alpha_scaled_list[best_i]\n",
    "KRR_coef_best_scaled_1 = KRR_coef_scaled_list[best_i]\n",
    "\n",
    "print(\"Highest r2={:.3f},\\toptimal gamma={:.0e},\\toptimal alpha={:.0e}\".format(KRR_r2_test_scaled_list[best_i], KRR_gamma_best_scaled_1, KRR_alpha_best_scaled_1))\n"
   ]
  },
  {
   "cell_type": "markdown",
   "metadata": {},
   "source": [
    "By using scaled data for regression, the r square score is able to improve compared with the model using unscaled data."
   ]
  },
  {
   "cell_type": "code",
   "execution_count": 17,
   "metadata": {},
   "outputs": [
    {
     "name": "stdout",
     "output_type": "stream",
     "text": [
      "Highest r2=0.987,\toptimal gamma=5e-03,\toptimal alpha=3e-03\n"
     ]
    }
   ],
   "source": [
    "#second interation with smaller range of alphas and gammas\n",
    "\n",
    "gammas = np.array([KRR_gamma_best_scaled_1*0.5,KRR_gamma_best_scaled_1*0.75,KRR_gamma_best_scaled_1,KRR_gamma_best_scaled_1*2.5,KRR_gamma_best_scaled_1*5])\n",
    "alphas = np.array([KRR_alpha_best_scaled_1*0.5,KRR_alpha_best_scaled_1*0.75,KRR_alpha_best_scaled_1,KRR_alpha_best_scaled_1*2.5,KRR_alpha_best_scaled_1*5])\n",
    "parameter_ranges = {'alpha':alphas}\n",
    "\n",
    "KRR_r2_test_scaled_list = []\n",
    "KRR_coef_scaled_list = []\n",
    "KRR_gamma_scaled_list = []\n",
    "KRR_alpha_scaled_list = []\n",
    "\n",
    "for gamma in gammas:\n",
    "    KRR = KernelRidge(kernel='rbf',gamma=gamma)\n",
    "    KRR_search = GridSearchCV(KRR, parameter_ranges, cv=kf)\n",
    "    KRR_search.fit(X_train_test_scaled, y_train_test)\n",
    "    KRR_r2_test_scaled_list.append(KRR_search.best_score_)\n",
    "    KRR_gamma_scaled_list.append(KRR_search.best_estimator_.gamma)\n",
    "    KRR_alpha_scaled_list.append(KRR_search.best_estimator_.alpha)\n",
    "    KRR_coef_scaled_list.append(KRR_search.best_estimator_.dual_coef_)    \n",
    "\n",
    "    \n",
    "best_i = np.array(KRR_r2_test_scaled_list).argmax()\n",
    "KRR_r2_best_scaled2= KRR_r2_test_scaled_list[best_i]\n",
    "KRR_gamma_best_scaled = KRR_gamma_scaled_list[best_i]\n",
    "KRR_alpha_best_scaled = KRR_alpha_scaled_list[best_i]\n",
    "KRR_coef_best_scaled = KRR_coef_scaled_list[best_i]\n",
    "\n",
    "print(\"Highest r2={:.3f},\\toptimal gamma={:.0e},\\toptimal alpha={:.0e}\".format(KRR_r2_test_scaled_list[best_i], KRR_gamma_best_scaled, KRR_alpha_best_scaled))"
   ]
  },
  {
   "cell_type": "markdown",
   "metadata": {},
   "source": [
    "After the search range of the hyperparameters is refined, the optimal values change a little bit，but the $r^2$ value remains nearly the same.\n",
    "\n",
    "To avoid overfitting, smoother models are preferred. We look at how using different input data (unscaled and scaled) affects the size and distribution of the coefficients in KRR models. Histograms are drawn and the largest absolute values of the coefficients in KRR using unscaled and scaled data are printed below."
   ]
  },
  {
   "cell_type": "code",
   "execution_count": 19,
   "metadata": {},
   "outputs": [
    {
     "name": "stdout",
     "output_type": "stream",
     "text": [
      "The model using unscaled data has 600 coefficients.\n",
      "The largest coefficient is 2994.760.\n"
     ]
    },
    {
     "data": {
      "application/pdf": "[encoded data removed]",
      "image/png": "[encoded data removed]",
      "text/plain": [
       "<Figure size 432x288 with 1 Axes>"
      ]
     },
     "metadata": {
      "needs_background": "light"
     },
     "output_type": "display_data"
    }
   ],
   "source": [
    "print('The model using unscaled data has {} coefficients.'.format(len(KRR_coef_best)))\n",
    "\n",
    "fig, ax = plt.subplots()\n",
    "ax.hist(KRR_coef_best)\n",
    "print('The largest coefficient is {:.3f}.'.format(max(abs(KRR_coef_best))[0]));\n",
    "KRR_largest_coef=max(abs(KRR_coef_best))[0]"
   ]
  },
  {
   "cell_type": "code",
   "execution_count": 20,
   "metadata": {},
   "outputs": [
    {
     "name": "stdout",
     "output_type": "stream",
     "text": [
      "The model using scaled data has 600 coefficients.\n",
      "The largest coefficient is 380.267.\n"
     ]
    },
    {
     "data": {
      "application/pdf": "[encoded data removed]",
      "image/png": "[encoded data removed]",
      "text/plain": [
       "<Figure size 432x288 with 1 Axes>"
      ]
     },
     "metadata": {
      "needs_background": "light"
     },
     "output_type": "display_data"
    }
   ],
   "source": [
    "print('The model using scaled data has {} coefficients.'.format(len(KRR_coef_best_scaled)))\n",
    "\n",
    "fig, ax = plt.subplots()\n",
    "ax.hist(KRR_coef_best_scaled)\n",
    "print('The largest coefficient is {:.3f}.'.format(max(abs(KRR_coef_best_scaled))[0]));\n",
    "KRR_largest_coef_scaled=max(abs(KRR_coef_best_scaled))[0]"
   ]
  },
  {
   "cell_type": "markdown",
   "metadata": {},
   "source": [
    "The coefficients are normally distributed for two models. The values of coefficients in KRR models, which include regularization terms in the loss function, are in a reasonable range. One thing to notice is that the size of the coefficients is one order of magnitude smaller after scaling the data by comparing the largest coefficient in the model. This indicates that KRR using scaled data is more likely to be not overfitted with high accuracy."
   ]
  },
  {
   "cell_type": "markdown",
   "metadata": {},
   "source": [
    "# LASSO regression\n",
    "Lasso regression is a type of linear regression that uses shrinkage. LASSO is the abbreviation of Least Absolute Shrinkage and Selection Operator. \n",
    "This particular type of regression is well-suited for models showing high levels of muticollinearity or to automate certain parts of model selection, such as parameter elimination. \n",
    "As we have been taught during the lecture, the loss function for LASSO is defined as:\n",
    "\n",
    "$$L_\\text{LASSO} = \\sum_i {\\varepsilon_i}^2 + \\alpha ||\\vec{w}||_1$$\n",
    "\n",
    "Despite the fact that our multi-linear model works very well, overfitting may still be a big issue. \n",
    "Parameter regularization is therefore an effectively way to avoid such complexity.\n",
    "\n",
    "Herein, we introduce Lasso Regression based on the follow reasons:\n",
    "1. Overfitting issue from our baseline model should be resolved.\n",
    "2. Dropping some unimportant features and simplify our model. \n",
    "\n",
    "Because our multi-linear model has very good performance, the first part is Lasso regularization combined with multi-linear model which has 35 features. The second part of Lasso regularization has different input, which is rbf kernel matrix, to see if Lasso regression improves the poor performance of rbf kernel in our baseline model (even though very unlikely).\n",
    "\n",
    "## LASSO multi-linear regression\n",
    "### Regression using unscaled Data"
   ]
  },
  {
   "cell_type": "code",
   "execution_count": 21,
   "metadata": {},
   "outputs": [
    {
     "name": "stdout",
     "output_type": "stream",
     "text": [
      "Best alpha is: 1.0\n",
      "r square is: 0.9532856275794167\n",
      "Number of dropped features: 28\n",
      "\n",
      "====== Second GridSearchCV Refinement ======\n",
      "\n",
      "[0.92556555 0.96850343 0.95574649 0.95500959 0.9541893  0.95328563\n",
      " 0.93968123 0.91786376 0.84949036 0.53612941]\n",
      "Best alpha is: 0.5\n",
      "r square is: 0.9685034288939386\n",
      "Number of dropped features: 29\n"
     ]
    }
   ],
   "source": [
    "alphas = np.array([1e-5, 1e-4, 1e-3, 1e-2, 1e-1, 1, 10, 100])\n",
    "\n",
    "parameter_set = {'alpha':alphas}\n",
    "\n",
    "LASSO = Lasso(tol=1)\n",
    "LASSO_search = GridSearchCV(LASSO, parameter_set, cv =kf)\n",
    "LASSO_search.fit(X_train_test, y_train_test)\n",
    "\n",
    "\n",
    "best_alpha = LASSO_search.best_estimator_.alpha\n",
    "r_2 = LASSO_search.best_score_\n",
    "coeffs = LASSO_search.best_estimator_.coef_\n",
    "nonzero = [f for f in np.isclose(coeffs,0) if f == True]\n",
    "num_dropped = len(nonzero)\n",
    "\n",
    "r2s_alpha = LASSO_search.cv_results_['mean_test_score']\n",
    "\n",
    "\n",
    "print('Best alpha is: {}'.format(best_alpha))\n",
    "print('r square is: {}'.format(r_2))\n",
    "print('Number of dropped features: {}'.format(num_dropped))\n",
    "\n",
    "#Second refinement\n",
    "print('\\n====== Second GridSearchCV Refinement ======\\n')\n",
    "\n",
    "alphas_fine = np.array([0.1, 0.5, 0.7, 0.8, 0.9, 1, 2, 3, 5, 10])\n",
    "\n",
    "parameter_set = {'alpha':alphas_fine}\n",
    "\n",
    "LASSO = Lasso(tol=1)\n",
    "LASSO_search = GridSearchCV(LASSO, parameter_set, cv =kf)\n",
    "LASSO_search.fit(X_train_test, y_train_test)\n",
    "\n",
    "best_alpha = LASSO_search.best_estimator_.alpha\n",
    "r_2 = LASSO_search.best_score_\n",
    "coeffs = LASSO_search.best_estimator_.coef_\n",
    "nonzero = [f for f in np.isclose(coeffs,0) if f == True]\n",
    "num_dropped = len(nonzero)\n",
    "    \n",
    "r2s_alpha_fine = LASSO_search.cv_results_['mean_test_score']\n",
    "print(r2s_alpha_fine)\n",
    "    \n",
    "print('Best alpha is: {}'.format(best_alpha))\n",
    "print('r square is: {}'.format(r_2))\n",
    "print('Number of dropped features: {}'.format(num_dropped))"
   ]
  },
  {
   "cell_type": "code",
   "execution_count": 22,
   "metadata": {},
   "outputs": [
    {
     "data": {
      "text/plain": [
       "Text(0, 0.5, 'score')"
      ]
     },
     "execution_count": 22,
     "metadata": {},
     "output_type": "execute_result"
    },
    {
     "data": {
      "application/pdf": "[encoded data removed]",
      "image/png": "[encoded data removed]",
      "text/plain": [
       "<Figure size 936x432 with 2 Axes>"
      ]
     },
     "metadata": {
      "needs_background": "light"
     },
     "output_type": "display_data"
    }
   ],
   "source": [
    "fig, axes = plt.subplots(1, 2, figsize=(13, 6))\n",
    "\n",
    "axes[0].plot(alphas, r2s_alpha, alpha=1)\n",
    "axes[0].set_xlabel('alpha')\n",
    "axes[0].set_ylabel('score')\n",
    "axes[0].set_xscale('log')\n",
    "axes[0].set_xlim(5e-5, 2e2)\n",
    "\n",
    "axes[1].plot(alphas_fine, r2s_alpha_fine, alpha=1)\n",
    "axes[1].set_xlabel('alpha')\n",
    "axes[1].set_ylabel('score')"
   ]
  },
  {
   "cell_type": "markdown",
   "metadata": {},
   "source": [
    "Considering the trade-off between precision and model simplification. \n",
    "The goal of this work is to predict the gas uptate by feature of MOFs and adsorbates with very high accuracy. \n",
    "But from experimental aspect, it is definitely much more convenient if a relatively small amount of descriptors could sufficiently predict gas uptakes since features could be difficult and time-consuming to be obtained experimentally. Consequently, the above $r_{square}$ vs. $\\alpha$ figures is plotted to demonstrate alpha optimization.\n",
    "\n",
    "$r^2$ vs. $\\alpha$ plots (left: broad scan; right: finer scan) show that if $\\alpha$ is too large, important features are ignored and thus causes extremely low or even negative $r^2$. This is reasonable because extreme regularization means that no regression is applied (first term of the loss function neglected). In our case, we want $\\alpha$ as large as possible without sacrifices $r^2$. From our result, optimal $\\alpha$ is 0.5.\n",
    "\n",
    "### Regression using scaled Data"
   ]
  },
  {
   "cell_type": "code",
   "execution_count": 23,
   "metadata": {},
   "outputs": [
    {
     "name": "stdout",
     "output_type": "stream",
     "text": [
      "Best alpha is: 1.0\n",
      "r square is: 0.8859648318747583\n",
      "Number of dropped features: 33\n",
      "\n",
      "====== Second GridSearchCV Refinement ======\n",
      "\n",
      "Best alpha is: 0.5\n",
      "r square is: 0.9044343072962865\n",
      "Number of dropped features: 32\n",
      "[ 1.57286766 -0.          0.         -0.          0.         -0.\n",
      " -0.         -0.          0.         -0.          0.          0.\n",
      "  0.          0.          0.         -0.          0.         -0.\n",
      " -0.         -0.         -0.         -0.          0.         -0.\n",
      "  0.          0.         -0.          0.         -0.         -0.\n",
      "  0.23595851  0.          0.          0.          2.17996085]\n"
     ]
    }
   ],
   "source": [
    "alphas = np.array([1e-5, 1e-4, 1e-3, 1e-2, 1e-1, 1, 10, 100])\n",
    "\n",
    "parameter_set = {'alpha':alphas}\n",
    "\n",
    "LASSO = Lasso(tol=1)\n",
    "LASSO_search = GridSearchCV(LASSO, parameter_set, cv =kf)\n",
    "LASSO_search.fit(X_train_test_scaled, y_train_test)\n",
    "                     \n",
    "best_alpha = LASSO_search.best_estimator_.alpha\n",
    "r_2 = LASSO_search.best_score_\n",
    "coeffs = LASSO_search.best_estimator_.coef_\n",
    "nonzero = [f for f in np.isclose(coeffs,0) if f == True]\n",
    "num_dropped = len(nonzero)\n",
    "\n",
    "r2s_alpha = LASSO_search.cv_results_['mean_test_score']\n",
    "\n",
    "    \n",
    "print('Best alpha is: {}'.format(best_alpha))\n",
    "print('r square is: {}'.format(r_2))\n",
    "print('Number of dropped features: {}'.format(num_dropped))\n",
    "\n",
    "#Second refinement\n",
    "print('\\n====== Second GridSearchCV Refinement ======\\n')\n",
    "\n",
    "alphas_fine = np.array([0.1, 0.5, 0.7, 0.8, 0.9, 1, 2, 3, 5, 10])\n",
    "\n",
    "parameter_set = {'alpha':alphas_fine}\n",
    "\n",
    "LASSO = Lasso(tol=1)\n",
    "LASSO_search = GridSearchCV(LASSO, parameter_set, cv =kf)\n",
    "LASSO_search.fit(X_train_test_scaled, y_train_test)\n",
    "                     \n",
    "best_alpha = LASSO_search.best_estimator_.alpha\n",
    "r_2 = LASSO_search.best_score_\n",
    "coeffs = LASSO_search.best_estimator_.coef_\n",
    "nonzero = [f for f in np.isclose(coeffs,0) if f == True]\n",
    "num_dropped = len(nonzero)\n",
    "\n",
    "r2s_alpha_fine = LASSO_search.cv_results_['mean_test_score']\n",
    "    \n",
    "print('Best alpha is: {}'.format(best_alpha))\n",
    "print('r square is: {}'.format(r_2))\n",
    "print('Number of dropped features: {}'.format(num_dropped))\n",
    "print(coeffs)"
   ]
  },
  {
   "cell_type": "code",
   "execution_count": 24,
   "metadata": {},
   "outputs": [
    {
     "data": {
      "text/plain": [
       "Text(0, 0.5, 'score')"
      ]
     },
     "execution_count": 24,
     "metadata": {},
     "output_type": "execute_result"
    },
    {
     "data": {
      "application/pdf": "[encoded data removed]",
      "image/png": "[encoded data removed]",
      "text/plain": [
       "<Figure size 936x432 with 2 Axes>"
      ]
     },
     "metadata": {
      "needs_background": "light"
     },
     "output_type": "display_data"
    }
   ],
   "source": [
    "fig, axes = plt.subplots(1, 2, figsize=(13, 6))\n",
    "\n",
    "axes[0].plot(alphas, r2s_alpha, alpha=1)\n",
    "axes[0].set_xlabel('alpha')\n",
    "axes[0].set_ylabel('score')\n",
    "axes[0].set_xscale('log')\n",
    "axes[0].set_xlim(5e-5, 2e2)\n",
    "\n",
    "axes[1].plot(alphas_fine, r2s_alpha_fine, alpha=1)\n",
    "axes[1].set_xlabel('alpha')\n",
    "axes[1].set_ylabel('score')"
   ]
  },
  {
   "cell_type": "markdown",
   "metadata": {},
   "source": [
    "After rescaling $X$ matrix across data points, surprisingly, the performance of the model became slightly worse. But generally, multi-linear Lasso regression is a good approach to shrink and largely simplify descriptors the with high accuracy (32 features are dropped based on the result, only two features are really important). This is a very exciting result that we can only use 3 most important features to describe gas uptakes for most of the cases!\n",
    "\n",
    "The 3 most important features are: \n",
    "- $V_{f}$, accessible pore volume per unit cell of MOF;\n",
    "- $P_{c}$, critical pressure (bar) of absorbate (related to the equation of state of real gas), and \n",
    "- gas uptake obtained from the rigid structure.\n",
    "\n",
    "This makes sense as they come from three separate data sets.\n",
    "\n",
    "We may further explore potential benefits of feature engineering in the final report.\n",
    "\n",
    "## LASSO Regression with RBF Kernel\n",
    "### Regression Using Unscaled Data"
   ]
  },
  {
   "cell_type": "code",
   "execution_count": 25,
   "metadata": {},
   "outputs": [
    {
     "name": "stdout",
     "output_type": "stream",
     "text": [
      "Best gamma is: 5e-03\n",
      "Best alpha is: 1e-03\n",
      "r square is: 0.445\n",
      "Number of dropped features: 92.0\n",
      "\n",
      "====== Second GridSearchCV Refinement ======\n",
      "\n",
      "Best gamma is: 3e-03\n",
      "Best alpha is: 8e-04\n",
      "r square is: 0.453\n",
      "Number of dropped features: 71.0\n"
     ]
    }
   ],
   "source": [
    "sigmas = np.array([1E-4, 5E-4, 1E-3, 5E-3, 0.01, 0.05, 0.1, 0.5, 1, 5, 10, 15, 20, 25, 30, 40, 50, 60])\n",
    "gammas = 1./(2*sigmas**2)\n",
    "r2_matrix = np.zeros((gammas.size, 4))\n",
    "\n",
    "alphas = np.array([1e-5, 1e-4, 1e-3, 1e-2, 1e-1, 1, 10, 100])\n",
    "parameter_set = {'alpha':alphas}\n",
    "\n",
    "     \n",
    "for j, gamma in enumerate(gammas):\n",
    "    \n",
    "    X_train_kernel = rbf_kernel(X_train_test, X_train_test, gamma = gamma)\n",
    "        \n",
    "    LASSO = Lasso(tol=1)\n",
    "    LASSO_search = GridSearchCV(LASSO, parameter_set, cv =kf)\n",
    "    LASSO_search.fit(X_train_kernel, y_train_test)\n",
    "\n",
    "    r2_matrix[j, 0] = gamma\n",
    "    r2_matrix[j, 1] = LASSO_search.best_estimator_.alpha\n",
    "    r2_matrix[j, 2] = LASSO_search.best_score_\n",
    "    coeffs = LASSO_search.best_estimator_.coef_\n",
    "    nonzero = [f for f in np.isclose(coeffs,0) if f == True]\n",
    "    num_dropped = len(nonzero)\n",
    "    r2_matrix[j, -1] = int(num_dropped)\n",
    "        \n",
    "n = r2_matrix[:, 2].argmax()\n",
    "# print(r2_matrix)\n",
    "\n",
    "print('Best gamma is: {:.0e}'.format(r2_matrix[n,0]))\n",
    "print('Best alpha is: {:.0e}'.format(r2_matrix[n,1]))\n",
    "print('r square is: {:.3f}'.format(r2_matrix[n,2]))\n",
    "print('Number of dropped features: {}'.format(r2_matrix[n,-1]))\n",
    "\n",
    "\n",
    "#Second refinement\n",
    "print('\\n====== Second GridSearchCV Refinement ======\\n')\n",
    "\n",
    "sigmas = np.array([5, 6, 7, 8, 9, 10, 11, 12, 13, 14, 15])\n",
    "gammas = 1./(2*sigmas**2)\n",
    "r2_matrix = np.zeros((gammas.size, 4))\n",
    "\n",
    "alphas = np.array([1e-4, 5e-4, 8e-4, 9e-4, 1e-3, 2e-3, 3e-3, 5e-3, 7e-3])\n",
    "parameter_set = {'alpha':alphas}\n",
    "\n",
    "     \n",
    "for j, gamma in enumerate(gammas):\n",
    "    \n",
    "    X_train_kernel = rbf_kernel(X_train_test, X_train_test, gamma = gamma)\n",
    "        \n",
    "    LASSO = Lasso(tol=1)\n",
    "    LASSO_search = GridSearchCV(LASSO, parameter_set, cv =kf)\n",
    "    LASSO_search.fit(X_train_kernel, y_train_test)\n",
    "\n",
    "    r2_matrix[j, 0] = gamma\n",
    "    r2_matrix[j, 1] = LASSO_search.best_estimator_.alpha\n",
    "    r2_matrix[j, 2] = LASSO_search.best_score_\n",
    "    coeffs = LASSO_search.best_estimator_.coef_\n",
    "    nonzero = [f for f in np.isclose(coeffs,0) if f == True]\n",
    "    num_dropped = len(nonzero)\n",
    "    r2_matrix[j, -1] = int(num_dropped)\n",
    "        \n",
    "n = r2_matrix[:, 2].argmax()\n",
    "# print(r2_matrix)\n",
    "\n",
    "print('Best gamma is: {:.0e}'.format(r2_matrix[n,0]))\n",
    "print('Best alpha is: {:.0e}'.format(r2_matrix[n,1]))\n",
    "print('r square is: {:.3f}'.format(r2_matrix[n,2]))\n",
    "print('Number of dropped features: {}'.format(r2_matrix[n,-1]))"
   ]
  },
  {
   "cell_type": "markdown",
   "metadata": {},
   "source": [
    "Not surprisingly, unscaled X results in poor r square performances. We want to address here that using rbf kernel matrix seems to be unclever because it averages out each row into a single value (i.e. assuming all features have same contributions). Apparently, ignoring physical meanings of descriptors causes huge problem. \n",
    "\n",
    "### Regression Using Scaled Data"
   ]
  },
  {
   "cell_type": "code",
   "execution_count": 26,
   "metadata": {},
   "outputs": [
    {
     "name": "stdout",
     "output_type": "stream",
     "text": [
      "Best gamma is: 2e-02\n",
      "Best alpha is: 1e-04\n",
      "r square is: 0.933\n",
      "Number of dropped features: 3.0\n",
      "\n",
      "====== Second GridSearchCV Refinement ======\n",
      "\n",
      "Best gamma is: 2e-02\n",
      "Best alpha is: 5e-05\n",
      "r square is: 0.933\n",
      "Number of dropped features: 1.0\n"
     ]
    }
   ],
   "source": [
    "sigmas = np.array([1E-4, 5E-4, 1E-3, 5E-3, 0.01, 0.05, 0.1, 0.5, 1, 5, 10, 15, 20, 25, 30, 40, 50, 60])\n",
    "gammas = 1./(2*sigmas**2)\n",
    "r2_matrix = np.zeros((gammas.size, 4))\n",
    "\n",
    "alphas = np.array([1e-5, 1e-4, 1e-3, 1e-2, 1e-1, 1, 10, 100])\n",
    "parameter_set = {'alpha':alphas}\n",
    "\n",
    "     \n",
    "for j, gamma in enumerate(gammas):\n",
    "    \n",
    "    X_train_kernel = rbf_kernel(X_train_test_scaled, X_train_test_scaled, gamma = gamma)\n",
    "        \n",
    "    LASSO = Lasso(tol=1)\n",
    "    LASSO_search = GridSearchCV(LASSO, parameter_set, cv =kf)\n",
    "    LASSO_search.fit(X_train_kernel, y_train_test)\n",
    "\n",
    "    r2_matrix[j, 0] = gamma\n",
    "    r2_matrix[j, 1] = LASSO_search.best_estimator_.alpha\n",
    "    r2_matrix[j, 2] = LASSO_search.best_score_\n",
    "    coeffs = LASSO_search.best_estimator_.coef_\n",
    "    nonzero = [f for f in np.isclose(coeffs,0) if f == True]\n",
    "    num_dropped = len(nonzero)\n",
    "    r2_matrix[j, -1] = num_dropped\n",
    "        \n",
    "n = r2_matrix[:, 2].argmax()\n",
    "# print(r2_matrix)\n",
    "\n",
    "print('Best gamma is: {:.0e}'.format(r2_matrix[n,0]))\n",
    "print('Best alpha is: {:.0e}'.format(r2_matrix[n,1]))\n",
    "print('r square is: {:.3f}'.format(r2_matrix[n,2]))\n",
    "print('Number of dropped features: {}'.format(r2_matrix[n,-1]))\n",
    "\n",
    "\n",
    "#Second refinement\n",
    "print('\\n====== Second GridSearchCV Refinement ======\\n')\n",
    "\n",
    "sigmas = np.array([1, 2, 3, 4, 5, 6, 7, 8, 9, 10])\n",
    "gammas = 1./(2*sigmas**2)\n",
    "r2_matrix = np.zeros((gammas.size, 4))\n",
    "\n",
    "alphas = np.array([1e-5, 2e-5, 3e-5, 4e-5, 5e-5])\n",
    "parameter_set = {'alpha':alphas}\n",
    "\n",
    "     \n",
    "for j, gamma in enumerate(gammas):\n",
    "    \n",
    "    X_train_kernel = rbf_kernel(X_train_test_scaled, X_train_test_scaled, gamma = gamma)\n",
    "        \n",
    "    LASSO = Lasso(tol=1)\n",
    "    LASSO_search = GridSearchCV(LASSO, parameter_set, cv =kf)\n",
    "    LASSO_search.fit(X_train_kernel, y_train_test)\n",
    "\n",
    "    r2_matrix[j, 0] = gamma\n",
    "    r2_matrix[j, 1] = LASSO_search.best_estimator_.alpha\n",
    "    r2_matrix[j, 2] = LASSO_search.best_score_\n",
    "    coeffs = LASSO_search.best_estimator_.coef_\n",
    "    nonzero = [f for f in np.isclose(coeffs,0) if f == True]\n",
    "    num_dropped = len(nonzero)\n",
    "    r2_matrix[j, -1] = num_dropped\n",
    "        \n",
    "n = r2_matrix[:, 2].argmax()\n",
    "# print(r2_matrix)\n",
    "# print(coeffs.shape)\n",
    "\n",
    "print('Best gamma is: {:.0e}'.format(r2_matrix[n,0]))\n",
    "print('Best alpha is: {:.0e}'.format(r2_matrix[n,1]))\n",
    "print('r square is: {:.3f}'.format(r2_matrix[n,2]))\n",
    "print('Number of dropped features: {}'.format(r2_matrix[n,-1]))"
   ]
  },
  {
   "cell_type": "markdown",
   "metadata": {},
   "source": [
    "After rescaling x matrix across data points, there is a huge improvement of model performance. However, just 1 of the 600 features is dropped (non-parametric model), and optimal alpha values are all very small, i.e. the model is not regularized at all, parameters not simplified. "
   ]
  },
  {
   "cell_type": "markdown",
   "metadata": {},
   "source": [
    "# MLPRegressor (neural network)\n",
    "\n",
    "Neural network (NN) is a powerful set of algorithms inspired by human brains.\n",
    "As mentioned in the class, perceptron classifier model can be seen as a single layer NN classifier model, and NN models can be seen as multi-layer perceptron models by applying the logistic or ReLU functions several times on the perceptron model outputs.\n",
    "They are good at nonlinear data processing and are used extensively in many fields, such as image processing, natural language processing and forecasting.\n",
    "\n",
    "<img src=\"images/NN.png\" width=\"600\">\n",
    "\n",
    "Here we intend to apply one of NN regression models on our project to:\n",
    "\n",
    "1. learn the mechanism of NN models, which hyperparameters they have, and how to tune them, and\n",
    "2. briefly compare NN prediction results with other prediction models covered in the class.\n",
    "\n",
    "The NN model that we use is `MLPRegressor` in `sklearn`, where `MLP` means multi-layer Perceptron.\n",
    "It is capable of processing nonlinear data, but it has a nonconvex loss function, which makes it hard to find the global optimum.\n",
    "It also involves a number of hyperparameters, such as the number of hidden neurons and layers.\n",
    "The focus of this section is to finely tuning the hyperparameters of `MLPRegressor` to try to obtain a NN model with improved prediction ability.\n",
    "\n",
    "## Hyperparameter tuning strategy\n",
    "\n",
    "There are three main types of hyperparameters:\n",
    "\n",
    "2. the number of hidden layers ($L \\in \\mathbb{N}$),\n",
    "1. the number of hidden neurons ($n_l \\in \\mathbb{N}, l \\in \\{1,2,...,L\\}$), and\n",
    "3. loss function types (Logistic function or Rectified Linear Unit (ReLU) function).\n",
    "\n",
    "$$\\mathcal{L}_\\text{logistic} (x) = \\max(0, x) $$\n",
    "\n",
    "$$\\mathcal{L}_\\text{ReLU} (x) = \\ln (1 + e^{-x}) $$\n",
    "\n",
    "The number of parameters in the model grows linearly with $n_l$ and exponentially with $L$.\n",
    "Therefore, it may be computationally expensive to simultaneously tune $n_l$ and $L$.\n",
    "An alternative way is to first tune $n_1$ for a single-layer NN model, then fix $n_1$ and tune $n_2$ and so on.\n",
    "So we propose to tune the hyperparameter for the NN model using the alternative way\n",
    "while limiting the upper bound of $n_i$ to 100 and $L$ to 3.\n",
    "The tuning process will be conducted twice with Logistic and ReLu as loss functions respectively.\n",
    "\n",
    "## Hyperparameter tuning for MLPRegressor with Logistic loss function\n",
    "### Tuning for 1-layer model\n",
    "First a rough value list of $n_1$ is searched through:"
   ]
  },
  {
   "cell_type": "code",
   "execution_count": 74,
   "metadata": {},
   "outputs": [
    {
     "name": "stdout",
     "output_type": "stream",
     "text": [
      "Initial n1 search space: [1, 10, 20, 30, 40, 50, 60, 70, 80, 90, 100]\n"
     ]
    }
   ],
   "source": [
    "layer_list_n1 = [1] + list(range(10, 110, 10))\n",
    "print(\"Initial n1 search space: {}\".format(layer_list_n1))\n",
    "layer_dict_n1 = {\n",
    "    'hidden_layer_sizes': layer_list_n1\n",
    "}"
   ]
  },
  {
   "cell_type": "code",
   "execution_count": 75,
   "metadata": {},
   "outputs": [
    {
     "name": "stdout",
     "output_type": "stream",
     "text": [
      "Best model score: 0.954\n",
      "Best n1: 90\n"
     ]
    },
    {
     "name": "stderr",
     "output_type": "stream",
     "text": [
      "/Users/chengpengfei/anaconda3/lib/python3.7/site-packages/sklearn/neural_network/multilayer_perceptron.py:562: ConvergenceWarning: Stochastic Optimizer: Maximum iterations (500) reached and the optimization hasn't converged yet.\n",
      "  % self.max_iter, ConvergenceWarning)\n"
     ]
    }
   ],
   "source": [
    "loss_fun = 'logistic'\n",
    "\n",
    "model_NN_1 = MLPRegressor(max_iter=500, activation=loss_fun)\n",
    "model_NN_1_search = GridSearchCV(model_NN_1, layer_dict_n1, n_jobs=-1, cv=kf)\n",
    "model_NN_1_search.fit(X_train_test, y_train_test.ravel())\n",
    "model_NN_1_best = model_NN_1_search.best_estimator_\n",
    "print(\"Best model score: {:.3f}\".format(model_NN_1_search.best_score_))\n",
    "print(\"Best n1: {:d}\".format(model_NN_1_best.hidden_layer_sizes))"
   ]
  },
  {
   "cell_type": "markdown",
   "metadata": {},
   "source": [
    "Then a more refined search space of $n_1$ is used:"
   ]
  },
  {
   "cell_type": "code",
   "execution_count": 76,
   "metadata": {},
   "outputs": [
    {
     "name": "stdout",
     "output_type": "stream",
     "text": [
      "Refined n1 search space: [80, 82, 84, 86, 88, 90, 92, 94, 96, 98]\n",
      "Best model score: 0.959\n",
      "Best n1: 96\n"
     ]
    }
   ],
   "source": [
    "layer_list_n1_refined = list(range(max(model_NN_1_best.hidden_layer_sizes - 10, 1), min(102, model_NN_1_best.hidden_layer_sizes + 10), 2))\n",
    "print(\"Refined n1 search space: {}\".format(layer_list_n1_refined))\n",
    "layer_dict_n1_refined = {\n",
    "    'hidden_layer_sizes': layer_list_n1_refined\n",
    "}\n",
    "\n",
    "model_NN_1_refined = MLPRegressor(max_iter=500, activation=loss_fun)\n",
    "model_NN_1_refined_search = GridSearchCV(model_NN_1_refined, layer_dict_n1_refined, n_jobs=-1, cv=kf)\n",
    "model_NN_1_refined_search.fit(X_train_test, y_train_test.ravel())\n",
    "logistic_NN_1_refined_best = model_NN_1_refined_search.best_estimator_\n",
    "logistic_NN_1_refined_score = model_NN_1_refined_search.best_score_\n",
    "best_n1 = logistic_NN_1_refined_best.hidden_layer_sizes\n",
    "print(\"Best model score: {:.3f}\".format(logistic_NN_1_refined_score))\n",
    "print(\"Best n1: {:d}\".format(best_n1))"
   ]
  },
  {
   "cell_type": "markdown",
   "metadata": {},
   "source": [
    "### Tuning for 2-layer model\n",
    "Denote $n_1^*$ as the optimal value for the number of neurons for the first layer.\n",
    "A list of 2-tuples is defined as the search space for the 2-layer NN model.\n",
    "The first element is fixed at $n_1^*$, the second element varies from 1 to 100."
   ]
  },
  {
   "cell_type": "code",
   "execution_count": 77,
   "metadata": {},
   "outputs": [
    {
     "name": "stdout",
     "output_type": "stream",
     "text": [
      "Initial (n1, n2) search space: [(96, 1), (96, 10), (96, 20), (96, 30), (96, 40), (96, 50), (96, 60), (96, 70), (96, 80), (96, 90), (96, 100)]\n",
      "Best model score: 0.961\n",
      "Best (n1, n2): (96, 70)\n"
     ]
    },
    {
     "name": "stderr",
     "output_type": "stream",
     "text": [
      "/Users/chengpengfei/anaconda3/lib/python3.7/site-packages/sklearn/neural_network/multilayer_perceptron.py:562: ConvergenceWarning: Stochastic Optimizer: Maximum iterations (500) reached and the optimization hasn't converged yet.\n",
      "  % self.max_iter, ConvergenceWarning)\n"
     ]
    }
   ],
   "source": [
    "list_temp = [1] + list(range(10, 110, 10))\n",
    "\n",
    "layer_list_n2 = []\n",
    "for i in list_temp:\n",
    "    layer_list_n2.append((best_n1, i))\n",
    "\n",
    "print(\"Initial (n1, n2) search space: {}\".format(layer_list_n2))\n",
    "layer_dict_n2 = {\n",
    "    'hidden_layer_sizes': layer_list_n2\n",
    "}\n",
    "\n",
    "model_NN_2 = MLPRegressor(max_iter=500, activation=loss_fun)\n",
    "model_NN_2_search = GridSearchCV(model_NN_2, layer_dict_n2, n_jobs=-1, cv=kf)\n",
    "model_NN_2_search.fit(X_train_test, y_train_test.ravel())\n",
    "model_NN_2_best = model_NN_2_search.best_estimator_\n",
    "print(\"Best model score: {:.3f}\".format(model_NN_2_search.best_score_))\n",
    "print(\"Best (n1, n2): {}\".format(model_NN_2_best.hidden_layer_sizes))"
   ]
  },
  {
   "cell_type": "markdown",
   "metadata": {},
   "source": [
    "It is worth noting that ($n_1^*$, $n_2$) leads to a slightly worse results than the single ($n_1^*$).\n",
    "The reason may mainly be the non-convexity of the loss function, which causes the solver to converge to a local optimum and there is no guarantee that a model with more layers following this strategy yields a better solution.\n",
    "\n",
    "Similarly, a refined space is used for $n_2$:"
   ]
  },
  {
   "cell_type": "code",
   "execution_count": 78,
   "metadata": {},
   "outputs": [
    {
     "name": "stdout",
     "output_type": "stream",
     "text": [
      "Refined (n1, n2) search space: [(96, 60), (96, 62), (96, 64), (96, 66), (96, 68), (96, 70), (96, 72), (96, 74), (96, 76), (96, 78)]\n",
      "Best model score: 0.955\n",
      "Best (n1, n2): (96, 72)\n"
     ]
    }
   ],
   "source": [
    "list_temp = list(range(max(model_NN_2_best.hidden_layer_sizes[1] - 10, 1), min(102, model_NN_2_best.hidden_layer_sizes[1] + 10), 2))\n",
    "\n",
    "layer_list_n2_refined = []\n",
    "for i in list_temp:\n",
    "    layer_list_n2_refined.append((best_n1, i))\n",
    "\n",
    "print(\"Refined (n1, n2) search space: {}\".format(layer_list_n2_refined))\n",
    "layer_dict_n2_refined = {\n",
    "    'hidden_layer_sizes': layer_list_n2_refined\n",
    "}\n",
    "\n",
    "model_NN_2_refined = MLPRegressor(max_iter=500, activation=loss_fun)\n",
    "model_NN_2_refined_search = GridSearchCV(model_NN_2_refined, layer_dict_n2_refined, n_jobs=-1, cv=kf)\n",
    "model_NN_2_refined_search.fit(X_train_test, y_train_test.ravel())\n",
    "logistic_NN_2_refined_best = model_NN_2_refined_search.best_estimator_\n",
    "logistic_NN_2_refined_score = model_NN_2_refined_search.best_score_\n",
    "best_n2 = logistic_NN_2_refined_best.hidden_layer_sizes\n",
    "print(\"Best model score: {:.3f}\".format(logistic_NN_2_refined_score))\n",
    "print(\"Best (n1, n2): {}\".format(best_n2))"
   ]
  },
  {
   "cell_type": "markdown",
   "metadata": {},
   "source": [
    "### Tuning for 3-layer model\n",
    "$n_3$ is tuned in a similar manner:"
   ]
  },
  {
   "cell_type": "code",
   "execution_count": 79,
   "metadata": {},
   "outputs": [
    {
     "name": "stdout",
     "output_type": "stream",
     "text": [
      "Initial (n1, n2, n3) search space: [(96, 72, 1), (96, 72, 10), (96, 72, 20), (96, 72, 30), (96, 72, 40), (96, 72, 50), (96, 72, 60), (96, 72, 70), (96, 72, 80), (96, 72, 90), (96, 72, 100)]\n"
     ]
    },
    {
     "name": "stderr",
     "output_type": "stream",
     "text": [
      "/Users/chengpengfei/anaconda3/lib/python3.7/site-packages/sklearn/neural_network/multilayer_perceptron.py:562: ConvergenceWarning: Stochastic Optimizer: Maximum iterations (500) reached and the optimization hasn't converged yet.\n",
      "  % self.max_iter, ConvergenceWarning)\n"
     ]
    },
    {
     "name": "stdout",
     "output_type": "stream",
     "text": [
      "Best model score: 0.956\n",
      "Best (n1, n2, n3): (96, 72, 70)\n",
      "Refined (n1, n2, n3) search space: [(96, 72, 60), (96, 72, 62), (96, 72, 64), (96, 72, 66), (96, 72, 68), (96, 72, 70), (96, 72, 72), (96, 72, 74), (96, 72, 76), (96, 72, 78)]\n",
      "Best model score: 0.958\n",
      "Best (n1, n2, n3): (96, 72, 72)\n"
     ]
    },
    {
     "name": "stderr",
     "output_type": "stream",
     "text": [
      "/Users/chengpengfei/anaconda3/lib/python3.7/site-packages/sklearn/neural_network/multilayer_perceptron.py:562: ConvergenceWarning: Stochastic Optimizer: Maximum iterations (500) reached and the optimization hasn't converged yet.\n",
      "  % self.max_iter, ConvergenceWarning)\n"
     ]
    }
   ],
   "source": [
    "# initial search\n",
    "list_temp = [1] + list(range(10, 110, 10))\n",
    "\n",
    "layer_list_n3 = []\n",
    "for i in list_temp:\n",
    "    layer_list_n3.append((best_n1, best_n2[1], i))\n",
    "\n",
    "print(\"Initial (n1, n2, n3) search space: {}\".format(layer_list_n3))\n",
    "layer_dict_n3 = {\n",
    "    'hidden_layer_sizes': layer_list_n3\n",
    "}\n",
    "\n",
    "model_NN_3 = MLPRegressor(max_iter=500, activation=loss_fun)\n",
    "model_NN_3_search = GridSearchCV(model_NN_3, layer_dict_n3, n_jobs=-1, cv=kf)\n",
    "model_NN_3_search.fit(X_train_test, y_train_test.ravel())\n",
    "model_NN_3_best = model_NN_3_search.best_estimator_\n",
    "print(\"Best model score: {:.3f}\".format(model_NN_3_search.best_score_))\n",
    "print(\"Best (n1, n2, n3): {}\".format(model_NN_3_best.hidden_layer_sizes))\n",
    "\n",
    "# refined search\n",
    "list_temp = list(range(model_NN_3_best.hidden_layer_sizes[2] - 10, min(100, model_NN_3_best.hidden_layer_sizes[2] + 10), 2))\n",
    "layer_list_n3_refined = []\n",
    "for i in list_temp:\n",
    "    layer_list_n3_refined.append((best_n1, best_n2[1], i))\n",
    "\n",
    "print(\"Refined (n1, n2, n3) search space: {}\".format(layer_list_n3_refined))\n",
    "layer_dict_n3_refined = {\n",
    "    'hidden_layer_sizes': layer_list_n3_refined\n",
    "}\n",
    "\n",
    "model_NN_3_refined = MLPRegressor(max_iter=500, activation=loss_fun)\n",
    "model_NN_3_refined_search = GridSearchCV(model_NN_3_refined, layer_dict_n3_refined, n_jobs=-1, cv=kf)\n",
    "model_NN_3_refined_search.fit(X_train_test, y_train_test.ravel())\n",
    "logistic_NN_3_refined_best = model_NN_3_refined_search.best_estimator_\n",
    "logistic_NN_3_refined_score = model_NN_3_refined_search.best_score_\n",
    "print(\"Best model score: {:.3f}\".format(logistic_NN_3_refined_score))\n",
    "print(\"Best (n1, n2, n3): {}\".format(logistic_NN_3_refined_best.hidden_layer_sizes))"
   ]
  },
  {
   "cell_type": "markdown",
   "metadata": {},
   "source": [
    "## Hyperparameter tuning for MLPRegressor with ReLU loss function\n",
    "\n",
    "The tuning process for the NN model using ReLU loss function is similar to the process above, except the loss function is specified as ReLU."
   ]
  },
  {
   "cell_type": "code",
   "execution_count": 80,
   "metadata": {},
   "outputs": [
    {
     "name": "stdout",
     "output_type": "stream",
     "text": [
      "Initial n1 search space: [1, 10, 20, 30, 40, 50, 60, 70, 80, 90, 100]\n",
      "Best model score: 0.964\n",
      "Best n1: 60\n",
      "Refined n1 search space: [50, 52, 54, 56, 58, 60, 62, 64, 66, 68]\n",
      "Best model score: 0.964\n",
      "Best n1: 60\n"
     ]
    },
    {
     "name": "stderr",
     "output_type": "stream",
     "text": [
      "/Users/chengpengfei/anaconda3/lib/python3.7/site-packages/sklearn/neural_network/multilayer_perceptron.py:562: ConvergenceWarning: Stochastic Optimizer: Maximum iterations (750) reached and the optimization hasn't converged yet.\n",
      "  % self.max_iter, ConvergenceWarning)\n"
     ]
    }
   ],
   "source": [
    "# 1st layer\n",
    "layer_list_n1 = [1] + list(range(10, 110, 10))\n",
    "print(\"Initial n1 search space: {}\".format(layer_list_n1))\n",
    "layer_dict_n1 = {\n",
    "    'hidden_layer_sizes': layer_list_n1\n",
    "}\n",
    "\n",
    "loss_fun = 'relu'\n",
    "\n",
    "model_NN_1 = MLPRegressor(max_iter=500, activation=loss_fun)\n",
    "model_NN_1_search = GridSearchCV(model_NN_1, layer_dict_n1, n_jobs=-1, cv=kf)\n",
    "model_NN_1_search.fit(X_train_test, y_train_test.ravel())\n",
    "model_NN_1_best = model_NN_1_search.best_estimator_\n",
    "print(\"Best model score: {:.3f}\".format(model_NN_1_search.best_score_))\n",
    "print(\"Best n1: {:d}\".format(model_NN_1_best.hidden_layer_sizes))\n",
    "\n",
    "\n",
    "\n",
    "layer_list_n1_refined = list(range(model_NN_1_best.hidden_layer_sizes - 10, min(100, model_NN_1_best.hidden_layer_sizes + 10), 2))\n",
    "print(\"Refined n1 search space: {}\".format(layer_list_n1_refined))\n",
    "layer_dict_n1_refined = {\n",
    "    'hidden_layer_sizes': layer_list_n1_refined\n",
    "}\n",
    "\n",
    "model_NN_1_refined = MLPRegressor(max_iter=750, activation=loss_fun)\n",
    "model_NN_1_refined_search = GridSearchCV(model_NN_1_refined, layer_dict_n1_refined, n_jobs=-1, cv=kf)\n",
    "model_NN_1_refined_search.fit(X_train_test, y_train_test.ravel())\n",
    "relu_NN_1_refined_best = model_NN_1_refined_search.best_estimator_\n",
    "relu_NN_1_refined_score = model_NN_1_refined_search.best_score_\n",
    "best_n1 = relu_NN_1_refined_best.hidden_layer_sizes\n",
    "print(\"Best model score: {:.3f}\".format(relu_NN_1_refined_score))\n",
    "print(\"Best n1: {:d}\".format(best_n1))"
   ]
  },
  {
   "cell_type": "code",
   "execution_count": 81,
   "metadata": {},
   "outputs": [
    {
     "name": "stdout",
     "output_type": "stream",
     "text": [
      "Initial (n1, n2) search space: [(60, 1), (60, 10), (60, 20), (60, 30), (60, 40), (60, 50), (60, 60), (60, 70), (60, 80), (60, 90), (60, 100)]\n",
      "Best model score: 0.961\n",
      "Best (n1, n2): (60, 10)\n",
      "Refined (n1, n2) search space: [(60, 1), (60, 3), (60, 5), (60, 7), (60, 9), (60, 11), (60, 13), (60, 15), (60, 17), (60, 19)]\n",
      "Best model score: 0.963\n",
      "Best (n1, n2): (60, 17)\n"
     ]
    }
   ],
   "source": [
    "# 2nd layer\n",
    "list_temp = [1] + list(range(10, 110, 10))\n",
    "\n",
    "layer_list_n2 = []\n",
    "for i in list_temp:\n",
    "    layer_list_n2.append((best_n1, i))\n",
    "\n",
    "print(\"Initial (n1, n2) search space: {}\".format(layer_list_n2))\n",
    "layer_dict_n2 = {\n",
    "    'hidden_layer_sizes': layer_list_n2\n",
    "}\n",
    "\n",
    "model_NN_2 = MLPRegressor(max_iter=750, activation=loss_fun)\n",
    "model_NN_2_search = GridSearchCV(model_NN_2, layer_dict_n2, n_jobs=-1, cv=kf)\n",
    "model_NN_2_search.fit(X_train_test, y_train_test.ravel())\n",
    "model_NN_2_best = model_NN_2_search.best_estimator_\n",
    "print(\"Best model score: {:.3f}\".format(model_NN_2_search.best_score_))\n",
    "print(\"Best (n1, n2): {}\".format(model_NN_2_best.hidden_layer_sizes))\n",
    "\n",
    "\n",
    "\n",
    "list_temp = list(range(max(1, model_NN_2_best.hidden_layer_sizes[1] - 10), min(100, model_NN_2_best.hidden_layer_sizes[1] + 10), 2))\n",
    "\n",
    "layer_list_n2_refined = []\n",
    "for i in list_temp:\n",
    "    layer_list_n2_refined.append((best_n1, i))\n",
    "\n",
    "print(\"Refined (n1, n2) search space: {}\".format(layer_list_n2_refined))\n",
    "layer_dict_n2_refined = {\n",
    "    'hidden_layer_sizes': layer_list_n2_refined\n",
    "}\n",
    "\n",
    "model_NN_2_refined = MLPRegressor(max_iter=500, activation=loss_fun)\n",
    "model_NN_2_refined_search = GridSearchCV(model_NN_2_refined, layer_dict_n2_refined, n_jobs=-1, cv=kf)\n",
    "model_NN_2_refined_search.fit(X_train_test, y_train_test.ravel())\n",
    "relu_NN_2_refined_best = model_NN_2_refined_search.best_estimator_\n",
    "relu_NN_2_refined_score = model_NN_2_refined_search.best_score_\n",
    "best_n2 = relu_NN_2_refined_best.hidden_layer_sizes\n",
    "print(\"Best model score: {:.3f}\".format(relu_NN_2_refined_score))\n",
    "print(\"Best (n1, n2): {}\".format(best_n2))"
   ]
  },
  {
   "cell_type": "code",
   "execution_count": 82,
   "metadata": {},
   "outputs": [
    {
     "name": "stdout",
     "output_type": "stream",
     "text": [
      "Initial (n1, n2, n3) search space: [(60, 17, 1), (60, 17, 10), (60, 17, 20), (60, 17, 30), (60, 17, 40), (60, 17, 50), (60, 17, 60), (60, 17, 70), (60, 17, 80), (60, 17, 90), (60, 17, 100)]\n",
      "Best model score: 0.961\n",
      "Best (n1, n2, n3): (60, 17, 40)\n",
      "Refined (n1, n2, n3) search space: [(60, 17, 30), (60, 17, 32), (60, 17, 34), (60, 17, 36), (60, 17, 38), (60, 17, 40), (60, 17, 42), (60, 17, 44), (60, 17, 46), (60, 17, 48)]\n",
      "Best model score: 0.960\n",
      "Best (n1, n2, n3): (60, 17, 42)\n"
     ]
    }
   ],
   "source": [
    "# 3rd layer\n",
    "list_temp = [1] + list(range(10, 110, 10))\n",
    "\n",
    "layer_list_n3 = []\n",
    "for i in list_temp:\n",
    "    layer_list_n3.append((best_n1, best_n2[1], i))\n",
    "\n",
    "print(\"Initial (n1, n2, n3) search space: {}\".format(layer_list_n3))\n",
    "layer_dict_n3 = {\n",
    "    'hidden_layer_sizes': layer_list_n3\n",
    "}\n",
    "\n",
    "model_NN_3 = MLPRegressor(max_iter=500, activation=loss_fun)\n",
    "model_NN_3_search = GridSearchCV(model_NN_3, layer_dict_n3, n_jobs=-1, cv=kf)\n",
    "model_NN_3_search.fit(X_train_test, y_train_test.ravel())\n",
    "model_NN_3_best = model_NN_3_search.best_estimator_\n",
    "print(\"Best model score: {:.3f}\".format(model_NN_3_search.best_score_))\n",
    "print(\"Best (n1, n2, n3): {}\".format(model_NN_3_best.hidden_layer_sizes))\n",
    "\n",
    "list_temp = list(range(max(model_NN_3_best.hidden_layer_sizes[2] - 10, 1), min(100, model_NN_3_best.hidden_layer_sizes[2] + 10), 2))\n",
    "layer_list_n3_refined = []\n",
    "for i in list_temp:\n",
    "    layer_list_n3_refined.append((best_n1, best_n2[1], i))\n",
    "\n",
    "print(\"Refined (n1, n2, n3) search space: {}\".format(layer_list_n3_refined))\n",
    "layer_dict_n3_refined = {\n",
    "    'hidden_layer_sizes': layer_list_n3_refined\n",
    "}\n",
    "\n",
    "model_NN_3_refined = MLPRegressor(max_iter=500, activation=loss_fun)\n",
    "model_NN_3_refined_search = GridSearchCV(model_NN_3_refined, layer_dict_n3_refined, n_jobs=-1, cv=kf)\n",
    "model_NN_3_refined_search.fit(X_train_test, y_train_test.ravel())\n",
    "relu_NN_3_refined_best = model_NN_3_refined_search.best_estimator_\n",
    "relu_NN_3_refined_score = model_NN_3_refined_search.best_score_\n",
    "print(\"Best model score: {:.3f}\".format(relu_NN_3_refined_score))\n",
    "print(\"Best (n1, n2, n3): {}\".format(relu_NN_3_refined_best.hidden_layer_sizes))"
   ]
  },
  {
   "cell_type": "markdown",
   "metadata": {},
   "source": [
    "## Discussion"
   ]
  },
  {
   "cell_type": "code",
   "execution_count": 83,
   "metadata": {},
   "outputs": [
    {
     "data": {
      "text/plain": [
       "<matplotlib.legend.Legend at 0x1a227cc1d0>"
      ]
     },
     "execution_count": 83,
     "metadata": {},
     "output_type": "execute_result"
    },
    {
     "data": {
      "application/pdf": "[encoded data removed]",
      "image/png": "[encoded data removed]",
      "text/plain": [
       "<Figure size 720x432 with 1 Axes>"
      ]
     },
     "metadata": {
      "needs_background": "light"
     },
     "output_type": "display_data"
    }
   ],
   "source": [
    "x = ['1-layer','2-layer','3-layer']\n",
    "y_logistic = [logistic_NN_1_refined_score, logistic_NN_2_refined_score, logistic_NN_3_refined_score]\n",
    "y_relu = [relu_NN_1_refined_score, relu_NN_2_refined_score, relu_NN_3_refined_score]\n",
    "\n",
    "ax, fig = plt.subplots(figsize=(10, 6))\n",
    "fig.plot(y_logistic, label=\"Logistic\")\n",
    "fig.plot(y_relu, label=\"ReLU\")\n",
    "plt.xticks(range(len(x)), x)\n",
    "fig.legend()"
   ]
  },
  {
   "cell_type": "markdown",
   "metadata": {},
   "source": [
    "The $r^2$ score profiles along with the number of hidden layers are given above for both Logistic and ReLU loss functions.\n",
    "Interestingly, all models obtain high $r^2$ values, and the increase of the number of hidden layers does not necessarily improve the model performance.\n",
    "There may be several reasons:\n",
    "1. The 1-layer model is already good enough, and adding extra layers cannot improve its performance, but may introduce some numeric errors causing slight decrease in the $r^2$ score.\n",
    "2. The proposed hyperparameter tuning strategy may not be valid. In other words, for a 2-layer model, the best number of neurons for the first layer may not correspond to the best number of neurons of a 1-layer model; there may exist a 2-layer model outperforming the one obtained from the proposed strategy.\n",
    "\n",
    "Nevertheless, this section shows the ability of NN models for accurate prediction.\n",
    "\n",
    "Also it is worth noting that training NN models is significantly computationally expensive than KRR and LASSO. \n",
    "We may consider training time as a criterion when comparing all models in the final report."
   ]
  },
  {
   "cell_type": "markdown",
   "metadata": {},
   "source": [
    "# Conclusions and future steps\n",
    "\n",
    "In the improved model report, we update the validation strategy to improve its robustness, and implement three new regression models: KRR, LASSO and MLPRegressor (neural network).\n",
    "Section 5 clearly shows that the 5-fold validation strategy significantly helps improve model performance through training.\n",
    "Section 6 shows that the addition of regularization can significantly make the model more robust and stable, and may further improve the performance of the RBF kernel regression model.\n",
    "Section 7 shows that the model may be reduced to three features while still keeping good performance.\n",
    "Section 8 shows the difficulty of applying valid and efficient hyperparameter tuning for neural networks, though the model performs well for 1-layer, 2-layer and 3-layer settings.\n",
    "\n",
    "We plan to carefully analyze the models discussed above and covered the baseline model report, and conduct an overall comparison of all models using the validation strategy in terms of prediction performance, model complexity, training cost, etc.\n",
    "Inspired by the results presented above, we may also conduct other analysis such as principal component analysis to see if feature engineering is crucial to the models, which is not in the original plan."
   ]
  },
  {
   "cell_type": "markdown",
   "metadata": {},
   "source": [
    "# Reference\n",
    "Agrawal, Mayank, and David S. Sholl. \"Effects of Intrinsic Flexibility on Adsorption Properties of Metal–Organic Frameworks at Dilute and Nondilute Loadings.\" *ACS applied materials & interfaces* 11.34 (2019): 31060-31068."
   ]
  }
 ],
 "metadata": {
  "kernelspec": {
   "display_name": "Python 3",
   "language": "python",
   "name": "python3"
  },
  "language_info": {
   "codemirror_mode": {
    "name": "ipython",
    "version": 3
   },
   "file_extension": ".py",
   "mimetype": "text/x-python",
   "name": "python",
   "nbconvert_exporter": "python",
   "pygments_lexer": "ipython3",
   "version": "3.7.1"
  },
  "latex_envs": {
   "LaTeX_envs_menu_present": true,
   "autoclose": true,
   "autocomplete": true,
   "bibliofile": "biblio.bib",
   "cite_by": "apalike",
   "current_citInitial": 1,
   "eqLabelWithNumbers": true,
   "eqNumInitial": 1,
   "hotkeys": {
    "equation": "Ctrl-E",
    "itemize": "Ctrl-I"
   },
   "labels_anchors": false,
   "latex_user_defs": false,
   "report_style_numbering": false,
   "user_envs_cfg": false
  },
  "toc": {
   "base_numbering": 1,
   "nav_menu": {
    "height": "770px",
    "width": "518px"
   },
   "number_sections": true,
   "sideBar": true,
   "skip_h1_title": false,
   "title_cell": "Table of Contents",
   "title_sidebar": "Contents",
   "toc_cell": false,
   "toc_position": {},
   "toc_section_display": true,
   "toc_window_display": false
  }
 },
 "nbformat": 4,
 "nbformat_minor": 2
}
