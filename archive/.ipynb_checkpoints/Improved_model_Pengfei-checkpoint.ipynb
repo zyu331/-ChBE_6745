{
 "cells": [
  {
   "cell_type": "markdown",
   "metadata": {},
   "source": [
    "<center><font size=\"6\"><b>Improved model Pengfei</b></font></center>"
   ]
  },
  {
   "cell_type": "markdown",
   "metadata": {},
   "source": [
    "# Unchanged codes\n",
    "Unchanged codes are lumped together below."
   ]
  },
  {
   "cell_type": "code",
   "execution_count": 1,
   "metadata": {},
   "outputs": [],
   "source": [
    "# preamble, add some code for formatting, not related tto validation strategy\n",
    "\n",
    "import pandas as pd\n",
    "import numpy as np\n",
    "import os\n",
    "import matplotlib.pyplot as plt\n",
    "%matplotlib inline\n",
    "\n",
    "from IPython.display import set_matplotlib_formats\n",
    "\n",
    "set_matplotlib_formats('pdf', 'png')\n",
    "np.set_printoptions(precision=3,suppress=True)\n",
    "plt.rcParams['savefig.dpi'] = 75\n",
    "\n",
    "plt.rcParams['figure.autolayout'] = False\n",
    "plt.rcParams['figure.figsize'] = 10, 6\n",
    "plt.rcParams['axes.labelsize'] = 18\n",
    "plt.rcParams['axes.titlesize'] = 20\n",
    "plt.rcParams['font.size'] = 16\n",
    "plt.rcParams['lines.linewidth'] = 2.0\n",
    "plt.rcParams['lines.markersize'] = 8\n",
    "plt.rcParams['legend.fontsize'] = 14\n",
    "\n",
    "plt.rcParams['text.usetex'] = True\n",
    "plt.rcParams['font.family'] = \"serif\"\n",
    "plt.rcParams['font.serif'] = \"cm\"\n",
    "plt.rcParams['text.latex.preamble']= r\"\\usepackage{subdepth}, \\usepackage{type1cm}\""
   ]
  },
  {
   "cell_type": "code",
   "execution_count": 2,
   "metadata": {},
   "outputs": [
    {
     "name": "stdout",
     "output_type": "stream",
     "text": [
      "The number of MOFs shared by two datasets are: 89.\n"
     ]
    }
   ],
   "source": [
    "# read the 36-descriptor data\n",
    "df36Descriptor = pd.read_excel('data/ML_data/descriptor_used.xlsx',header=4,index_col=1)\n",
    "\n",
    "# clean up the column\n",
    "columns = [df36Descriptor.columns[1]] + df36Descriptor.columns[3: -11].tolist()\n",
    "\n",
    "newColumns = {}\n",
    "for ci in columns:\n",
    "    if ' ' in ci:\n",
    "        newColumns[ci] = ci.split(' ',1)[0]\n",
    "    elif '(' in ci:\n",
    "        newColumns[ci] = ci.split('(',1)[0]\n",
    "    else:\n",
    "        newColumns[ci] = ci\n",
    "\n",
    "dfShortNames = df36Descriptor[columns].rename(columns=newColumns)\n",
    "\n",
    "# reduce columns to only contain MOF features\n",
    "shared_descriptor = [col for col in dfShortNames.columns if col in newColumns]\n",
    "dfMLReduced = dfShortNames[shared_descriptor]\n",
    "\n",
    "# the MOFs in \"dfMLReduced\" and adsorption data sets are different, so it is necessary to match the MOFs in two datasets\n",
    "def datasetMatch(MOFName):\n",
    "    dfML= dfMLReduced[dfMLReduced['MOF'].isin(MOFName)].drop_duplicates()\n",
    "    matchedMOFIndex=np.isin(MOFName, dfML['MOF'].values)\n",
    "    return matchedMOFIndex, dfML\n",
    "\n",
    "# read flexibility data\n",
    "flexibilityList=os.listdir('data/flexibility_data/y_data/adsorption_data') # obtain list of csv files for 9 adsorption uptakes\n",
    "flexivilityData=[]\n",
    "adsorbateNameList = []\n",
    "\n",
    "for i, name in enumerate(flexibilityList):\n",
    "    # read csv files for certain adsorption uptakes\n",
    "    df = pd.read_csv('data/flexibility_data/y_data/adsorption_data/' + name)\n",
    "    \n",
    "    # obtain the rigid value\n",
    "    rigidValue = np.array(df[df.columns[1]], dtype = float)\n",
    "    \n",
    "    # obtain the flexible mean value\n",
    "    flexValue = np.mean(np.array(df[df.columns[2:]],dtype=float),axis=1)\n",
    "    \n",
    "    # obtain the adsorbate label\n",
    "    label = np.array([name.split(\"_\")[1] for x in range(0,len(flexValue))],dtype=str)\n",
    "    adsorbateNameList.append(name.split(\"_\")[1])\n",
    "    \n",
    "    # stack the rigid value, flexible mean value and the adsorbate label\n",
    "    singleSet = np.column_stack([rigidValue,flexValue,label])\n",
    "\n",
    "    if i == 0:\n",
    "        # obtain the name list of MOFs\n",
    "        MOFNameTemp = np.array(df[df.columns[0]], dtype = str)\n",
    "        MOFName = [x.split(\"_\")[0] for x in MOFNameTemp]\n",
    "        \n",
    "        # search the MOF name in \"dfMLReduced\", generating dfML\n",
    "        matchedMOFIndex, dfML = datasetMatch(MOFName)\n",
    "        print(\"The number of MOFs shared by two datasets are: {:d}.\".format(dfML.shape[0]))\n",
    "        \n",
    "        # generating flexibilityData as \"y\"\n",
    "        flexibilityData = singleSet[matchedMOFIndex,:].copy()\n",
    "    else:\n",
    "        # concatenate \"y\"\n",
    "        flexibilityData = np.concatenate([flexibilityData.copy(),singleSet[matchedMOFIndex,:].copy()])\n",
    "\n",
    "# manually add adsorbate descriptors\n",
    "\n",
    "# Mw/gr.mol-1, Tc/K, Pc/bar, ω, Tb/K, Tf/K\n",
    "\n",
    "adsorbateData=np.array([\n",
    "    ['xenon',131.293,289.7,58.4,0.008,164.87,161.2], \n",
    "    ['butane',58.1,449.8,39.5,0.3,280.1,146.7], \n",
    "    ['propene',42.1,436.9,51.7,0.2,254.8,150.6], \n",
    "    ['ethane',30.1,381.8,50.3,0.2,184.0,126.2], \n",
    "    ['propane',44.1,416.5,44.6,0.2,230.1,136.5], \n",
    "    ['CO2',44.0,295.9,71.8,0.2,317.4,204.9], \n",
    "    ['ethene',28.054,282.5,51.2,0.089,169.3,228], \n",
    "    ['methane',16.04,190.4,46.0,0.011,111.5,91],\n",
    "    ['krypton',83.798,209.4,55.0,0.005,119.6,115.6]])\n",
    "\n",
    "adsorbateData.shape\n",
    "adDf = pd.DataFrame(data=adsorbateData, columns=[\"adsorbate\", \"Mw/gr.mol-1\", \"Tc/K\", \"Pc/bar\", \"ω\", \"Tb/K\", \"Tf/K\"])\n",
    "\n",
    "# sort the dataframe based on adsorbateNameList\n",
    "sorterIndex = dict(zip(adsorbateNameList,range(len(adsorbateNameList))))\n",
    "adDf['an_Rank'] = adDf['adsorbate'].map(sorterIndex)\n",
    "adDf.sort_values(['an_Rank'],ascending = [True], inplace = True)\n",
    "adDf.drop('an_Rank', 1, inplace = True)\n",
    "adDfFloat = adDf.iloc[:, 1:].astype(np.float)\n",
    "adDfFloat[\"adsorbate\"] = adDf[\"adsorbate\"]\n",
    "\n",
    "\n",
    "# replicate dfML for 9 adsorbates\n",
    "dfMLReplicate = pd.concat([dfML]*9)\n",
    "\n",
    "# replicate adDf for 89 MOFs\n",
    "adDfReplicate = pd.DataFrame(np.repeat(adDfFloat.values,89,axis=0))\n",
    "adDfReplicate.columns = adDfFloat.columns\n",
    "\n",
    "# concatenate two datasets\n",
    "dfMLReplicate.reset_index(drop=True, inplace=True)\n",
    "adDfReplicate.reset_index(drop=True, inplace=True)\n",
    "XAllDescriptor = pd.concat([dfMLReplicate, adDfReplicate],axis=1)\n",
    "\n",
    "X = np.concatenate((XAllDescriptor.iloc[:, 1:-1], flexibilityData[:, 0].reshape(-1, 1)),axis=1).astype(np.float)\n",
    "y = flexibilityData[:, 1].astype('float64') .reshape(-1,1)\n",
    "\n",
    "\n",
    "# feature scaling\n",
    "X_scaled = (X - X.mean(axis=0))/X.std(axis=0) "
   ]
  },
  {
   "cell_type": "markdown",
   "metadata": {},
   "source": [
    "# data set split\n",
    "## <span style=\"color:red\">Validation set split (change)</span>"
   ]
  },
  {
   "cell_type": "code",
   "execution_count": 3,
   "metadata": {
    "scrolled": false
   },
   "outputs": [],
   "source": [
    "np.random.seed(5)\n",
    "from sklearn.model_selection import train_test_split\n",
    "\n",
    "# combine the unscaled and scaled X, so that they can be split together\n",
    "X_combined = np.concatenate((X, X_scaled), axis=1)\n",
    "\n",
    "# ---------------------------- don't touch the validation set ----------------------------\n",
    "X_train_test_combined, X_validation_combined, y_train_test, y_validation = train_test_split(X_combined, \\\n",
    "                                                                                            y, test_size=0.25)\n",
    "X_train_test, X_train_test_scaled = X_train_test_combined[:, :35], X_train_test_combined[:, 35:]\n",
    "X_validation, X_validation_scaled = X_validation_combined[:, :35], X_validation_combined[:, 35:]\n",
    "# ---------------------------- don't touch the validation set ----------------------------"
   ]
  },
  {
   "cell_type": "markdown",
   "metadata": {},
   "source": [
    "## 5-fold on train-test set <span style=\"color:red\">(no change, but we are going to use kf defined here)</span>"
   ]
  },
  {
   "cell_type": "code",
   "execution_count": 4,
   "metadata": {},
   "outputs": [],
   "source": [
    "from sklearn.model_selection import KFold\n",
    "\n",
    "kf = KFold(n_splits=5, shuffle = True, random_state=20)\n",
    "\n",
    "cv_splitter = kf.split(X_train_test_combined)\n",
    "\n",
    "for i, (train_index, test_index) in enumerate(cv_splitter):\n",
    "    \n",
    "    # initialize sets\n",
    "    if i == 0:\n",
    "        X_train_combined_5fold = np.zeros(X_train_test_combined[train_index].shape + (5,))\n",
    "        X_test_combined_5fold = np.zeros(X_train_test_combined[test_index].shape + (5,))\n",
    "        y_train_5fold = np.zeros(y_train_test[train_index].shape + (5,))\n",
    "        y_test_5fold = np.zeros(y_train_test[test_index].shape + (5,))\n",
    "    \n",
    "    X_train_combined_5fold[:, :, i], X_test_combined_5fold[:, :, i] = X_train_test_combined[train_index], X_train_test_combined[test_index]\n",
    "    y_train_5fold[:, :, i], y_test_5fold[:, :, i] = y_train_test[train_index], y_train_test[test_index]\n",
    "\n",
    "X_train_5fold, X_train_scaled_5fold = X_train_combined_5fold[:, :35], X_train_combined_5fold[:, 35:]\n",
    "X_test_5fold, X_test_scaled_5fold = X_test_combined_5fold[:, :35], X_test_combined_5fold[:, 35:]"
   ]
  },
  {
   "cell_type": "markdown",
   "metadata": {},
   "source": [
    "# Show how to use 5-fold sets with GridSearchCV"
   ]
  },
  {
   "cell_type": "markdown",
   "metadata": {},
   "source": [
    "## Without hyperparameter tuning - using multi-linear regression as example"
   ]
  },
  {
   "cell_type": "code",
   "execution_count": 5,
   "metadata": {
    "scrolled": true
   },
   "outputs": [
    {
     "name": "stdout",
     "output_type": "stream",
     "text": [
      "Fold 0:\tr2=0.980\n",
      "Fold 1:\tr2=0.989\t<-best performance\n",
      "Fold 2:\tr2=0.965\n",
      "Fold 3:\tr2=0.974\n",
      "Fold 4:\tr2=0.981\n"
     ]
    }
   ],
   "source": [
    "from sklearn.linear_model import LinearRegression\n",
    "\n",
    "LR_r2_list = []\n",
    "LR_coef_list = []\n",
    "\n",
    "for i in range(5):\n",
    "    LR_model = LinearRegression()\n",
    "    LR_model.fit(X_train_5fold[:, :, i], y_train_5fold[:, :, i])\n",
    "    \n",
    "    LR_r2_list.append(LR_model.score(X_test_5fold[:, :, i], y_test_5fold[:, :, i]))\n",
    "    LR_coef_list.append(LR_model.coef_)\n",
    "\n",
    "\n",
    "best_i = np.array(LR_r2_list).argmax()\n",
    "LR_coef_best = LR_coef_list[best_i]\n",
    "\n",
    "for i in range(5):\n",
    "    if i != best_i:\n",
    "        print(\"Fold {}:\\tr2={:.3f}\".format(i, LR_r2_list[i]))\n",
    "    else:\n",
    "        print(\"Fold {}:\\tr2={:.3f}\\t<-best performance\".format(i, LR_r2_list[i]))"
   ]
  },
  {
   "cell_type": "markdown",
   "metadata": {},
   "source": [
    "## With hyperparameter tuning - using rbf kernel regression as example"
   ]
  },
  {
   "cell_type": "code",
   "execution_count": 6,
   "metadata": {},
   "outputs": [
    {
     "name": "stdout",
     "output_type": "stream",
     "text": [
      "Fold 0:\tr2=0.048,\toptimal gamma=2e+00\n",
      "Fold 1:\tr2=0.314,\toptimal gamma=2e-03\t\t<-best performance\n",
      "Fold 2:\tr2=0.019,\toptimal gamma=2e+02\n",
      "Fold 3:\tr2=0.028,\toptimal gamma=2e+02\n",
      "Fold 4:\tr2=0.021,\toptimal gamma=2e+02\n"
     ]
    }
   ],
   "source": [
    "from sklearn.metrics.pairwise import rbf_kernel\n",
    "\n",
    "sigmas = np.array([1E-4, 5E-4, 1E-3, 5E-3, 0.01, 0.05, 0.1, 0.5, 1, 5, 10, 15, 20, 25, 30, 40, 50, 60])\n",
    "gammas = 1./(2*sigmas**2)\n",
    "r2_matrix = np.zeros((gammas.size, 3))\n",
    "\n",
    "rbf_r2_list = []\n",
    "rbf_coef_list = []\n",
    "rbf_gamma_list = []\n",
    "\n",
    "for i in range(5):\n",
    "    \n",
    "    rbf_coef_temp_list = [] # temporarily store parameter values for each gamma\n",
    "    \n",
    "    for j, gamma in enumerate(gammas):\n",
    "    \n",
    "        X_train_kernel = rbf_kernel(X_train_5fold[:, :, i], X_train_5fold[:, :, i], gamma = gamma)\n",
    "        X_test_kernel = rbf_kernel(X_test_5fold[:, :, i], X_train_5fold[:, :, i], gamma = gamma)\n",
    "        model_rbf = LinearRegression()\n",
    "        model_rbf.fit(X_train_kernel, y_train_5fold[:, :, i])\n",
    "\n",
    "        r2_matrix[j, 0] = gamma\n",
    "        r2_matrix[j, 1] = model_rbf.score(X_train_kernel, y_train_5fold[:, :, i])\n",
    "        r2_matrix[j, -1] = model_rbf.score(X_test_kernel, y_test_5fold[:, :, i])\n",
    "        \n",
    "        rbf_coef_temp_list.append(model_rbf.coef_)\n",
    "\n",
    "    # For each fold, record the optimal gamma and the corresponding parameter values and r2\n",
    "    n = r2_matrix[:, -1].argmax()\n",
    "    rbf_r2_list.append(r2_matrix[n, -1])\n",
    "    rbf_gamma_list.append(r2_matrix[n, 0])\n",
    "    rbf_coef_list.append(rbf_coef_temp_list[n])\n",
    "\n",
    "\n",
    "best_i = np.array(rbf_r2_list).argmax()\n",
    "rbf_gamma_best = rbf_gamma_list[best_i]\n",
    "rbf_coef_best = rbf_coef_list[best_i]\n",
    "\n",
    "for i in range(5):\n",
    "    if i != best_i:\n",
    "        print(\"Fold {}:\\tr2={:.3f},\\toptimal gamma={:.0e}\".format(i, rbf_r2_list[i], rbf_gamma_list[i]))\n",
    "    else:\n",
    "        print(\"Fold {}:\\tr2={:.3f},\\toptimal gamma={:.0e}\\t\\t<-best performance\".format(i, rbf_r2_list[i], rbf_gamma_list[i]))"
   ]
  },
  {
   "cell_type": "markdown",
   "metadata": {},
   "source": [
    "## Notes\n",
    "\n",
    "- Again, the code above does not correspond to the entire work for a model. More work can be done, e.g., \n",
    "    - detailed analysis of results\n",
    "    - more sophisticated hyperparameter tuning\n",
    "    - comparison of using unscaled and scaled data\n",
    "    - comparison with other models, especially for pure rbf, KRR and LASSO\n",
    "- To use the scaled X, replace `X_train_5fold`, `X_test_5fold` with `X_train_scaled_5fold`, `X_test_scaled_5fold`\n",
    "- Remember to record the values of the parameters and the hyperparameters of the best model, as they will be used for future comparison. For example, in \"rbf kernel regression\" above, I have recorded the optimal hyperparameter in `rbf_gamma_best` and the corresponding optimal parameters in `rbf_coef_best`."
   ]
  },
  {
   "cell_type": "markdown",
   "metadata": {},
   "source": [
    "# Improved model\n",
    "## Neural network\n",
    "\n",
    "Neural network (NN) is a powerful set of algorithms inspired by human brains.\n",
    "As mentioned in the class, perceptron classifier model can be seen as a single layer NN classifier model, and NN models can be seen as multi-layer perceptron models by applying the logistic or ReLU functions several times on the perceptron model outputs.\n",
    "They are good at nonlinear data processing and are used extensively in many fields, such as image processing, natural languange processing and forecasting.\n",
    "Here we intend to apply one of NN regression models on our project to:\n",
    "\n",
    "1. learn the mechanism of NN models, which hyperparameters they have, and how to tune them, and\n",
    "2. briefly compare NN prediction results with other prediction models covered in the class.\n",
    "\n",
    "The NN model that we use is `MLPRegressor` in `sklearn`, where `MLP` means multi-layer Perceptron.\n",
    "It is capable of processing nonlinear data, but it has a nonconvex loss function, which makes it hard to find the global optimum.\n",
    "It also involves a number of hyperparameters, such as the number of hidden neurons and layers.\n",
    "The focus of this section is to finely tuning the hyperparameters of `MLPRegressor` to try to obtain a NN model with improved prediction ability.\n",
    "\n",
    "## Hyperparameter tuning strategy\n",
    "\n",
    "There are three main types of hyperparameters:\n",
    "\n",
    "2. the number of hidden layers ($L \\in \\mathbb{N}$),\n",
    "1. the number of hidden neurons ($n_l \\in \\mathbb{N}, l \\in \\{1,2,...,L\\}$), and\n",
    "3. loss function types (Logistic or ReLU).\n",
    "\n",
    "The number of parameters in the model grows linearly with $n_l$ and exponentially with $L$.\n",
    "Therefore, it may be computationally expensive to simultaneously tune $n_l$ and $L$.\n",
    "An alternative way is to first tune $n_1$ for a single-layer NN model, then fix $n_1$ and tune $n_2$ and so on.\n",
    "So we propose to tune the hyperparameter for the NN model using the alternative way\n",
    "while limiting the upper bound of $n_i$ to 100 and $L$ to 3.\n",
    "The tuning process will be conducted twice with Logistic and ReLu as loss functions respectively.\n",
    "\n",
    "## Hyperparameter tuning for MLPRegressor with Logistic loss function\n",
    "### Tuning for 1-layer model\n",
    "First a rough value list of $n_1$ is searched through:"
   ]
  },
  {
   "cell_type": "code",
   "execution_count": 7,
   "metadata": {},
   "outputs": [
    {
     "name": "stdout",
     "output_type": "stream",
     "text": [
      "Initial n1 search space: [1, 10, 20, 30, 40, 50, 60, 70, 80, 90, 100]\n"
     ]
    }
   ],
   "source": [
    "layer_list_n1 = [1] + list(range(10, 110, 10))\n",
    "print(\"Initial n1 search space: {}\".format(layer_list_n1))\n",
    "layer_dict_n1 = {\n",
    "    'hidden_layer_sizes': layer_list_n1\n",
    "}"
   ]
  },
  {
   "cell_type": "code",
   "execution_count": 8,
   "metadata": {},
   "outputs": [
    {
     "name": "stdout",
     "output_type": "stream",
     "text": [
      "Best model score: 0.957\n",
      "Best n1: 100\n"
     ]
    },
    {
     "name": "stderr",
     "output_type": "stream",
     "text": [
      "/Users/chengpengfei/anaconda3/lib/python3.7/site-packages/sklearn/neural_network/multilayer_perceptron.py:562: ConvergenceWarning: Stochastic Optimizer: Maximum iterations (500) reached and the optimization hasn't converged yet.\n",
      "  % self.max_iter, ConvergenceWarning)\n"
     ]
    }
   ],
   "source": [
    "from sklearn.neural_network import MLPRegressor\n",
    "from sklearn.model_selection import GridSearchCV\n",
    "\n",
    "loss_fun = 'logistic'\n",
    "\n",
    "model_NN_1 = MLPRegressor(max_iter=500, activation=loss_fun)\n",
    "model_NN_1_search = GridSearchCV(model_NN_1, layer_dict_n1, n_jobs=-1, cv=kf)\n",
    "model_NN_1_search.fit(X_train_test, y_train_test.ravel())\n",
    "model_NN_1_best = model_NN_1_search.best_estimator_\n",
    "print(\"Best model score: {:.3f}\".format(model_NN_1_search.best_score_))\n",
    "print(\"Best n1: {:d}\".format(model_NN_1_best.hidden_layer_sizes))"
   ]
  },
  {
   "cell_type": "markdown",
   "metadata": {},
   "source": [
    "Then a more refined search space of $n_1$ is used:"
   ]
  },
  {
   "cell_type": "code",
   "execution_count": 9,
   "metadata": {},
   "outputs": [
    {
     "name": "stdout",
     "output_type": "stream",
     "text": [
      "Refined n1 search space: [90, 92, 94, 96, 98]\n",
      "Best model score: 0.958\n",
      "Best n1: 98\n"
     ]
    },
    {
     "name": "stderr",
     "output_type": "stream",
     "text": [
      "/Users/chengpengfei/anaconda3/lib/python3.7/site-packages/sklearn/neural_network/multilayer_perceptron.py:562: ConvergenceWarning: Stochastic Optimizer: Maximum iterations (500) reached and the optimization hasn't converged yet.\n",
      "  % self.max_iter, ConvergenceWarning)\n"
     ]
    }
   ],
   "source": [
    "layer_list_n1_refined = list(range(model_NN_1_best.hidden_layer_sizes - 10, min(100, model_NN_1_best.hidden_layer_sizes + 10), 2))\n",
    "print(\"Refined n1 search space: {}\".format(layer_list_n1_refined))\n",
    "layer_dict_n1_refined = {\n",
    "    'hidden_layer_sizes': layer_list_n1_refined\n",
    "}\n",
    "\n",
    "model_NN_1_refined = MLPRegressor(max_iter=500, activation=loss_fun)\n",
    "model_NN_1_refined_search = GridSearchCV(model_NN_1_refined, layer_dict_n1_refined, n_jobs=-1, cv=kf)\n",
    "model_NN_1_refined_search.fit(X_train_test, y_train_test.ravel())\n",
    "logistic_NN_1_refined_best = model_NN_1_refined_search.best_estimator_\n",
    "logistic_NN_1_refined_score = model_NN_1_refined_search.best_score_\n",
    "best_n1 = logistic_NN_1_refined_best.hidden_layer_sizes\n",
    "print(\"Best model score: {:.3f}\".format(logistic_NN_1_refined_score))\n",
    "print(\"Best n1: {:d}\".format(best_n1))"
   ]
  },
  {
   "cell_type": "markdown",
   "metadata": {},
   "source": [
    "### Tuning for 2-layer model\n",
    "Denote $n_1^*$ as the optimal value for the number of neurons for the first layer.\n",
    "A list of 2-tuples is defined as the search space for the 2-layer NN model.\n",
    "The first element is fixed at $n_1^*$, the second element varies from 1 to 100."
   ]
  },
  {
   "cell_type": "code",
   "execution_count": 10,
   "metadata": {},
   "outputs": [
    {
     "name": "stdout",
     "output_type": "stream",
     "text": [
      "Initial (n1, n2) search space: [(98, 1), (98, 10), (98, 20), (98, 30), (98, 40), (98, 50), (98, 60), (98, 70), (98, 80), (98, 90), (98, 100)]\n",
      "Best model score: 0.961\n",
      "Best (n1, n2): (98, 100)\n"
     ]
    }
   ],
   "source": [
    "list_temp = [1] + list(range(10, 110, 10))\n",
    "\n",
    "layer_list_n2 = []\n",
    "for i in list_temp:\n",
    "    layer_list_n2.append((best_n1, i))\n",
    "\n",
    "print(\"Initial (n1, n2) search space: {}\".format(layer_list_n2))\n",
    "layer_dict_n2 = {\n",
    "    'hidden_layer_sizes': layer_list_n2\n",
    "}\n",
    "\n",
    "model_NN_2 = MLPRegressor(max_iter=500, activation=loss_fun)\n",
    "model_NN_2_search = GridSearchCV(model_NN_2, layer_dict_n2, n_jobs=-1, cv=kf)\n",
    "model_NN_2_search.fit(X_train_test, y_train_test.ravel())\n",
    "model_NN_2_best = model_NN_2_search.best_estimator_\n",
    "print(\"Best model score: {:.3f}\".format(model_NN_2_search.best_score_))\n",
    "print(\"Best (n1, n2): {}\".format(model_NN_2_best.hidden_layer_sizes))"
   ]
  },
  {
   "cell_type": "markdown",
   "metadata": {},
   "source": [
    "It is worth noting that ($n_1^*$, $n_2$) leads to a slightly worse results than the single ($n_1^*$).\n",
    "The reason may mainly be the non-convexity of the loss function, which causes the solver to converge to a local optimum and there is no guarantee that a model with more layers following this stratgy yields a better solution.\n",
    "\n",
    "Similarly, a refined space is used for $n_2$:"
   ]
  },
  {
   "cell_type": "code",
   "execution_count": 11,
   "metadata": {},
   "outputs": [
    {
     "name": "stdout",
     "output_type": "stream",
     "text": [
      "Refined (n1, n2) search space: [(98, 90), (98, 92), (98, 94), (98, 96), (98, 98)]\n",
      "Best model score: 0.960\n",
      "Best (n1, n2): (98, 90)\n"
     ]
    }
   ],
   "source": [
    "list_temp = list(range(model_NN_2_best.hidden_layer_sizes[1] - 10, min(100, model_NN_2_best.hidden_layer_sizes[1] + 10), 2))\n",
    "\n",
    "layer_list_n2_refined = []\n",
    "for i in list_temp:\n",
    "    layer_list_n2_refined.append((best_n1, i))\n",
    "\n",
    "print(\"Refined (n1, n2) search space: {}\".format(layer_list_n2_refined))\n",
    "layer_dict_n2_refined = {\n",
    "    'hidden_layer_sizes': layer_list_n2_refined\n",
    "}\n",
    "\n",
    "model_NN_2_refined = MLPRegressor(max_iter=500, activation=loss_fun)\n",
    "model_NN_2_refined_search = GridSearchCV(model_NN_2_refined, layer_dict_n2_refined, n_jobs=-1, cv=kf)\n",
    "model_NN_2_refined_search.fit(X_train_test, y_train_test.ravel())\n",
    "logistic_NN_2_refined_best = model_NN_2_refined_search.best_estimator_\n",
    "logistic_NN_2_refined_score = model_NN_2_refined_search.best_score_\n",
    "best_n2 = logistic_NN_2_refined_best.hidden_layer_sizes\n",
    "print(\"Best model score: {:.3f}\".format(logistic_NN_2_refined_score))\n",
    "print(\"Best (n1, n2): {}\".format(best_n2))"
   ]
  },
  {
   "cell_type": "markdown",
   "metadata": {},
   "source": [
    "### Tuning for 3-layer model\n",
    "$n_3$ is tuned in a similar manner:"
   ]
  },
  {
   "cell_type": "code",
   "execution_count": 13,
   "metadata": {},
   "outputs": [
    {
     "name": "stdout",
     "output_type": "stream",
     "text": [
      "Initial (n1, n2, n3) search space: [(98, 90, 1), (98, 90, 10), (98, 90, 20), (98, 90, 30), (98, 90, 40), (98, 90, 50), (98, 90, 60), (98, 90, 70), (98, 90, 80), (98, 90, 90), (98, 90, 100)]\n"
     ]
    },
    {
     "name": "stderr",
     "output_type": "stream",
     "text": [
      "/Users/chengpengfei/anaconda3/lib/python3.7/site-packages/sklearn/neural_network/multilayer_perceptron.py:562: ConvergenceWarning: Stochastic Optimizer: Maximum iterations (500) reached and the optimization hasn't converged yet.\n",
      "  % self.max_iter, ConvergenceWarning)\n"
     ]
    },
    {
     "name": "stdout",
     "output_type": "stream",
     "text": [
      "Best model score: 0.956\n",
      "Best (n1, n2, n3): (98, 90, 80)\n",
      "Refined (n1, n2, n3) search space: [(98, 90, 70), (98, 90, 72), (98, 90, 74), (98, 90, 76), (98, 90, 78), (98, 90, 80), (98, 90, 82), (98, 90, 84), (98, 90, 86), (98, 90, 88)]\n",
      "Best model score: 0.958\n",
      "Best (n1, n2, n3): (98, 90, 84)\n"
     ]
    }
   ],
   "source": [
    "# initial search\n",
    "list_temp = [1] + list(range(10, 110, 10))\n",
    "\n",
    "layer_list_n3 = []\n",
    "for i in list_temp:\n",
    "    layer_list_n3.append((best_n1, best_n2[1], i))\n",
    "\n",
    "print(\"Initial (n1, n2, n3) search space: {}\".format(layer_list_n3))\n",
    "layer_dict_n3 = {\n",
    "    'hidden_layer_sizes': layer_list_n3\n",
    "}\n",
    "\n",
    "model_NN_3 = MLPRegressor(max_iter=500, activation=loss_fun)\n",
    "model_NN_3_search = GridSearchCV(model_NN_3, layer_dict_n3, n_jobs=-1, cv=kf)\n",
    "model_NN_3_search.fit(X_train_test, y_train_test.ravel())\n",
    "model_NN_3_best = model_NN_3_search.best_estimator_\n",
    "print(\"Best model score: {:.3f}\".format(model_NN_3_search.best_score_))\n",
    "print(\"Best (n1, n2, n3): {}\".format(model_NN_3_best.hidden_layer_sizes))\n",
    "\n",
    "# refined search\n",
    "list_temp = list(range(model_NN_3_best.hidden_layer_sizes[2] - 10, min(100, model_NN_3_best.hidden_layer_sizes[2] + 10), 2))\n",
    "layer_list_n3_refined = []\n",
    "for i in list_temp:\n",
    "    layer_list_n3_refined.append((best_n1, best_n2[1], i))\n",
    "\n",
    "print(\"Refined (n1, n2, n3) search space: {}\".format(layer_list_n3_refined))\n",
    "layer_dict_n3_refined = {\n",
    "    'hidden_layer_sizes': layer_list_n3_refined\n",
    "}\n",
    "\n",
    "model_NN_3_refined = MLPRegressor(max_iter=500, activation=loss_fun)\n",
    "model_NN_3_refined_search = GridSearchCV(model_NN_3_refined, layer_dict_n3_refined, n_jobs=-1, cv=kf)\n",
    "model_NN_3_refined_search.fit(X_train_test, y_train_test.ravel())\n",
    "logistic_NN_3_refined_best = model_NN_3_refined_search.best_estimator_\n",
    "logistic_NN_3_refined_score = model_NN_3_refined_search.best_score_\n",
    "print(\"Best model score: {:.3f}\".format(logistic_NN_3_refined_score))\n",
    "print(\"Best (n1, n2, n3): {}\".format(logistic_NN_3_refined_best.hidden_layer_sizes))"
   ]
  },
  {
   "cell_type": "markdown",
   "metadata": {},
   "source": [
    "## Hyperparameter tuning for MLPRegressor with ReLU loss function\n",
    "\n",
    "The tuning process for the NN model using ReLU loss function is similar to the process above, except the loss function is specified as ReLU."
   ]
  },
  {
   "cell_type": "code",
   "execution_count": 14,
   "metadata": {},
   "outputs": [
    {
     "name": "stdout",
     "output_type": "stream",
     "text": [
      "Initial n1 search space: [1, 10, 20, 30, 40, 50, 60, 70, 80, 90, 100]\n",
      "Best model score: 0.962\n",
      "Best n1: 50\n",
      "Refined n1 search space: [40, 42, 44, 46, 48, 50, 52, 54, 56, 58]\n",
      "Best model score: 0.961\n",
      "Best n1: 44\n"
     ]
    }
   ],
   "source": [
    "# 1st layer\n",
    "layer_list_n1 = [1] + list(range(10, 110, 10))\n",
    "print(\"Initial n1 search space: {}\".format(layer_list_n1))\n",
    "layer_dict_n1 = {\n",
    "    'hidden_layer_sizes': layer_list_n1\n",
    "}\n",
    "\n",
    "loss_fun = 'relu'\n",
    "\n",
    "model_NN_1 = MLPRegressor(max_iter=500, activation=loss_fun)\n",
    "model_NN_1_search = GridSearchCV(model_NN_1, layer_dict_n1, n_jobs=-1, cv=kf)\n",
    "model_NN_1_search.fit(X_train_test, y_train_test.ravel())\n",
    "model_NN_1_best = model_NN_1_search.best_estimator_\n",
    "print(\"Best model score: {:.3f}\".format(model_NN_1_search.best_score_))\n",
    "print(\"Best n1: {:d}\".format(model_NN_1_best.hidden_layer_sizes))\n",
    "\n",
    "\n",
    "\n",
    "layer_list_n1_refined = list(range(model_NN_1_best.hidden_layer_sizes - 10, min(100, model_NN_1_best.hidden_layer_sizes + 10), 2))\n",
    "print(\"Refined n1 search space: {}\".format(layer_list_n1_refined))\n",
    "layer_dict_n1_refined = {\n",
    "    'hidden_layer_sizes': layer_list_n1_refined\n",
    "}\n",
    "\n",
    "model_NN_1_refined = MLPRegressor(max_iter=750, activation=loss_fun)\n",
    "model_NN_1_refined_search = GridSearchCV(model_NN_1_refined, layer_dict_n1_refined, n_jobs=-1, cv=kf)\n",
    "model_NN_1_refined_search.fit(X_train_test, y_train_test.ravel())\n",
    "relu_NN_1_refined_best = model_NN_1_refined_search.best_estimator_\n",
    "relu_NN_1_refined_score = model_NN_1_refined_search.best_score_\n",
    "best_n1 = relu_NN_1_refined_best.hidden_layer_sizes\n",
    "print(\"Best model score: {:.3f}\".format(relu_NN_1_refined_score))\n",
    "print(\"Best n1: {:d}\".format(best_n1))"
   ]
  },
  {
   "cell_type": "code",
   "execution_count": 15,
   "metadata": {},
   "outputs": [
    {
     "name": "stdout",
     "output_type": "stream",
     "text": [
      "Initial (n1, n2) search space: [(44, 1), (44, 10), (44, 20), (44, 30), (44, 40), (44, 50), (44, 60), (44, 70), (44, 80), (44, 90), (44, 100)]\n",
      "Best model score: 0.958\n",
      "Best (n1, n2): (44, 20)\n",
      "Refined (n1, n2) search space: [(44, 10), (44, 12), (44, 14), (44, 16), (44, 18), (44, 20), (44, 22), (44, 24), (44, 26), (44, 28)]\n",
      "Best model score: 0.961\n",
      "Best (n1, n2): (44, 20)\n"
     ]
    }
   ],
   "source": [
    "# 2nd layer\n",
    "list_temp = [1] + list(range(10, 110, 10))\n",
    "\n",
    "layer_list_n2 = []\n",
    "for i in list_temp:\n",
    "    layer_list_n2.append((best_n1, i))\n",
    "\n",
    "print(\"Initial (n1, n2) search space: {}\".format(layer_list_n2))\n",
    "layer_dict_n2 = {\n",
    "    'hidden_layer_sizes': layer_list_n2\n",
    "}\n",
    "\n",
    "model_NN_2 = MLPRegressor(max_iter=750, activation=loss_fun)\n",
    "model_NN_2_search = GridSearchCV(model_NN_2, layer_dict_n2, n_jobs=-1, cv=kf)\n",
    "model_NN_2_search.fit(X_train_test, y_train_test.ravel())\n",
    "model_NN_2_best = model_NN_2_search.best_estimator_\n",
    "print(\"Best model score: {:.3f}\".format(model_NN_2_search.best_score_))\n",
    "print(\"Best (n1, n2): {}\".format(model_NN_2_best.hidden_layer_sizes))\n",
    "\n",
    "\n",
    "\n",
    "list_temp = list(range(max(1, model_NN_2_best.hidden_layer_sizes[1] - 10), min(100, model_NN_2_best.hidden_layer_sizes[1] + 10), 2))\n",
    "\n",
    "layer_list_n2_refined = []\n",
    "for i in list_temp:\n",
    "    layer_list_n2_refined.append((best_n1, i))\n",
    "\n",
    "print(\"Refined (n1, n2) search space: {}\".format(layer_list_n2_refined))\n",
    "layer_dict_n2_refined = {\n",
    "    'hidden_layer_sizes': layer_list_n2_refined\n",
    "}\n",
    "\n",
    "model_NN_2_refined = MLPRegressor(max_iter=500, activation=loss_fun)\n",
    "model_NN_2_refined_search = GridSearchCV(model_NN_2_refined, layer_dict_n2_refined, n_jobs=-1, cv=kf)\n",
    "model_NN_2_refined_search.fit(X_train_test, y_train_test.ravel())\n",
    "relu_NN_2_refined_best = model_NN_2_refined_search.best_estimator_\n",
    "relu_NN_2_refined_score = model_NN_2_refined_search.best_score_\n",
    "best_n2 = relu_NN_2_refined_best.hidden_layer_sizes\n",
    "print(\"Best model score: {:.3f}\".format(relu_NN_2_refined_score))\n",
    "print(\"Best (n1, n2): {}\".format(best_n2))"
   ]
  },
  {
   "cell_type": "code",
   "execution_count": 17,
   "metadata": {},
   "outputs": [
    {
     "name": "stdout",
     "output_type": "stream",
     "text": [
      "Initial (n1, n2, n3) search space: [(44, 20, 1), (44, 20, 10), (44, 20, 20), (44, 20, 30), (44, 20, 40), (44, 20, 50), (44, 20, 60), (44, 20, 70), (44, 20, 80), (44, 20, 90), (44, 20, 100)]\n",
      "Best model score: 0.960\n",
      "Best (n1, n2, n3): (44, 20, 60)\n",
      "Refined (n1, n2, n3) search space: [(44, 20, 50), (44, 20, 52), (44, 20, 54), (44, 20, 56), (44, 20, 58), (44, 20, 60), (44, 20, 62), (44, 20, 64), (44, 20, 66), (44, 20, 68)]\n",
      "Best model score: 0.959\n",
      "Best (n1, n2, n3): (44, 20, 58)\n"
     ]
    }
   ],
   "source": [
    "# 3rd layer\n",
    "list_temp = [1] + list(range(10, 110, 10))\n",
    "\n",
    "layer_list_n3 = []\n",
    "for i in list_temp:\n",
    "    layer_list_n3.append((best_n1, best_n2[1], i))\n",
    "\n",
    "print(\"Initial (n1, n2, n3) search space: {}\".format(layer_list_n3))\n",
    "layer_dict_n3 = {\n",
    "    'hidden_layer_sizes': layer_list_n3\n",
    "}\n",
    "\n",
    "model_NN_3 = MLPRegressor(max_iter=500, activation=loss_fun)\n",
    "model_NN_3_search = GridSearchCV(model_NN_3, layer_dict_n3, n_jobs=-1, cv=kf)\n",
    "model_NN_3_search.fit(X_train_test, y_train_test.ravel())\n",
    "model_NN_3_best = model_NN_3_search.best_estimator_\n",
    "print(\"Best model score: {:.3f}\".format(model_NN_3_search.best_score_))\n",
    "print(\"Best (n1, n2, n3): {}\".format(model_NN_3_best.hidden_layer_sizes))\n",
    "\n",
    "list_temp = list(range(model_NN_3_best.hidden_layer_sizes[2] - 10, min(100, model_NN_3_best.hidden_layer_sizes[2] + 10), 2))\n",
    "layer_list_n3_refined = []\n",
    "for i in list_temp:\n",
    "    layer_list_n3_refined.append((best_n1, best_n2[1], i))\n",
    "\n",
    "print(\"Refined (n1, n2, n3) search space: {}\".format(layer_list_n3_refined))\n",
    "layer_dict_n3_refined = {\n",
    "    'hidden_layer_sizes': layer_list_n3_refined\n",
    "}\n",
    "\n",
    "model_NN_3_refined = MLPRegressor(max_iter=500, activation=loss_fun)\n",
    "model_NN_3_refined_search = GridSearchCV(model_NN_3_refined, layer_dict_n3_refined, n_jobs=-1, cv=kf)\n",
    "model_NN_3_refined_search.fit(X_train_test, y_train_test.ravel())\n",
    "relu_NN_3_refined_best = model_NN_3_refined_search.best_estimator_\n",
    "relu_NN_3_refined_score = model_NN_3_refined_search.best_score_\n",
    "print(\"Best model score: {:.3f}\".format(relu_NN_3_refined_score))\n",
    "print(\"Best (n1, n2, n3): {}\".format(relu_NN_3_refined_best.hidden_layer_sizes))"
   ]
  },
  {
   "cell_type": "code",
   "execution_count": null,
   "metadata": {},
   "outputs": [],
   "source": [
    "for i in model_NN_3_refined_best.coefs_:\n",
    "    print(i.shape)"
   ]
  },
  {
   "cell_type": "markdown",
   "metadata": {},
   "source": [
    "## Results discussion"
   ]
  },
  {
   "cell_type": "code",
   "execution_count": 24,
   "metadata": {},
   "outputs": [
    {
     "data": {
      "text/plain": [
       "<matplotlib.legend.Legend at 0x11fd2d518>"
      ]
     },
     "execution_count": 24,
     "metadata": {},
     "output_type": "execute_result"
    },
    {
     "data": {
      "application/pdf": "[encoded data removed]",
      "image/png": "[encoded data removed]",
      "text/plain": [
       "<Figure size 720x432 with 1 Axes>"
      ]
     },
     "metadata": {
      "needs_background": "light"
     },
     "output_type": "display_data"
    }
   ],
   "source": [
    "x = ['1-layer','2-layer','3-layer']\n",
    "y_logistic = [logistic_NN_1_refined_score, logistic_NN_2_refined_score, logistic_NN_3_refined_score]\n",
    "y_relu = [relu_NN_1_refined_score, relu_NN_2_refined_score, relu_NN_3_refined_score]\n",
    "\n",
    "ax, fig = plt.subplots(figsize=(10, 6))\n",
    "fig.plot(y_logistic, label=\"Logistic\")\n",
    "fig.plot(y_relu, label=\"ReLU\")\n",
    "plt.xticks(range(len(x)), x)\n",
    "fig.legend()"
   ]
  },
  {
   "cell_type": "markdown",
   "metadata": {},
   "source": [
    "Interestingly, the increase of the number of hidden layers does not necessarily improve the model performance, although all models obtain high $r_2$ values.\n"
   ]
  }
 ],
 "metadata": {
  "CodeCell": {
   "cm_config": {
    "lineWrapping": true
   }
  },
  "MarkdownCell": {
   "cm_config": {
    "lineWrapping": true
   }
  },
  "kernelspec": {
   "display_name": "Python 3",
   "language": "python",
   "name": "python3"
  },
  "language_info": {
   "codemirror_mode": {
    "name": "ipython",
    "version": 3
   },
   "file_extension": ".py",
   "mimetype": "text/x-python",
   "name": "python",
   "nbconvert_exporter": "python",
   "pygments_lexer": "ipython3",
   "version": "3.7.1"
  },
  "latex_envs": {
   "LaTeX_envs_menu_present": true,
   "autoclose": true,
   "autocomplete": true,
   "bibliofile": "biblio.bib",
   "cite_by": "apalike",
   "current_citInitial": 1,
   "eqLabelWithNumbers": true,
   "eqNumInitial": 1,
   "hotkeys": {
    "equation": "Ctrl-E",
    "itemize": "Ctrl-I"
   },
   "labels_anchors": false,
   "latex_user_defs": false,
   "report_style_numbering": false,
   "user_envs_cfg": false
  },
  "toc": {
   "base_numbering": 1,
   "nav_menu": {
    "height": "361px",
    "width": "435px"
   },
   "number_sections": true,
   "sideBar": true,
   "skip_h1_title": false,
   "title_cell": "Table of Contents",
   "title_sidebar": "Contents",
   "toc_cell": false,
   "toc_position": {},
   "toc_section_display": true,
   "toc_window_display": false
  }
 },
 "nbformat": 4,
 "nbformat_minor": 2
}
