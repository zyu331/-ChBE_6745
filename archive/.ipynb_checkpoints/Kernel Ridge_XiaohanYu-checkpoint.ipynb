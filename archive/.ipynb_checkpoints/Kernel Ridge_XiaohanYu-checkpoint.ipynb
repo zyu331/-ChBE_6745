{
 "cells": [
  {
   "cell_type": "code",
   "execution_count": 1,
   "metadata": {},
   "outputs": [],
   "source": [
    "# preamble, add some code for formatting, not related tto validation strategy\n",
    "\n",
    "import pandas as pd\n",
    "import numpy as np\n",
    "import os\n",
    "import matplotlib.pyplot as plt\n",
    "%matplotlib inline\n",
    "\n",
    "from IPython.display import set_matplotlib_formats\n",
    "\n",
    "#set_matplotlib_formats('pdf', 'png')\n",
    "#np.set_printoptions(precision=3,suppress=True)\n",
    "#plt.rcParams['savefig.dpi'] = 75\n",
    "\n",
    "#plt.rcParams['figure.autolayout'] = False\n",
    "#plt.rcParams['figure.figsize'] = 10, 6\n",
    "#plt.rcParams['axes.labelsize'] = 18\n",
    "#plt.rcParams['axes.titlesize'] = 20\n",
    "#plt.rcParams['font.size'] = 16\n",
    "#plt.rcParams['lines.linewidth'] = 2.0\n",
    "#plt.rcParams['lines.markersize'] = 8\n",
    "#plt.rcParams['legend.fontsize'] = 14\n",
    "\n",
    "#plt.rcParams['text.usetex'] = True\n",
    "#plt.rcParams['font.family'] = \"serif\"\n",
    "#plt.rcParams['font.serif'] = \"cm\"\n",
    "#plt.rcParams['text.latex.preamble']= r\"\\usepackage{subdepth}, \\usepackage{type1cm}\""
   ]
  },
  {
   "cell_type": "code",
   "execution_count": 2,
   "metadata": {},
   "outputs": [
    {
     "name": "stdout",
     "output_type": "stream",
     "text": [
      "The number of MOFs shared by two datasets are: 89.\n"
     ]
    }
   ],
   "source": [
    "# read the 36-descriptor data\n",
    "df36Descriptor = pd.read_excel('data/ML_data/descriptor_used.xlsx',header=4,index_col=1)\n",
    "\n",
    "# clean up the column\n",
    "columns = [df36Descriptor.columns[1]] + df36Descriptor.columns[3: -11].tolist()\n",
    "\n",
    "newColumns = {}\n",
    "for ci in columns:\n",
    "    if ' ' in ci:\n",
    "        newColumns[ci] = ci.split(' ',1)[0]\n",
    "    elif '(' in ci:\n",
    "        newColumns[ci] = ci.split('(',1)[0]\n",
    "    else:\n",
    "        newColumns[ci] = ci\n",
    "\n",
    "dfShortNames = df36Descriptor[columns].rename(columns=newColumns)\n",
    "\n",
    "# reduce columns to only contain MOF features\n",
    "shared_descriptor = [col for col in dfShortNames.columns if col in newColumns]\n",
    "dfMLReduced = dfShortNames[shared_descriptor]\n",
    "\n",
    "# the MOFs in \"dfMLReduced\" and adsorption data sets are different, so it is necessary to match the MOFs in two datasets\n",
    "def datasetMatch(MOFName):\n",
    "    dfML= dfMLReduced[dfMLReduced['MOF'].isin(MOFName)].drop_duplicates()\n",
    "    matchedMOFIndex=np.isin(MOFName, dfML['MOF'].values)\n",
    "    return matchedMOFIndex, dfML\n",
    "\n",
    "# read flexibility data\n",
    "flexibilityList=os.listdir('data/flexibility_data/y_data/adsorption_data') # obtain list of csv files for 9 adsorption uptakes\n",
    "flexivilityData=[]\n",
    "adsorbateNameList = []\n",
    "\n",
    "for i, name in enumerate(flexibilityList):\n",
    "    # read csv files for certain adsorption uptakes\n",
    "    df = pd.read_csv('data/flexibility_data/y_data/adsorption_data/' + name)\n",
    "    \n",
    "    # obtain the rigid value\n",
    "    rigidValue = np.array(df[df.columns[1]], dtype = float)\n",
    "    \n",
    "    # obtain the flexible mean value\n",
    "    flexValue = np.mean(np.array(df[df.columns[2:]],dtype=float),axis=1)\n",
    "    \n",
    "    # obtain the adsorbate label\n",
    "    label = np.array([name.split(\"_\")[1] for x in range(0,len(flexValue))],dtype=str)\n",
    "    adsorbateNameList.append(name.split(\"_\")[1])\n",
    "    \n",
    "    # stack the rigid value, flexible mean value and the adsorbate label\n",
    "    singleSet = np.column_stack([rigidValue,flexValue,label])\n",
    "\n",
    "    if i == 0:\n",
    "        # obtain the name list of MOFs\n",
    "        MOFNameTemp = np.array(df[df.columns[0]], dtype = str)\n",
    "        MOFName = [x.split(\"_\")[0] for x in MOFNameTemp]\n",
    "        \n",
    "        # search the MOF name in \"dfMLReduced\", generating dfML\n",
    "        matchedMOFIndex, dfML = datasetMatch(MOFName)\n",
    "        print(\"The number of MOFs shared by two datasets are: {:d}.\".format(dfML.shape[0]))\n",
    "        \n",
    "        # generating flexibilityData as \"y\"\n",
    "        flexibilityData = singleSet[matchedMOFIndex,:].copy()\n",
    "    else:\n",
    "        # concatenate \"y\"\n",
    "        flexibilityData = np.concatenate([flexibilityData.copy(),singleSet[matchedMOFIndex,:].copy()])\n",
    "\n",
    "# manually add adsorbate descriptors\n",
    "\n",
    "# Mw/gr.mol-1, Tc/K, Pc/bar, ω, Tb/K, Tf/K\n",
    "\n",
    "adsorbateData=np.array([\n",
    "    ['xenon',131.293,289.7,58.4,0.008,164.87,161.2], \n",
    "    ['butane',58.1,449.8,39.5,0.3,280.1,146.7], \n",
    "    ['propene',42.1,436.9,51.7,0.2,254.8,150.6], \n",
    "    ['ethane',30.1,381.8,50.3,0.2,184.0,126.2], \n",
    "    ['propane',44.1,416.5,44.6,0.2,230.1,136.5], \n",
    "    ['CO2',44.0,295.9,71.8,0.2,317.4,204.9], \n",
    "    ['ethene',28.054,282.5,51.2,0.089,169.3,228], \n",
    "    ['methane',16.04,190.4,46.0,0.011,111.5,91],\n",
    "    ['krypton',83.798,209.4,55.0,0.005,119.6,115.6]])\n",
    "\n",
    "adsorbateData.shape\n",
    "adDf = pd.DataFrame(data=adsorbateData, columns=[\"adsorbate\", \"Mw/gr.mol-1\", \"Tc/K\", \"Pc/bar\", \"ω\", \"Tb/K\", \"Tf/K\"])\n",
    "\n",
    "# sort the dataframe based on adsorbateNameList\n",
    "sorterIndex = dict(zip(adsorbateNameList,range(len(adsorbateNameList))))\n",
    "adDf['an_Rank'] = adDf['adsorbate'].map(sorterIndex)\n",
    "adDf.sort_values(['an_Rank'],ascending = [True], inplace = True)\n",
    "adDf.drop('an_Rank', 1, inplace = True)\n",
    "adDfFloat = adDf.iloc[:, 1:].astype(np.float)\n",
    "adDfFloat[\"adsorbate\"] = adDf[\"adsorbate\"]\n",
    "\n",
    "\n",
    "# replicate dfML for 9 adsorbates\n",
    "dfMLReplicate = pd.concat([dfML]*9)\n",
    "\n",
    "# replicate adDf for 89 MOFs\n",
    "adDfReplicate = pd.DataFrame(np.repeat(adDfFloat.values,89,axis=0))\n",
    "adDfReplicate.columns = adDfFloat.columns\n",
    "\n",
    "# concatenate two datasets\n",
    "dfMLReplicate.reset_index(drop=True, inplace=True)\n",
    "adDfReplicate.reset_index(drop=True, inplace=True)\n",
    "XAllDescriptor = pd.concat([dfMLReplicate, adDfReplicate],axis=1)\n",
    "\n",
    "X = np.concatenate((XAllDescriptor.iloc[:, 1:-1], flexibilityData[:, 0].reshape(-1, 1)),axis=1).astype(np.float)\n",
    "y = flexibilityData[:, 1].astype('float64') .reshape(-1,1)\n",
    "\n",
    "\n",
    "# feature scaling\n",
    "X_scaled = (X - X.mean(axis=0))/X.std(axis=0) "
   ]
  },
  {
   "cell_type": "code",
   "execution_count": 3,
   "metadata": {},
   "outputs": [],
   "source": [
    "np.random.seed(5)\n",
    "from sklearn.model_selection import train_test_split\n",
    "\n",
    "# combine the unscaled and scaled X, so that they can be split together\n",
    "X_combined = np.concatenate((X, X_scaled), axis=1)\n",
    "\n",
    "# ---------------------------- don't touch the validation set ----------------------------\n",
    "X_train_test_combined, X_validation_combined, y_train_test, y_validation = train_test_split(X_combined, \\\n",
    "                                                                                            y, test_size=0.25)\n",
    "X_train_test, X_train_test_scaled = X_train_test_combined[:, :35], X_train_test_combined[:, 35:]\n",
    "X_validation, X_validation_scaled = X_validation_combined[:, :35], X_validation_combined[:, 35:]\n",
    "# ---------------------------- don't touch the validation set ----------------------------"
   ]
  },
  {
   "cell_type": "code",
   "execution_count": 4,
   "metadata": {},
   "outputs": [],
   "source": [
    "from sklearn.model_selection import KFold\n",
    "\n",
    "kf = KFold(n_splits=5, shuffle = True)\n",
    "\n",
    "for i, (train_index, test_index) in enumerate(kf.split(X_train_test_combined)):\n",
    "    \n",
    "    # initialize sets\n",
    "    if i == 0:\n",
    "        X_train_combined_5fold = np.zeros(X_train_test_combined[train_index].shape + (5,))\n",
    "        X_test_combined_5fold = np.zeros(X_train_test_combined[test_index].shape + (5,))\n",
    "        y_train_5fold = np.zeros(y_train_test[train_index].shape + (5,))\n",
    "        y_test_5fold = np.zeros(y_train_test[test_index].shape + (5,))\n",
    "        \n",
    "    X_train_combined_5fold[:, :, i], X_test_combined_5fold[:, :, i] = X_train_test_combined[train_index], X_train_test_combined[test_index]\n",
    "    y_train_5fold[:, :, i], y_test_5fold[:, :, i] = y_train_test[train_index], y_train_test[test_index]\n",
    "\n",
    "X_train_5fold, X_train_scaled_5fold = X_train_combined_5fold[:, :35], X_train_combined_5fold[:, 35:]\n",
    "X_test_5fold, X_test_scaled_5fold = X_test_combined_5fold[:, :35], X_test_combined_5fold[:, 35:]"
   ]
  },
  {
   "cell_type": "markdown",
   "metadata": {},
   "source": [
    "## RBF\n",
    "### unscaled\n"
   ]
  },
  {
   "cell_type": "code",
   "execution_count": 5,
   "metadata": {},
   "outputs": [
    {
     "name": "stdout",
     "output_type": "stream",
     "text": [
      "Fold 0:\tr2=0.024,\toptimal gamma=2e+00\n",
      "Fold 1:\tr2=0.075,\toptimal gamma=5e-01\t\t<-best performance\n",
      "Fold 2:\tr2=0.034,\toptimal gamma=2e+00\n",
      "Fold 3:\tr2=0.015,\toptimal gamma=5e+01\n",
      "Fold 4:\tr2=0.042,\toptimal gamma=5e+01\n"
     ]
    }
   ],
   "source": [
    "from sklearn.metrics.pairwise import rbf_kernel\n",
    "from sklearn.linear_model import LinearRegression\n",
    "\n",
    "sigmas = np.array([1E-4, 5E-4, 1E-3, 5E-3, 0.01, 0.05, 0.1, 0.5, 1, 5, 10, 15, 20, 25, 30, 40, 50, 60])\n",
    "gammas = 1./(2*sigmas**2)\n",
    "r2_matrix = np.zeros((gammas.size, 3))\n",
    "\n",
    "rbf_r2_list = []\n",
    "rbf_coef_list = []\n",
    "rbf_gamma_list = []\n",
    "\n",
    "for i in range(5):\n",
    "    \n",
    "    rbf_coef_temp_list = [] # temporarily store parameter values for each gamma\n",
    "    \n",
    "    for j, gamma in enumerate(gammas):\n",
    "    \n",
    "        X_train_kernel = rbf_kernel(X_train_5fold[:, :, i], X_train_5fold[:, :, i], gamma = gamma)\n",
    "        X_test_kernel = rbf_kernel(X_test_5fold[:, :, i], X_train_5fold[:, :, i], gamma = gamma)\n",
    "        model_rbf = LinearRegression()\n",
    "        model_rbf.fit(X_train_kernel, y_train_5fold[:, :, i])\n",
    "\n",
    "        r2_matrix[j, 0] = gamma\n",
    "        r2_matrix[j, 1] = model_rbf.score(X_train_kernel, y_train_5fold[:, :, i])\n",
    "        r2_matrix[j, -1] = model_rbf.score(X_test_kernel, y_test_5fold[:, :, i])\n",
    "        \n",
    "        rbf_coef_temp_list.append(model_rbf.coef_)\n",
    "\n",
    "    # For each fold, record the optimal gamma and the corresponding parameter values and r2\n",
    "    n = r2_matrix[:, -1].argmax()\n",
    "    rbf_r2_list.append(r2_matrix[n, -1])\n",
    "    rbf_gamma_list.append(r2_matrix[n, 0])\n",
    "    rbf_coef_list.append(rbf_coef_temp_list[n])\n",
    "\n",
    "\n",
    "best_i = np.array(rbf_r2_list).argmax()\n",
    "rbf_r2_best1=rbf_r2_list[best_i]\n",
    "rbf_gamma_best = rbf_gamma_list[best_i]\n",
    "rbf_coef_best = rbf_coef_list[best_i]\n",
    "\n",
    "\n",
    "for i in range(5):\n",
    "    if i != best_i:\n",
    "        print(\"Fold {}:\\tr2={:.3f},\\toptimal gamma={:.0e}\".format(i, rbf_r2_list[i], rbf_gamma_list[i]))\n",
    "    else:\n",
    "        print(\"Fold {}:\\tr2={:.3f},\\toptimal gamma={:.0e}\\t\\t<-best performance\".format(i, rbf_r2_list[i], rbf_gamma_list[i]))"
   ]
  },
  {
   "cell_type": "code",
   "execution_count": 6,
   "metadata": {},
   "outputs": [
    {
     "name": "stdout",
     "output_type": "stream",
     "text": [
      "Fold 0:\tr2=-5.880,\toptimal gamma=9e-01\n",
      "Fold 1:\tr2=0.083,\toptimal gamma=3e-01\t\t<-best performance\n",
      "Fold 2:\tr2=0.037,\toptimal gamma=9e-01\n",
      "Fold 3:\tr2=-0.081,\toptimal gamma=9e-01\n",
      "Fold 4:\tr2=-1.218,\toptimal gamma=1e+00\n"
     ]
    }
   ],
   "source": [
    "from sklearn.metrics.pairwise import rbf_kernel\n",
    "from sklearn.linear_model import LinearRegression\n",
    "\n",
    "gammas = np.linspace(0.1,1,10)\n",
    "r2_matrix_rbf = np.zeros((gammas.size, 3))\n",
    "\n",
    "rbf_r2_list = []\n",
    "rbf_coef_list = []\n",
    "rbf_gamma_list = []\n",
    "\n",
    "for i in range(5):\n",
    "    \n",
    "    rbf_coef_temp_list = [] # temporarily store parameter values for each gamma\n",
    "    \n",
    "    for j, gamma in enumerate(gammas):\n",
    "    \n",
    "        X_train_kernel = rbf_kernel(X_train_5fold[:, :, i], X_train_5fold[:, :, i], gamma = gamma)\n",
    "        X_test_kernel = rbf_kernel(X_test_5fold[:, :, i], X_train_5fold[:, :, i], gamma = gamma)\n",
    "        model_rbf = LinearRegression()\n",
    "        model_rbf.fit(X_train_kernel, y_train_5fold[:, :, i])\n",
    "\n",
    "        r2_matrix_rbf[j, 0] = gamma\n",
    "        r2_matrix_rbf[j, 1] = model_rbf.score(X_train_kernel, y_train_5fold[:, :, i])\n",
    "        r2_matrix_rbf[j, -1] = model_rbf.score(X_test_kernel, y_test_5fold[:, :, i])\n",
    "        \n",
    "        rbf_coef_temp_list.append(model_rbf.coef_)\n",
    "\n",
    "    # For each fold, record the optimal gamma and the corresponding parameter values and r2\n",
    "    n = r2_matrix_rbf[:, -1].argmax()\n",
    "    rbf_r2_list.append(r2_matrix_rbf[n, -1])\n",
    "    rbf_gamma_list.append(r2_matrix_rbf[n, 0])\n",
    "    rbf_coef_list.append(rbf_coef_temp_list[n])\n",
    "\n",
    "\n",
    "best_i = np.array(rbf_r2_list).argmax()\n",
    "rbf_r2_best2=rbf_r2_list[best_i]\n",
    "rbf_gamma_best = rbf_gamma_list[best_i]\n",
    "rbf_coef_best = rbf_coef_list[best_i]\n",
    "\n",
    "for i in range(5):\n",
    "    if i != best_i:\n",
    "        print(\"Fold {}:\\tr2={:.3f},\\toptimal gamma={:.0e}\".format(i, rbf_r2_list[i], rbf_gamma_list[i]))\n",
    "    else:\n",
    "        print(\"Fold {}:\\tr2={:.3f},\\toptimal gamma={:.0e}\\t\\t<-best performance\".format(i, rbf_r2_list[i], rbf_gamma_list[i]))"
   ]
  },
  {
   "cell_type": "markdown",
   "metadata": {},
   "source": [
    "### scaled data"
   ]
  },
  {
   "cell_type": "code",
   "execution_count": 7,
   "metadata": {},
   "outputs": [
    {
     "name": "stdout",
     "output_type": "stream",
     "text": [
      "Fold 0:\tr2=0.214,\toptimal gamma=2e+00\n",
      "Fold 1:\tr2=0.670,\toptimal gamma=2e-03\t\t<-best performance\n",
      "Fold 2:\tr2=0.206,\toptimal gamma=2e+00\n",
      "Fold 3:\tr2=0.101,\toptimal gamma=2e+00\n",
      "Fold 4:\tr2=0.146,\toptimal gamma=2e+00\n"
     ]
    }
   ],
   "source": [
    "from sklearn.metrics.pairwise import rbf_kernel\n",
    "from sklearn.linear_model import LinearRegression\n",
    "\n",
    "sigmas = np.array([1E-4, 5E-4, 1E-3, 5E-3, 0.01, 0.05, 0.1, 0.5, 1, 5, 10, 15, 20, 25, 30, 40, 50, 60])\n",
    "gammas = 1./(2*sigmas**2)\n",
    "r2_matrix = np.zeros((gammas.size, 3))\n",
    "\n",
    "rbf_r2_list_scaled = []\n",
    "rbf_coef_list_scaled = []\n",
    "rbf_gamma_list_scaled = []\n",
    "\n",
    "for i in range(5):\n",
    "    \n",
    "    rbf_coef_temp_list = [] # temporarily store parameter values for each gamma\n",
    "    \n",
    "    for j, gamma in enumerate(gammas):\n",
    "    \n",
    "        X_train_scaled_kernel = rbf_kernel(X_train_scaled_5fold[:, :, i], X_train_scaled_5fold[:, :, i], gamma = gamma)\n",
    "        X_test_scaled_kernel = rbf_kernel(X_test_scaled_5fold[:, :, i], X_train_scaled_5fold[:, :, i], gamma = gamma)\n",
    "        model_rbf = LinearRegression()\n",
    "        model_rbf.fit(X_train_scaled_kernel, y_train_5fold[:, :, i])\n",
    "\n",
    "        r2_matrix[j, 0] = gamma\n",
    "        r2_matrix[j, 1] = model_rbf.score(X_train_scaled_kernel, y_train_5fold[:, :, i])\n",
    "        r2_matrix[j, -1] = model_rbf.score(X_test_scaled_kernel, y_test_5fold[:, :, i])\n",
    "        \n",
    "        rbf_coef_temp_list.append(model_rbf.coef_)\n",
    "\n",
    "    # For each fold, record the optimal gamma and the corresponding parameter values and r2\n",
    "    n = r2_matrix[:, -1].argmax()\n",
    "    rbf_r2_list_scaled.append(r2_matrix[n, -1])\n",
    "    rbf_gamma_list_scaled.append(r2_matrix[n, 0])\n",
    "    rbf_coef_list_scaled.append(rbf_coef_temp_list[n])\n",
    "\n",
    "\n",
    "best_i = np.array(rbf_r2_list_scaled).argmax()\n",
    "rbf_r2_best_scaled1=rbf_r2_list_scaled[best_i]\n",
    "rbf_gamma_best_scaled = rbf_gamma_list[best_i]\n",
    "rbf_coef_best_scaled = rbf_coef_list[best_i]\n",
    "\n",
    "for i in range(5):\n",
    "    if i != best_i:\n",
    "        print(\"Fold {}:\\tr2={:.3f},\\toptimal gamma={:.0e}\".format(i, rbf_r2_list_scaled[i], rbf_gamma_list_scaled[i]))\n",
    "    else:\n",
    "        print(\"Fold {}:\\tr2={:.3f},\\toptimal gamma={:.0e}\\t\\t<-best performance\".format(i, rbf_r2_list_scaled[i], rbf_gamma_list_scaled[i]))"
   ]
  },
  {
   "cell_type": "code",
   "execution_count": 8,
   "metadata": {},
   "outputs": [
    {
     "name": "stdout",
     "output_type": "stream",
     "text": [
      "Fold 0:\tr2=0.461,\toptimal gamma=2e-02\n",
      "Fold 1:\tr2=0.421,\toptimal gamma=2e-03\n",
      "Fold 2:\tr2=-34.607,\toptimal gamma=2e-04\n",
      "Fold 3:\tr2=0.917,\toptimal gamma=9e-03\t\t<-best performance\n",
      "Fold 4:\tr2=-12.844,\toptimal gamma=5e-03\n"
     ]
    }
   ],
   "source": [
    "from sklearn.metrics.pairwise import rbf_kernel\n",
    "from sklearn.linear_model import LinearRegression\n",
    "\n",
    "gammas = np.linspace(2e-04,2e-02,10)\n",
    "r2_matrix = np.zeros((gammas.size, 3))\n",
    "\n",
    "rbf_r2_list_scaled = []\n",
    "rbf_coef_list_scaled = []\n",
    "rbf_gamma_list_scaled = []\n",
    "\n",
    "for i in range(5):\n",
    "    \n",
    "    rbf_coef_temp_list = [] # temporarily store parameter values for each gamma\n",
    "    \n",
    "    for j, gamma in enumerate(gammas):\n",
    "    \n",
    "        X_train_scaled_kernel = rbf_kernel(X_train_scaled_5fold[:, :, i], X_train_scaled_5fold[:, :, i], gamma = gamma)\n",
    "        X_test_scaled_kernel = rbf_kernel(X_test_scaled_5fold[:, :, i], X_train_scaled_5fold[:, :, i], gamma = gamma)\n",
    "        model_rbf = LinearRegression()\n",
    "        model_rbf.fit(X_train_scaled_kernel, y_train_5fold[:, :, i])\n",
    "\n",
    "        r2_matrix[j, 0] = gamma\n",
    "        r2_matrix[j, 1] = model_rbf.score(X_train_scaled_kernel, y_train_5fold[:, :, i])\n",
    "        r2_matrix[j, -1] = model_rbf.score(X_test_scaled_kernel, y_test_5fold[:, :, i])\n",
    "        \n",
    "        rbf_coef_temp_list.append(model_rbf.coef_)\n",
    "\n",
    "    # For each fold, record the optimal gamma and the corresponding parameter values and r2\n",
    "    n = r2_matrix[:, -1].argmax()\n",
    "    rbf_r2_list_scaled.append(r2_matrix[n, -1])\n",
    "    rbf_gamma_list_scaled.append(r2_matrix[n, 0])\n",
    "    rbf_coef_list_scaled.append(rbf_coef_temp_list[n])\n",
    "\n",
    "\n",
    "best_i = np.array(rbf_r2_list_scaled).argmax()\n",
    "rbf_r2_best_scaled2=rbf_r2_list_scaled[best_i]\n",
    "rbf_gamma_best_scaled = rbf_gamma_list[best_i]\n",
    "rbf_coef_best_scaled = rbf_coef_list[best_i]\n",
    "\n",
    "for i in range(5):\n",
    "    if i != best_i:\n",
    "        print(\"Fold {}:\\tr2={:.3f},\\toptimal gamma={:.0e}\".format(i, rbf_r2_list_scaled[i], rbf_gamma_list_scaled[i]))\n",
    "    else:\n",
    "        print(\"Fold {}:\\tr2={:.3f},\\toptimal gamma={:.0e}\\t\\t<-best performance\".format(i, rbf_r2_list_scaled[i], rbf_gamma_list_scaled[i]))"
   ]
  },
  {
   "cell_type": "markdown",
   "metadata": {},
   "source": [
    "## LASSO\n",
    "### unscaled"
   ]
  },
  {
   "cell_type": "code",
   "execution_count": 9,
   "metadata": {},
   "outputs": [
    {
     "name": "stdout",
     "output_type": "stream",
     "text": [
      "[[ 5.00000000e+07  1.00000000e-03 -2.17798937e-02  7.60000000e+01]\n",
      " [ 2.00000000e+06  1.00000000e-03 -2.17744035e-02  7.60000000e+01]\n",
      " [ 5.00000000e+05  1.00000000e-01 -1.40032773e-02  6.00000000e+02]\n",
      " [ 2.00000000e+04  1.00000000e-03 -6.57022053e-03  7.70000000e+01]\n",
      " [ 5.00000000e+03  1.00000000e-03  5.34046005e-03  7.70000000e+01]\n",
      " [ 2.00000000e+02  1.00000000e-03  1.27881031e-02  7.90000000e+01]\n",
      " [ 5.00000000e+01  1.00000000e-03  1.51933184e-02  8.20000000e+01]\n",
      " [ 2.00000000e+00  1.00000000e-03  2.95544967e-02  8.50000000e+01]\n",
      " [ 5.00000000e-01  1.00000000e-03  5.94089318e-02  7.80000000e+01]\n",
      " [ 2.00000000e-02  1.00000000e-02  2.10546743e-01  5.04000000e+02]\n",
      " [ 5.00000000e-03  1.00000000e-03  4.67334535e-01  9.20000000e+01]\n",
      " [ 2.22222222e-03  1.00000000e-03  4.79264669e-01  1.07000000e+02]\n",
      " [ 1.25000000e-03  1.00000000e-04  3.65841808e-01  7.00000000e+00]\n",
      " [ 8.00000000e-04  1.00000000e-05  2.89507466e-01  2.00000000e+00]\n",
      " [ 5.55555556e-04  1.00000000e-05  1.53948121e-01  1.00000000e+00]\n",
      " [ 3.12500000e-04  1.00000000e-05  1.48576370e-01  0.00000000e+00]\n",
      " [ 2.00000000e-04  1.00000000e-05  1.88281146e-01  0.00000000e+00]\n",
      " [ 1.38888889e-04  1.00000000e-02  9.35450456e-02  4.48000000e+02]]\n",
      "Best gamma is: 2e-03\n",
      "Best alpha is: 1e-03\n",
      "r square is: 0.479\n",
      "Number of dropped features: 107.0\n",
      "\n",
      "====== Second GridSearchCV Refinement ======\n",
      "\n",
      "[[2.00000000e-02 2.00000000e-03 3.42842828e-01 1.71000000e+02]\n",
      " [1.38888889e-02 2.00000000e-03 3.52457569e-01 1.75000000e+02]\n",
      " [1.02040816e-02 2.00000000e-03 3.75630065e-01 1.93000000e+02]\n",
      " [7.81250000e-03 1.00000000e-03 3.98160560e-01 8.50000000e+01]\n",
      " [6.17283951e-03 2.00000000e-03 4.32594749e-01 1.99000000e+02]\n",
      " [5.00000000e-03 1.00000000e-03 4.36178283e-01 9.20000000e+01]\n",
      " [4.13223140e-03 5.00000000e-04 4.70458423e-01 3.10000000e+01]\n",
      " [3.47222222e-03 5.00000000e-04 4.55920317e-01 3.70000000e+01]\n",
      " [2.95857988e-03 5.00000000e-04 4.55546236e-01 4.60000000e+01]\n",
      " [2.55102041e-03 5.00000000e-04 3.70385936e-01 4.80000000e+01]\n",
      " [2.22222222e-03 1.00000000e-04 4.26774478e-01 1.30000000e+01]]\n",
      "Best gamma is: 4e-03\n",
      "Best alpha is: 5e-04\n",
      "r square is: 0.470\n",
      "Number of dropped features: 31.0\n"
     ]
    }
   ],
   "source": [
    "from sklearn.linear_model import Lasso\n",
    "from sklearn.model_selection import GridSearchCV\n",
    "\n",
    "sigmas = np.array([1E-4, 5E-4, 1E-3, 5E-3, 0.01, 0.05, 0.1, 0.5, 1, 5, 10, 15, 20, 25, 30, 40, 50, 60])\n",
    "gammas = 1./(2*sigmas**2)\n",
    "r2_matrix = np.zeros((gammas.size, 4))\n",
    "\n",
    "alphas = np.array([1e-5, 1e-4, 1e-3, 1e-2, 1e-1, 1, 10, 100])\n",
    "parameter_set = {'alpha':alphas}\n",
    "\n",
    "     \n",
    "for j, gamma in enumerate(gammas):\n",
    "    \n",
    "    X_train_kernel = rbf_kernel(X_train_test, X_train_test, gamma = gamma)\n",
    "        \n",
    "    LASSO = Lasso(tol=1)\n",
    "    LASSO_search = GridSearchCV(LASSO, parameter_set, cv =kf)\n",
    "    LASSO_search.fit(X_train_kernel, y_train_test)\n",
    "\n",
    "    r2_matrix[j, 0] = gamma\n",
    "    r2_matrix[j, 1] = LASSO_search.best_estimator_.alpha\n",
    "    r2_matrix[j, 2] = LASSO_search.best_score_\n",
    "    coeffs = LASSO_search.best_estimator_.coef_\n",
    "    nonzero = [f for f in np.isclose(coeffs,0) if f == True]\n",
    "    num_dropped = len(nonzero)\n",
    "    r2_matrix[j, -1] = int(num_dropped)\n",
    "        \n",
    "n = r2_matrix[:, 2].argmax()\n",
    "print(r2_matrix)\n",
    "\n",
    "print('Best gamma is: {:.0e}'.format(r2_matrix[n,0]))\n",
    "print('Best alpha is: {:.0e}'.format(r2_matrix[n,1]))\n",
    "print('r square is: {:.3f}'.format(r2_matrix[n,2]))\n",
    "print('Number of dropped features: {}'.format(r2_matrix[n,-1]))\n",
    "\n",
    "lasso_r2_best_1=r2_matrix[n,2]\n",
    "\n",
    "#Second refinement\n",
    "print('\\n====== Second GridSearchCV Refinement ======\\n')\n",
    "\n",
    "sigmas = np.array([5, 6, 7, 8, 9, 10, 11, 12, 13, 14, 15])\n",
    "gammas = 1./(2*sigmas**2)\n",
    "r2_matrix = np.zeros((gammas.size, 4))\n",
    "\n",
    "alphas = np.array([1e-4, 5e-4, 8e-4, 9e-4, 1e-3, 2e-3, 3e-3, 5e-3, 7e-3])\n",
    "parameter_set = {'alpha':alphas}\n",
    "\n",
    "CO=[]\n",
    "     \n",
    "for j, gamma in enumerate(gammas):\n",
    "    \n",
    "    X_train_kernel = rbf_kernel(X_train_test, X_train_test, gamma = gamma)\n",
    "        \n",
    "    LASSO = Lasso(tol=1)\n",
    "    LASSO_search = GridSearchCV(LASSO, parameter_set, cv =kf)\n",
    "    LASSO_search.fit(X_train_kernel, y_train_test)\n",
    "\n",
    "    r2_matrix[j, 0] = gamma\n",
    "    r2_matrix[j, 1] = LASSO_search.best_estimator_.alpha\n",
    "    r2_matrix[j, 2] = LASSO_search.best_score_\n",
    "    coeffs = LASSO_search.best_estimator_.coef_\n",
    "    CO.append(coeffs)\n",
    "    nonzero = [f for f in np.isclose(coeffs,0) if f == True]\n",
    "    num_dropped = len(nonzero)\n",
    "    r2_matrix[j, -1] = int(num_dropped)\n",
    "        \n",
    "n = r2_matrix[:, 2].argmax()\n",
    "print(r2_matrix)\n",
    "\n",
    "print('Best gamma is: {:.0e}'.format(r2_matrix[n,0]))\n",
    "print('Best alpha is: {:.0e}'.format(r2_matrix[n,1]))\n",
    "print('r square is: {:.3f}'.format(r2_matrix[n,2]))\n",
    "print('Number of dropped features: {}'.format(r2_matrix[n,-1]))\n",
    "\n",
    "lasso_r2_best_2=r2_matrix[n,2]\n",
    "lasso_best_gamma=r2_matrix[n,0]\n",
    "lasso_best_alpha=r2_matrix[n,1]\n",
    "lasso_dropped_features=r2_matrix[n,-1]\n",
    "lasso_largest_coef=max(abs(CO[n]))"
   ]
  },
  {
   "cell_type": "markdown",
   "metadata": {},
   "source": [
    "### Scaled"
   ]
  },
  {
   "cell_type": "code",
   "execution_count": 10,
   "metadata": {},
   "outputs": [
    {
     "name": "stdout",
     "output_type": "stream",
     "text": [
      "[[ 5.00000000e+07  1.00000000e-02 -4.12366976e-02  5.57000000e+02]\n",
      " [ 2.00000000e+06  1.00000000e-01 -2.22236996e-03  6.00000000e+02]\n",
      " [ 5.00000000e+05  1.00000000e-01 -1.45211117e-02  6.00000000e+02]\n",
      " [ 2.00000000e+04  1.00000000e-01 -2.04279557e-02  6.00000000e+02]\n",
      " [ 5.00000000e+03  1.00000000e-01 -1.14225242e-02  6.00000000e+02]\n",
      " [ 2.00000000e+02  1.00000000e-03  6.23328124e-03  8.10000000e+01]\n",
      " [ 5.00000000e+01  1.00000000e-03  2.74816036e-02  8.50000000e+01]\n",
      " [ 2.00000000e+00  1.00000000e-02  8.14171449e-02  5.31000000e+02]\n",
      " [ 5.00000000e-01  1.00000000e-02  2.21598628e-01  4.98000000e+02]\n",
      " [ 2.00000000e-02  1.00000000e-05  9.32261314e-01  0.00000000e+00]\n",
      " [ 5.00000000e-03  1.00000000e-05  9.12538668e-01  0.00000000e+00]\n",
      " [ 2.22222222e-03  1.00000000e-05  9.05178155e-01  1.00000000e+00]\n",
      " [ 1.25000000e-03  1.00000000e-05  8.89170313e-01  1.00000000e+00]\n",
      " [ 8.00000000e-04  1.00000000e-05  9.00581772e-01  2.00000000e+00]\n",
      " [ 5.55555556e-04  1.00000000e-05  8.90605955e-01  2.00000000e+00]\n",
      " [ 3.12500000e-04  1.00000000e-05  8.93621481e-01  1.00000000e+01]\n",
      " [ 2.00000000e-04  1.00000000e-05  8.91924161e-01  1.30000000e+01]\n",
      " [ 1.38888889e-04  1.00000000e-05  8.90579226e-01  2.00000000e+01]]\n",
      "Best gamma is: 2e-02\n",
      "Best alpha is: 1e-05\n",
      "r square is: 0.932\n",
      "Number of dropped features: 0.0\n",
      "\n",
      "====== Second GridSearchCV Refinement ======\n",
      "\n",
      "[[ 5.00000000e-01  5.00000000e-05 -1.96529334e+01  3.00000000e+00]\n",
      " [ 1.25000000e-01  5.00000000e-05  4.73909304e-01  4.00000000e+00]\n",
      " [ 5.55555556e-02  5.00000000e-05  8.90477808e-01  3.00000000e+00]\n",
      " [ 3.12500000e-02  5.00000000e-05  9.23675605e-01  2.00000000e+00]\n",
      " [ 2.00000000e-02  1.00000000e-05  9.31913244e-01  0.00000000e+00]\n",
      " [ 1.38888889e-02  1.00000000e-05  9.29651620e-01  0.00000000e+00]\n",
      " [ 1.02040816e-02  1.00000000e-05  9.25899032e-01  0.00000000e+00]\n",
      " [ 7.81250000e-03  1.00000000e-05  9.20350394e-01  4.00000000e+00]\n",
      " [ 6.17283951e-03  1.00000000e-05  9.14816138e-01  0.00000000e+00]\n",
      " [ 5.00000000e-03  1.00000000e-05  9.09085032e-01  0.00000000e+00]]\n",
      "Best gamma is: 2e-02\n",
      "Best alpha is: 1e-05\n",
      "r square is: 0.932\n",
      "Number of dropped features: 0.0\n"
     ]
    }
   ],
   "source": [
    "sigmas = np.array([1E-4, 5E-4, 1E-3, 5E-3, 0.01, 0.05, 0.1, 0.5, 1, 5, 10, 15, 20, 25, 30, 40, 50, 60])\n",
    "gammas = 1./(2*sigmas**2)\n",
    "r2_matrix = np.zeros((gammas.size, 4))\n",
    "\n",
    "alphas = np.array([1e-5, 1e-4, 1e-3, 1e-2, 1e-1, 1, 10, 100])\n",
    "parameter_set = {'alpha':alphas}\n",
    "\n",
    "     \n",
    "for j, gamma in enumerate(gammas):\n",
    "    \n",
    "    X_train_kernel = rbf_kernel(X_train_test_scaled, X_train_test_scaled, gamma = gamma)\n",
    "        \n",
    "    LASSO = Lasso(tol=1)\n",
    "    LASSO_search = GridSearchCV(LASSO, parameter_set, cv =kf)\n",
    "    LASSO_search.fit(X_train_kernel, y_train_test)\n",
    "\n",
    "    r2_matrix[j, 0] = gamma\n",
    "    r2_matrix[j, 1] = LASSO_search.best_estimator_.alpha\n",
    "    r2_matrix[j, 2] = LASSO_search.best_score_\n",
    "    coeffs = LASSO_search.best_estimator_.coef_\n",
    "    nonzero = [f for f in np.isclose(coeffs,0) if f == True]\n",
    "    num_dropped = len(nonzero)\n",
    "    r2_matrix[j, -1] = num_dropped\n",
    "        \n",
    "n = r2_matrix[:, 2].argmax()\n",
    "print(r2_matrix)\n",
    "\n",
    "print('Best gamma is: {:.0e}'.format(r2_matrix[n,0]))\n",
    "print('Best alpha is: {:.0e}'.format(r2_matrix[n,1]))\n",
    "print('r square is: {:.3f}'.format(r2_matrix[n,2]))\n",
    "print('Number of dropped features: {}'.format(r2_matrix[n,-1]))\n",
    "\n",
    "lasso_r2_best_scaled1=r2_matrix[n,2]\n",
    "\n",
    "#Second refinement\n",
    "print('\\n====== Second GridSearchCV Refinement ======\\n')\n",
    "\n",
    "sigmas = np.array([1, 2, 3, 4, 5, 6, 7, 8, 9, 10])\n",
    "gammas = 1./(2*sigmas**2)\n",
    "r2_matrix = np.zeros((gammas.size, 4))\n",
    "\n",
    "alphas = np.array([1e-5, 2e-5, 3e-5, 4e-5, 5e-5])\n",
    "parameter_set = {'alpha':alphas}\n",
    "CO=[]\n",
    "     \n",
    "for j, gamma in enumerate(gammas):\n",
    "    \n",
    "    X_train_kernel = rbf_kernel(X_train_test_scaled, X_train_test_scaled, gamma = gamma)\n",
    "        \n",
    "    LASSO = Lasso(tol=1)\n",
    "    LASSO_search = GridSearchCV(LASSO, parameter_set, cv =kf)\n",
    "    LASSO_search.fit(X_train_kernel, y_train_test)\n",
    "\n",
    "    r2_matrix[j, 0] = gamma\n",
    "    r2_matrix[j, 1] = LASSO_search.best_estimator_.alpha\n",
    "    r2_matrix[j, 2] = LASSO_search.best_score_\n",
    "    coeffs = LASSO_search.best_estimator_.coef_\n",
    "    CO.append(coeffs)\n",
    "    nonzero = [f for f in np.isclose(coeffs,0) if f == True]\n",
    "    num_dropped = len(nonzero)\n",
    "    r2_matrix[j, -1] = num_dropped\n",
    "        \n",
    "n = r2_matrix[:, 2].argmax()\n",
    "print(r2_matrix)\n",
    "\n",
    "print('Best gamma is: {:.0e}'.format(r2_matrix[n,0]))\n",
    "print('Best alpha is: {:.0e}'.format(r2_matrix[n,1]))\n",
    "print('r square is: {:.3f}'.format(r2_matrix[n,2]))\n",
    "print('Number of dropped features: {}'.format(r2_matrix[n,-1]))\n",
    "\n",
    "lasso_r2_best_scaled2=r2_matrix[n,2]\n",
    "lasso_best_gamma_scaled=r2_matrix[n,0]\n",
    "lasso_best_alpha_scaled=r2_matrix[n,1]\n",
    "lasso_dropped_features_scaled=r2_matrix[n,-1]\n",
    "lasso_largest_coef_scaled=max(abs(CO[n]))"
   ]
  },
  {
   "cell_type": "markdown",
   "metadata": {},
   "source": [
    "## Kernel Ridge Regression\n",
    "\n",
    "### Description\n",
    "Regularization is especially important in non-parametric models. In order to avoid over-fitting the model, penalizing models that change very sharply is necessary. By adding a penalty for very large parameters in the loss function, the error of the model is kept small while the size of the parameters is also kept small. By using a kernel and regularize on the sum of squared parameters it is called Kernel Ridge Regression, or KRR. In this project, we use **radial basis function** as the kernel in KRR. The loss function for KRR is as follows:\n",
    "\n",
    "$L = \\sum_i \\epsilon_i^2 + \\alpha ||\\vec{w}||_2$\n",
    "\n",
    "\n",
    "### Hyperparameter tuning strategy\n",
    "\n",
    "There are two main hyperparameters in the KRR:\n",
    "1. $\\alpha$, which controls the strength of regularization\n",
    "2. $\\gamma$ in \n",
    "$rbf(i, j) = exp(-\\gamma (x_i - x_j)^2)$, \n",
    "or $\\gamma = \\frac{1}{2\\sigma^2}$, where $\\sigma$ is the width of the gaussian function:\n",
    "$G(x_i) = exp\\left(\\frac{-(x_i - \\mu)^2}{2\\sigma^2}\\right)$\n",
    "\n",
    "When the hyperparameters are tuned, gammas of different orders of magnitude are looped through. `GridSearchCV` is then used to find out the alpha of different orders of magnitude which produces the highest r square value for a given gamma. `GridSearchCV` is called two times to refine the hyperparameters. In the second round of tuning, the range of alpha and gamma is limited to 0.5~5\\*optimal value in the first round.\n",
    "\n",
    "### Regression using unscaled data with hyperparameter tuning"
   ]
  },
  {
   "cell_type": "code",
   "execution_count": 11,
   "metadata": {},
   "outputs": [
    {
     "name": "stdout",
     "output_type": "stream",
     "text": [
      "Highest r2=0.962,\toptimal gamma=2e-04,\toptimal alpha=1e-03\n"
     ]
    }
   ],
   "source": [
    "#GridSearchCV alpha iterate gamma\n",
    "from sklearn.kernel_ridge import KernelRidge\n",
    "from sklearn.model_selection import GridSearchCV\n",
    "\n",
    "sigmas = np.array([1E-4, 5E-4, 1E-3, 5E-3, 0.01, 0.05, 0.1, 0.5, 1, 5, 10, 15, 20, 25, 30, 40, 50, 60])\n",
    "gammas = 1./(2*sigmas**2)\n",
    "alphas = np.array([1e-5, 1e-4, 1e-3, 1e-2, 1e-1, 1, 10, 100])\n",
    "parameter_ranges = {'alpha':alphas}\n",
    "\n",
    "KRR_r2_test_list = []\n",
    "KRR_coef_list = []\n",
    "KRR_gamma_list = []\n",
    "KRR_alpha_list = []\n",
    "\n",
    "for gamma in gammas:\n",
    "    KRR = KernelRidge(kernel='rbf',gamma=gamma)\n",
    "    KRR_search = GridSearchCV(KRR, parameter_ranges, cv=kf)\n",
    "    KRR_search.fit(X_train_test, y_train_test)\n",
    "    KRR_r2_test_list.append(KRR_search.best_score_)\n",
    "    KRR_gamma_list.append(KRR_search.best_estimator_.gamma)\n",
    "    KRR_alpha_list.append(KRR_search.best_estimator_.alpha)\n",
    "    KRR_coef_list.append(KRR_search.best_estimator_.dual_coef_)\n",
    "    \n",
    "best_i = np.array(KRR_r2_test_list).argmax()\n",
    "KRR_r2_best_1= KRR_r2_test_list[best_i]\n",
    "KRR_gamma_best_1 = KRR_gamma_list[best_i]\n",
    "KRR_alpha_best_1 = KRR_alpha_list[best_i]\n",
    "KRR_coef_best_1 = KRR_coef_list[best_i]\n",
    "\n",
    "print(\"Highest r2={:.3f},\\toptimal gamma={:.0e},\\toptimal alpha={:.0e}\".format(KRR_r2_test_list[best_i], KRR_gamma_best_1, KRR_alpha_best_1))"
   ]
  },
  {
   "cell_type": "markdown",
   "metadata": {},
   "source": [
    "In the first round of the hyperparameter tuning, r2 score is high, indicating good performance of the model. "
   ]
  },
  {
   "cell_type": "code",
   "execution_count": 12,
   "metadata": {},
   "outputs": [
    {
     "name": "stdout",
     "output_type": "stream",
     "text": [
      "Highest r2=0.968,\toptimal gamma=1e-04,\toptimal alpha=5e-04\n"
     ]
    }
   ],
   "source": [
    "#Second interation with smaller range of alphas and gammas\n",
    "gammas = np.array([KRR_gamma_best_1*0.5,KRR_gamma_best_1*0.75,KRR_gamma_best_1,KRR_gamma_best_1*2.5,KRR_gamma_best_1*5])\n",
    "alphas = np.array([KRR_alpha_best_1*0.5,KRR_alpha_best_1*0.75,KRR_alpha_best_1,KRR_alpha_best_1*2.5,KRR_alpha_best_1*5])\n",
    "parameter_ranges = {'alpha':alphas}\n",
    "\n",
    "KRR_r2_test_list = []\n",
    "KRR_coef_list = []\n",
    "KRR_gamma_list = []\n",
    "KRR_alpha_list = []\n",
    "    \n",
    "for gamma in gammas:\n",
    "    KRR = KernelRidge(kernel='rbf',gamma=gamma)\n",
    "    KRR_search = GridSearchCV(KRR, parameter_ranges, cv=kf)\n",
    "    KRR_search.fit(X_train_test, y_train_test)\n",
    "    KRR_r2_test_list.append(KRR_search.best_score_)\n",
    "    KRR_gamma_list.append(KRR_search.best_estimator_.gamma)\n",
    "    KRR_alpha_list.append(KRR_search.best_estimator_.alpha)\n",
    "    KRR_coef_list.append(KRR_search.best_estimator_.dual_coef_) \n",
    "    \n",
    "best_i = np.array(KRR_r2_test_list).argmax()\n",
    "KRR_r2_best_2= KRR_r2_test_list[best_i]\n",
    "KRR_gamma_best = KRR_gamma_list[best_i]\n",
    "KRR_alpha_best = KRR_alpha_list[best_i]\n",
    "KRR_coef_best = KRR_coef_list[best_i]\n",
    "\n",
    "print(\"Highest r2={:.3f},\\toptimal gamma={:.0e},\\toptimal alpha={:.0e}\".format(KRR_r2_test_list[best_i], KRR_gamma_best, KRR_alpha_best))"
   ]
  },
  {
   "cell_type": "markdown",
   "metadata": {},
   "source": [
    "In the second round of the hyperparameter tuning, the optimal values of gamma and alpha are different. We don't see a significant improvement in r2 scores, but in the first round the models are already well-performed."
   ]
  },
  {
   "cell_type": "code",
   "execution_count": 13,
   "metadata": {},
   "outputs": [
    {
     "name": "stdout",
     "output_type": "stream",
     "text": [
      "r2_test=0.9752561912817544\n",
      "r2_test=0.9700832743876066\n",
      "r2_test=0.9741393472481519\n",
      "r2_test=0.9631440199536686\n",
      "r2_test=0.9358072290654458\n"
     ]
    },
    {
     "data": {
      "image/png": "[encoded data removed]",
      "text/plain": [
       "<Figure size 1224x432 with 5 Axes>"
      ]
     },
     "metadata": {
      "needs_background": "light"
     },
     "output_type": "display_data"
    }
   ],
   "source": [
    "from sklearn.kernel_ridge import KernelRidge\n",
    "\n",
    "fig, axes = plt.subplots(1, 5, figsize=(17, 6))\n",
    "r2_test=[]\n",
    "\n",
    "axes[0].set_ylabel('Predicted test data')\n",
    "\n",
    "for i in range(5):\n",
    "    X_train = X_train_5fold[:, :, i]\n",
    "    X_test = X_test_5fold[:, :, i]\n",
    "    y_train = y_train_5fold[:, :, i]\n",
    "    y_test = y_test_5fold[:, :, i]\n",
    "    \n",
    "    KRR_unscaled = KernelRidge(alpha=KRR_alpha_best, kernel='rbf', gamma=KRR_gamma_best)\n",
    "    KRR_unscaled.fit(X_train, y_train)\n",
    "    r2_test.append(KRR_unscaled.score(X_test,y_test))\n",
    "    print('r2_test={}'.format(KRR_unscaled.score(X_test,y_test)))\n",
    "    yhat_unscaled_test = KRR_unscaled.predict(X_test)\n",
    "    axes[i].scatter(y_test, yhat_unscaled_test, alpha=0.15, c='r')\n",
    "    axes[i].plot(y_test, y_test, '-k')\n",
    "    axes[i].set_xlabel('Actual test data')\n",
    "    "
   ]
  },
  {
   "cell_type": "markdown",
   "metadata": {},
   "source": [
    "Judging from the r2 for different test sets from 5-fold validation (all>0.9) and the parity plots (nearly no points off-diagonal), the hyperparameters work well for the model.\n",
    "\n",
    "### Regression using scaled data with hyperparameter tuning"
   ]
  },
  {
   "cell_type": "code",
   "execution_count": 14,
   "metadata": {
    "scrolled": true
   },
   "outputs": [
    {
     "name": "stdout",
     "output_type": "stream",
     "text": [
      "Highest r2=0.988,\toptimal gamma=6e-04,\toptimal alpha=1e-04\n"
     ]
    }
   ],
   "source": [
    "#Regression with scaled data\n",
    "#GridSearchCV alpha iterate gamma\n",
    "\n",
    "sigmas = np.array([1E-4, 5E-4, 1E-3, 5E-3, 0.01, 0.05, 0.1, 0.5, 1, 5, 10, 15, 20, 25, 30, 40, 50, 60])\n",
    "gammas = 1./(2*sigmas**2)\n",
    "alphas = np.array([1e-5, 1e-4, 1e-3, 1e-2, 1e-1, 1, 10, 100])\n",
    "parameter_ranges = {'alpha':alphas}\n",
    "\n",
    "KRR_r2_test_scaled_list = []\n",
    "KRR_coef_scaled_list = []\n",
    "KRR_gamma_scaled_list = []\n",
    "KRR_alpha_scaled_list = []\n",
    "\n",
    "for gamma in gammas:\n",
    "    KRR = KernelRidge(kernel='rbf',gamma=gamma)\n",
    "    KRR_search = GridSearchCV(KRR, parameter_ranges, cv=kf)\n",
    "    KRR_search.fit(X_train_test_scaled, y_train_test)\n",
    "    KRR_r2_test_scaled_list.append(KRR_search.best_score_)\n",
    "    KRR_gamma_scaled_list.append(KRR_search.best_estimator_.gamma)\n",
    "    KRR_alpha_scaled_list.append(KRR_search.best_estimator_.alpha)\n",
    "    KRR_coef_scaled_list.append(KRR_search.best_estimator_.dual_coef_)    \n",
    "\n",
    "    \n",
    "best_i = np.array(KRR_r2_test_scaled_list).argmax()\n",
    "KRR_r2_best_scaled1= KRR_r2_test_scaled_list[best_i]\n",
    "KRR_gamma_best_scaled_1 = KRR_gamma_scaled_list[best_i]\n",
    "KRR_alpha_best_scaled_1 = KRR_alpha_scaled_list[best_i]\n",
    "KRR_coef_best_scaled_1 = KRR_coef_scaled_list[best_i]\n",
    "\n",
    "print(\"Highest r2={:.3f},\\toptimal gamma={:.0e},\\toptimal alpha={:.0e}\".format(KRR_r2_test_scaled_list[best_i], KRR_gamma_best_scaled_1, KRR_alpha_best_scaled_1))\n"
   ]
  },
  {
   "cell_type": "markdown",
   "metadata": {},
   "source": [
    "By using scaled data for regression, the r square score is able to improve compared with the model using unscaled data."
   ]
  },
  {
   "cell_type": "code",
   "execution_count": 15,
   "metadata": {},
   "outputs": [
    {
     "name": "stdout",
     "output_type": "stream",
     "text": [
      "Highest r2=0.989,\toptimal gamma=1e-03,\toptimal alpha=5e-04\n"
     ]
    }
   ],
   "source": [
    "#second interation with smaller range of alphas and gammas\n",
    "\n",
    "gammas = np.array([KRR_gamma_best_scaled_1*0.5,KRR_gamma_best_scaled_1*0.75,KRR_gamma_best_scaled_1,KRR_gamma_best_scaled_1*2.5,KRR_gamma_best_scaled_1*5])\n",
    "alphas = np.array([KRR_alpha_best_scaled_1*0.5,KRR_alpha_best_scaled_1*0.75,KRR_alpha_best_scaled_1,KRR_alpha_best_scaled_1*2.5,KRR_alpha_best_scaled_1*5])\n",
    "parameter_ranges = {'alpha':alphas}\n",
    "\n",
    "KRR_r2_test_scaled_list = []\n",
    "KRR_coef_scaled_list = []\n",
    "KRR_gamma_scaled_list = []\n",
    "KRR_alpha_scaled_list = []\n",
    "\n",
    "for gamma in gammas:\n",
    "    KRR = KernelRidge(kernel='rbf',gamma=gamma)\n",
    "    KRR_search = GridSearchCV(KRR, parameter_ranges, cv=kf)\n",
    "    KRR_search.fit(X_train_test_scaled, y_train_test)\n",
    "    KRR_r2_test_scaled_list.append(KRR_search.best_score_)\n",
    "    KRR_gamma_scaled_list.append(KRR_search.best_estimator_.gamma)\n",
    "    KRR_alpha_scaled_list.append(KRR_search.best_estimator_.alpha)\n",
    "    KRR_coef_scaled_list.append(KRR_search.best_estimator_.dual_coef_)    \n",
    "\n",
    "    \n",
    "best_i = np.array(KRR_r2_test_scaled_list).argmax()\n",
    "KRR_r2_best_scaled2= KRR_r2_test_scaled_list[best_i]\n",
    "KRR_gamma_best_scaled = KRR_gamma_scaled_list[best_i]\n",
    "KRR_alpha_best_scaled = KRR_alpha_scaled_list[best_i]\n",
    "KRR_coef_best_scaled = KRR_coef_scaled_list[best_i]\n",
    "\n",
    "print(\"Highest r2={:.3f},\\toptimal gamma={:.0e},\\toptimal alpha={:.0e}\".format(KRR_r2_test_scaled_list[best_i], KRR_gamma_best_scaled, KRR_alpha_best_scaled))"
   ]
  },
  {
   "cell_type": "markdown",
   "metadata": {},
   "source": [
    "After the hyperparameters are refined, the optimal values change a little bit，but the r2 remains nearly the same."
   ]
  },
  {
   "cell_type": "code",
   "execution_count": 16,
   "metadata": {},
   "outputs": [
    {
     "name": "stdout",
     "output_type": "stream",
     "text": [
      "r2_test=0.9927736168326191\n",
      "r2_test=0.987174562789477\n",
      "r2_test=0.9887701974227815\n",
      "r2_test=0.9900479737011912\n",
      "r2_test=0.9700941436553879\n"
     ]
    },
    {
     "data": {
      "image/png": "[encoded data removed]",
      "text/plain": [
       "<Figure size 1224x432 with 5 Axes>"
      ]
     },
     "metadata": {
      "needs_background": "light"
     },
     "output_type": "display_data"
    }
   ],
   "source": [
    "fig, axes = plt.subplots(1, 5, figsize=(17, 6))\n",
    "r2_test=[]\n",
    "\n",
    "axes[0].set_ylabel('Predicted test data')\n",
    "\n",
    "for i in range(5):\n",
    "    X_train = X_train_scaled_5fold[:, :, i]\n",
    "    X_test = X_test_scaled_5fold[:, :, i]\n",
    "    y_train = y_train_5fold[:, :, i]\n",
    "    y_test = y_test_5fold[:, :, i]\n",
    "    \n",
    "    KRR_scaled = KernelRidge(alpha=KRR_alpha_best_scaled, kernel='rbf', gamma=KRR_gamma_best_scaled)\n",
    "    KRR_scaled.fit(X_train, y_train)\n",
    "    r2_test.append(KRR_scaled.score(X_test,y_test))\n",
    "    print('r2_test={}'.format(KRR_scaled.score(X_test,y_test)))\n",
    "    yhat_scaled_test = KRR_scaled.predict(X_test)\n",
    "    axes[i].scatter(y_test, yhat_scaled_test, alpha=0.15, c='r')\n",
    "    axes[i].plot(y_test, y_test, '-k')\n",
    "    axes[i].set_xlabel('Actual test data')\n",
    "    "
   ]
  },
  {
   "cell_type": "markdown",
   "metadata": {},
   "source": [
    "Looking at the parity plots we know that the model using scaled data works well."
   ]
  },
  {
   "cell_type": "code",
   "execution_count": 17,
   "metadata": {},
   "outputs": [
    {
     "name": "stdout",
     "output_type": "stream",
     "text": [
      "The model using unscaled data has 600 coefficients.\n",
      "The largest coefficient is 3929.338.\n"
     ]
    },
    {
     "data": {
      "image/png": "[encoded data removed]",
      "text/plain": [
       "<Figure size 432x288 with 1 Axes>"
      ]
     },
     "metadata": {
      "needs_background": "light"
     },
     "output_type": "display_data"
    }
   ],
   "source": [
    "print('The model using unscaled data has {} coefficients.'.format(len(KRR_coef_best)))\n",
    "\n",
    "fig, ax = plt.subplots()\n",
    "ax.hist(KRR_coef_best)\n",
    "print('The largest coefficient is {:.3f}.'.format(max(abs(KRR_coef_best))[0]));\n",
    "KRR_largest_coef=max(abs(KRR_coef_best))[0]"
   ]
  },
  {
   "cell_type": "code",
   "execution_count": 18,
   "metadata": {},
   "outputs": [
    {
     "name": "stdout",
     "output_type": "stream",
     "text": [
      "The model using scaled data has 600 coefficients.\n",
      "The largest coefficient is 2562.346.\n"
     ]
    },
    {
     "data": {
      "image/png": "[encoded data removed]",
      "text/plain": [
       "<Figure size 432x288 with 1 Axes>"
      ]
     },
     "metadata": {
      "needs_background": "light"
     },
     "output_type": "display_data"
    }
   ],
   "source": [
    "print('The model using scaled data has {} coefficients.'.format(len(KRR_coef_best_scaled)))\n",
    "\n",
    "fig, ax = plt.subplots()\n",
    "ax.hist(KRR_coef_best_scaled)\n",
    "print('The largest coefficient is {:.3f}.'.format(max(abs(KRR_coef_best_scaled))[0]));\n",
    "KRR_largest_coef_scaled=max(abs(KRR_coef_best_scaled))[0]"
   ]
  },
  {
   "cell_type": "markdown",
   "metadata": {},
   "source": [
    "By using the scaled data the size of the parameters is smaller."
   ]
  },
  {
   "cell_type": "markdown",
   "metadata": {},
   "source": [
    "## Comparison: Radial Basis Function, Kernel Ridge Regression and LASSO Regression\n",
    "\n",
    "Rbf is the kernel for KRR and LASSO regression in this project. We can first compare the loss functions of these three methods:\n",
    "\n",
    "rbf:$L = \\sum_i \\epsilon_i^2$\n",
    "\n",
    "KRR:$L = \\sum_i \\epsilon_i^2 + \\alpha ||\\vec{w}||_2$\n",
    "\n",
    "LASSO:$L = \\sum_i \\epsilon_i^2 + \\alpha ||\\vec{w}||_1$\n",
    "\n",
    "To avoid overfitting, different regularization terms are added in KRR ($\\alpha ||\\vec{w}||_2$) and LASSO ($\\alpha ||\\vec{w}||_1$) loss functions. It is interesting and worthwhile to compare the results of these three methods.\n",
    "\n",
    "### $r^2$ scores\n",
    "\n",
    "Whichever regression method we use, the most important thing is that it results in a relatively accurate model. So first we look at $r^2$ scores of each regressio method we use.\n"
   ]
  },
  {
   "cell_type": "code",
   "execution_count": 19,
   "metadata": {},
   "outputs": [
    {
     "name": "stdout",
     "output_type": "stream",
     "text": [
      "Highest r^2 in hyperparameter tuning \t1st round \t2nd round\n",
      "rbf unscaled \t\t\t\t0.075\t\t0.083\n",
      "rbf scaled \t\t\t\t0.670\t\t0.917\n",
      "KRR unscaled \t\t\t\t0.962\t\t0.968\n",
      "KRR scaled \t\t\t\t0.988\t\t0.989\n",
      "LASSO unscaled \t\t\t\t0.479\t\t0.470\n",
      "LASSO scaled \t\t\t\t0.932\t\t0.932\n"
     ]
    }
   ],
   "source": [
    "print(\"Highest r^2 in hyperparameter tuning \\t1st round \\t2nd round\")\n",
    "print(\"rbf unscaled \\t\\t\\t\\t{:.3f}\\t\\t{:.3f}\".format(rbf_r2_best1,rbf_r2_best2))\n",
    "print(\"rbf scaled \\t\\t\\t\\t{:.3f}\\t\\t{:.3f}\".format(rbf_r2_best_scaled1,rbf_r2_best_scaled2))\n",
    "print(\"KRR unscaled \\t\\t\\t\\t{:.3f}\\t\\t{:.3f}\".format(KRR_r2_best_1,KRR_r2_best_2))\n",
    "print(\"KRR scaled \\t\\t\\t\\t{:.3f}\\t\\t{:.3f}\".format(KRR_r2_best_scaled1,KRR_r2_best_scaled2))\n",
    "print(\"LASSO unscaled \\t\\t\\t\\t{:.3f}\\t\\t{:.3f}\".format(lasso_r2_best_1,lasso_r2_best_2))\n",
    "print(\"LASSO scaled \\t\\t\\t\\t{:.3f}\\t\\t{:.3f}\".format(lasso_r2_best_scaled1,lasso_r2_best_scaled2))"
   ]
  },
  {
   "cell_type": "markdown",
   "metadata": {},
   "source": [
    "Rbf using unscaled data has the worst performance, even after two rounds of hyperparameter tuning the $r^2$ score is near to 0. However, when we switch to scaled data, the $r^2$ score is >0.9 aftering doing two rounds of hyperparameter tuning, indicating that it's an accurate model. All $r^2$ scores for KRR regression are >0.95, and LASSO using scaled data is much better than using unscaled data. In conclusion, an improvement in $r^2$ scores is seen after using the scaled data for all three methods, and KRR using scaled data is the best model judging by $r^2$ score."
   ]
  },
  {
   "cell_type": "markdown",
   "metadata": {},
   "source": [
    "### Hyperparameters of the model\n",
    "\n",
    "There are two hyperparameters in three models, $\\gamma$ and $\\alpha$. \n",
    "\n",
    "$\\gamma$ is inversely proportional to width. The larger the gamma, the narrower a feature. Since rbf is a Gaussian distribution, the narrower means the features are less correlated."
   ]
  },
  {
   "cell_type": "code",
   "execution_count": 20,
   "metadata": {},
   "outputs": [
    {
     "name": "stdout",
     "output_type": "stream",
     "text": [
      "gamma\t\tunscaled\tscaled\n",
      "rbf \t\t0.3000\t\t0.9000\n",
      "KRR \t\t0.0001\t\t0.0014\n",
      "LASSO \t\t0.0041\t\t0.0200\n"
     ]
    }
   ],
   "source": [
    "print(\"gamma\\t\\tunscaled\\tscaled\")\n",
    "print(\"rbf \\t\\t{:.4f}\\t\\t{:.4f}\".format(rbf_gamma_best,rbf_gamma_best_scaled))\n",
    "print(\"KRR \\t\\t{:.4f}\\t\\t{:.4f}\".format(KRR_gamma_best,KRR_gamma_best_scaled))\n",
    "print(\"LASSO \\t\\t{:.4f}\\t\\t{:.4f}\".format(lasso_best_gamma,lasso_best_gamma_scaled))"
   ]
  },
  {
   "cell_type": "markdown",
   "metadata": {},
   "source": [
    "rbf has the largest $\\gamma$ while KRR has the smallest, leading to least correlated features. After scaling the data, the gamma values for all three methods are larger, which means the features are more correlated and corresponds to the correlation matrix drawn above.\n",
    "\n",
    "$\\alpha$ is an indication of regularization strength."
   ]
  },
  {
   "cell_type": "code",
   "execution_count": 21,
   "metadata": {},
   "outputs": [
    {
     "name": "stdout",
     "output_type": "stream",
     "text": [
      "alpha\t\tunscaled\tscaled\n",
      "KRR \t\t5e-04\t\t5e-04\n",
      "LASSO \t\t5e-04\t\t1e-05\n"
     ]
    }
   ],
   "source": [
    "print(\"alpha\\t\\tunscaled\\tscaled\")\n",
    "print(\"KRR \\t\\t{:.0e}\\t\\t{:.0e}\".format(KRR_alpha_best,KRR_alpha_best_scaled))\n",
    "print(\"LASSO \\t\\t{:.0e}\\t\\t{:.0e}\".format(lasso_best_alpha,lasso_best_alpha_scaled))"
   ]
  },
  {
   "cell_type": "markdown",
   "metadata": {},
   "source": [
    "$\\alpha$ values for KRR and LASSO using both scaled and unscaled data are nearly the same. Then we look at the size of the coefficients in the model(largest coefficient):"
   ]
  },
  {
   "cell_type": "code",
   "execution_count": 22,
   "metadata": {},
   "outputs": [
    {
     "name": "stdout",
     "output_type": "stream",
     "text": [
      "Largest Coefficient\tunscaled\tscaled\n",
      "KRR \t\t\t3929.338\t2562.346\n",
      "LASSO \t\t\t18.142\t\t8.325\n"
     ]
    }
   ],
   "source": [
    "print(\"Largest Coefficient\\tunscaled\\tscaled\")\n",
    "print(\"KRR \\t\\t\\t{:.3f}\\t{:.3f}\".format(KRR_largest_coef,KRR_largest_coef_scaled))\n",
    "print(\"LASSO \\t\\t\\t{:.3f}\\t\\t{:.3f}\".format(lasso_largest_coef,lasso_largest_coef_scaled))"
   ]
  },
  {
   "cell_type": "markdown",
   "metadata": {},
   "source": [
    "After scaling the data, the largest coefficient for both models are smaller. However, the size of the parameters of LASSO is orders of magnitude smaller than that of KRR."
   ]
  },
  {
   "cell_type": "markdown",
   "metadata": {},
   "source": [
    "### Number of coefficients"
   ]
  },
  {
   "cell_type": "markdown",
   "metadata": {},
   "source": [
    "For rbf and KRR, the numbers of coefficients are the same, which is **600**. LASSO is able to bring down the number of coefficients (finding which Gaussians should (or should not) be included):"
   ]
  },
  {
   "cell_type": "code",
   "execution_count": 27,
   "metadata": {},
   "outputs": [
    {
     "name": "stdout",
     "output_type": "stream",
     "text": [
      "Zero coefficients using Lasso\tNumber\tPercentage/%\n",
      "Unscaled\t\t\t31.0\t5.167\n",
      "Scaled\t\t\t\t0.0\t0.0\n"
     ]
    }
   ],
   "source": [
    "print(\"Zero coefficients using Lasso\\tNumber\\tPercentage/%\\nUnscaled\\t\\t\\t{}\\t{:.3f}\\nScaled\\t\\t\\t\\t{}\\t{}\".format(lasso_dropped_features,lasso_dropped_features/6,lasso_dropped_features_scaled,lasso_dropped_features_scaled/600))"
   ]
  },
  {
   "cell_type": "markdown",
   "metadata": {},
   "source": [
    "We see that the LASSO using unscaled data has some coefficients that are equal to zero. However, when using scaled data, the coefficients are all nonzero, indicating some contribution of all data points to the output."
   ]
  },
  {
   "cell_type": "code",
   "execution_count": null,
   "metadata": {},
   "outputs": [],
   "source": []
  }
 ],
 "metadata": {
  "kernelspec": {
   "display_name": "Python 3",
   "language": "python",
   "name": "python3"
  },
  "language_info": {
   "codemirror_mode": {
    "name": "ipython",
    "version": 3
   },
   "file_extension": ".py",
   "mimetype": "text/x-python",
   "name": "python",
   "nbconvert_exporter": "python",
   "pygments_lexer": "ipython3",
   "version": "3.7.1"
  },
  "latex_envs": {
   "LaTeX_envs_menu_present": true,
   "autoclose": false,
   "autocomplete": true,
   "bibliofile": "biblio.bib",
   "cite_by": "apalike",
   "current_citInitial": 1,
   "eqLabelWithNumbers": true,
   "eqNumInitial": 1,
   "hotkeys": {
    "equation": "Ctrl-E",
    "itemize": "Ctrl-I"
   },
   "labels_anchors": false,
   "latex_user_defs": false,
   "report_style_numbering": false,
   "user_envs_cfg": false
  },
  "toc": {
   "base_numbering": 1,
   "nav_menu": {},
   "number_sections": true,
   "sideBar": true,
   "skip_h1_title": false,
   "title_cell": "Table of Contents",
   "title_sidebar": "Contents",
   "toc_cell": false,
   "toc_position": {},
   "toc_section_display": true,
   "toc_window_display": false
  }
 },
 "nbformat": 4,
 "nbformat_minor": 2
}
