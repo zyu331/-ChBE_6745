{
 "cells": [
  {
   "cell_type": "markdown",
   "metadata": {},
   "source": [
    "<center><font size=\"6\"><b>ChBE 6745 Project: Prediction of Adsorption Properties of Metal-Organic Frameworks with Framework Flexibility</b></font></center>\n",
    "\n",
    "\n",
    "<center><b>Chao-Wen Chang, Pengfei Cheng, Po-Wei Huang, Xiaohan Yu, Yamin Zhang</b></center>\n",
    "\n",
    "## Problem definition\n",
    "\n",
    "Agrawal and Sholl (2019) show that appropriate consideration of framework flexibility may be important to quantitative predictions about molecular adsorption in metal-organic frameworks (MOFs). However, taking the framework flexibility into account directly in the molecular simulation framework may be 5-10 times morecomputationally expensive than standard simulation methods based on rigid crystal structure. Therefore, we are interested in constructing a machine learning model to predict the adsorption properties of MOFs with framework flexibility based on: (1) the features of the MOFs, (2) the features of adsorbates, and (3) the adsorption properties from standard simulation methods based on rigid crystal structure.\n",
    "\n",
    "## Dataset details\n",
    "\n",
    "The dataset is in the `data` folder.\n",
    "It is composed of three parts:\n",
    "1. **29 MOF features** (under `data/ML_data`)\n",
    "2. **6 adsorbate features** (manually added below)\n",
    "3. **adsorption uptakes** of **801 (MOF, adsorbate) pairs** (under `data/flexibility_data/y_data/adsorption_data`), containing two values:\n",
    "    1. values from rigid model\n",
    "    2. mean values from flexible model\n",
    "\n",
    "## Model training strategy\n",
    "\n",
    "1. Multi-linear regression\n",
    "2. Kernel regression\n",
    "3. Kernel ridge regression\n",
    "4. Lasso regression\n",
    "5. Genetic programming\n",
    "6. Neural network\n",
    "\n",
    "## Model validation strategy\n",
    "\n",
    "1. hold-out\n",
    "2. k-fold\n",
    "3. bootstrapping\n",
    "\n",
    "## Reference\n",
    "Agrawal, Mayank, and David S. Sholl. \"Effects of Intrinsic Flexibility on Adsorption Properties of Metal–Organic Frameworks at Dilute and Nondilute Loadings.\" *ACS applied materials & interfaces* 11.34 (2019): 31060-31068.\n"
   ]
  },
  {
   "cell_type": "markdown",
   "metadata": {},
   "source": [
    "# Data preprocessing\n",
    "\n",
    "This section contains the codes for preprocessing the datasets to generate two numpy arrays in Python (\"X\" and \"y\"),\n",
    "dropping non-numerical rows, \n",
    "and feature scaling."
   ]
  },
  {
   "cell_type": "markdown",
   "metadata": {},
   "source": [
    "## Read MOF features"
   ]
  },
  {
   "cell_type": "code",
   "execution_count": 1,
   "metadata": {},
   "outputs": [
    {
     "data": {
      "text/html": [
       "<div>\n",
       "<style scoped>\n",
       "    .dataframe tbody tr th:only-of-type {\n",
       "        vertical-align: middle;\n",
       "    }\n",
       "\n",
       "    .dataframe tbody tr th {\n",
       "        vertical-align: top;\n",
       "    }\n",
       "\n",
       "    .dataframe thead th {\n",
       "        text-align: right;\n",
       "    }\n",
       "</style>\n",
       "<table border=\"1\" class=\"dataframe\">\n",
       "  <thead>\n",
       "    <tr style=\"text-align: right;\">\n",
       "      <th></th>\n",
       "      <th>MOF</th>\n",
       "      <th>vf</th>\n",
       "      <th>nAT-H</th>\n",
       "      <th>nNM</th>\n",
       "      <th>nM</th>\n",
       "      <th>nTB</th>\n",
       "      <th>nSB</th>\n",
       "      <th>nMB</th>\n",
       "      <th>nRB</th>\n",
       "      <th>nR6</th>\n",
       "      <th>...</th>\n",
       "      <th>nR4</th>\n",
       "      <th>MType</th>\n",
       "      <th>MaxMVal</th>\n",
       "      <th>n-O-</th>\n",
       "      <th>F01[H-C]</th>\n",
       "      <th>F01[C-N]</th>\n",
       "      <th>F01[C-O]</th>\n",
       "      <th>F02[H-C]</th>\n",
       "      <th>F02[C-N]</th>\n",
       "      <th>F02[C-O]</th>\n",
       "    </tr>\n",
       "    <tr>\n",
       "      <th>Isotherm ID</th>\n",
       "      <th></th>\n",
       "      <th></th>\n",
       "      <th></th>\n",
       "      <th></th>\n",
       "      <th></th>\n",
       "      <th></th>\n",
       "      <th></th>\n",
       "      <th></th>\n",
       "      <th></th>\n",
       "      <th></th>\n",
       "      <th></th>\n",
       "      <th></th>\n",
       "      <th></th>\n",
       "      <th></th>\n",
       "      <th></th>\n",
       "      <th></th>\n",
       "      <th></th>\n",
       "      <th></th>\n",
       "      <th></th>\n",
       "      <th></th>\n",
       "      <th></th>\n",
       "    </tr>\n",
       "  </thead>\n",
       "  <tbody>\n",
       "    <tr>\n",
       "      <th>1</th>\n",
       "      <td>ABUWOJ</td>\n",
       "      <td>0.545974</td>\n",
       "      <td>168</td>\n",
       "      <td>1.238095</td>\n",
       "      <td>0.095238</td>\n",
       "      <td>1.571428</td>\n",
       "      <td>1.190476</td>\n",
       "      <td>0.380952</td>\n",
       "      <td>0.952381</td>\n",
       "      <td>0.166667</td>\n",
       "      <td>...</td>\n",
       "      <td>0.02381</td>\n",
       "      <td>1</td>\n",
       "      <td>4</td>\n",
       "      <td>0.238095</td>\n",
       "      <td>0.285714</td>\n",
       "      <td>0.0</td>\n",
       "      <td>0.285714</td>\n",
       "      <td>0.571429</td>\n",
       "      <td>0.0</td>\n",
       "      <td>0.285714</td>\n",
       "    </tr>\n",
       "    <tr>\n",
       "      <th>1</th>\n",
       "      <td>ABUWOJ</td>\n",
       "      <td>0.545974</td>\n",
       "      <td>168</td>\n",
       "      <td>1.238095</td>\n",
       "      <td>0.095238</td>\n",
       "      <td>1.571428</td>\n",
       "      <td>1.190476</td>\n",
       "      <td>0.380952</td>\n",
       "      <td>0.952381</td>\n",
       "      <td>0.166667</td>\n",
       "      <td>...</td>\n",
       "      <td>0.02381</td>\n",
       "      <td>1</td>\n",
       "      <td>4</td>\n",
       "      <td>0.238095</td>\n",
       "      <td>0.285714</td>\n",
       "      <td>0.0</td>\n",
       "      <td>0.285714</td>\n",
       "      <td>0.571429</td>\n",
       "      <td>0.0</td>\n",
       "      <td>0.285714</td>\n",
       "    </tr>\n",
       "    <tr>\n",
       "      <th>1</th>\n",
       "      <td>ABUWOJ</td>\n",
       "      <td>0.545974</td>\n",
       "      <td>168</td>\n",
       "      <td>1.238095</td>\n",
       "      <td>0.095238</td>\n",
       "      <td>1.571428</td>\n",
       "      <td>1.190476</td>\n",
       "      <td>0.380952</td>\n",
       "      <td>0.952381</td>\n",
       "      <td>0.166667</td>\n",
       "      <td>...</td>\n",
       "      <td>0.02381</td>\n",
       "      <td>1</td>\n",
       "      <td>4</td>\n",
       "      <td>0.238095</td>\n",
       "      <td>0.285714</td>\n",
       "      <td>0.0</td>\n",
       "      <td>0.285714</td>\n",
       "      <td>0.571429</td>\n",
       "      <td>0.0</td>\n",
       "      <td>0.285714</td>\n",
       "    </tr>\n",
       "    <tr>\n",
       "      <th>1</th>\n",
       "      <td>ABUWOJ</td>\n",
       "      <td>0.545974</td>\n",
       "      <td>168</td>\n",
       "      <td>1.238095</td>\n",
       "      <td>0.095238</td>\n",
       "      <td>1.571428</td>\n",
       "      <td>1.190476</td>\n",
       "      <td>0.380952</td>\n",
       "      <td>0.952381</td>\n",
       "      <td>0.166667</td>\n",
       "      <td>...</td>\n",
       "      <td>0.02381</td>\n",
       "      <td>1</td>\n",
       "      <td>4</td>\n",
       "      <td>0.238095</td>\n",
       "      <td>0.285714</td>\n",
       "      <td>0.0</td>\n",
       "      <td>0.285714</td>\n",
       "      <td>0.571429</td>\n",
       "      <td>0.0</td>\n",
       "      <td>0.285714</td>\n",
       "    </tr>\n",
       "    <tr>\n",
       "      <th>2</th>\n",
       "      <td>ABUWOJ</td>\n",
       "      <td>0.545974</td>\n",
       "      <td>168</td>\n",
       "      <td>1.238095</td>\n",
       "      <td>0.095238</td>\n",
       "      <td>1.571428</td>\n",
       "      <td>1.190476</td>\n",
       "      <td>0.380952</td>\n",
       "      <td>0.952381</td>\n",
       "      <td>0.166667</td>\n",
       "      <td>...</td>\n",
       "      <td>0.02381</td>\n",
       "      <td>1</td>\n",
       "      <td>4</td>\n",
       "      <td>0.238095</td>\n",
       "      <td>0.285714</td>\n",
       "      <td>0.0</td>\n",
       "      <td>0.285714</td>\n",
       "      <td>0.571429</td>\n",
       "      <td>0.0</td>\n",
       "      <td>0.285714</td>\n",
       "    </tr>\n",
       "  </tbody>\n",
       "</table>\n",
       "<p>5 rows × 29 columns</p>\n",
       "</div>"
      ],
      "text/plain": [
       "                MOF        vf  nAT-H       nNM        nM       nTB       nSB  \\\n",
       "Isotherm ID                                                                    \n",
       "1            ABUWOJ  0.545974    168  1.238095  0.095238  1.571428  1.190476   \n",
       "1            ABUWOJ  0.545974    168  1.238095  0.095238  1.571428  1.190476   \n",
       "1            ABUWOJ  0.545974    168  1.238095  0.095238  1.571428  1.190476   \n",
       "1            ABUWOJ  0.545974    168  1.238095  0.095238  1.571428  1.190476   \n",
       "2            ABUWOJ  0.545974    168  1.238095  0.095238  1.571428  1.190476   \n",
       "\n",
       "                  nMB       nRB       nR6    ...         nR4  MType  MaxMVal  \\\n",
       "Isotherm ID                                  ...                               \n",
       "1            0.380952  0.952381  0.166667    ...     0.02381      1        4   \n",
       "1            0.380952  0.952381  0.166667    ...     0.02381      1        4   \n",
       "1            0.380952  0.952381  0.166667    ...     0.02381      1        4   \n",
       "1            0.380952  0.952381  0.166667    ...     0.02381      1        4   \n",
       "2            0.380952  0.952381  0.166667    ...     0.02381      1        4   \n",
       "\n",
       "                 n-O-  F01[H-C]  F01[C-N]  F01[C-O]  F02[H-C]  F02[C-N]  \\\n",
       "Isotherm ID                                                               \n",
       "1            0.238095  0.285714       0.0  0.285714  0.571429       0.0   \n",
       "1            0.238095  0.285714       0.0  0.285714  0.571429       0.0   \n",
       "1            0.238095  0.285714       0.0  0.285714  0.571429       0.0   \n",
       "1            0.238095  0.285714       0.0  0.285714  0.571429       0.0   \n",
       "2            0.238095  0.285714       0.0  0.285714  0.571429       0.0   \n",
       "\n",
       "             F02[C-O]  \n",
       "Isotherm ID            \n",
       "1            0.285714  \n",
       "1            0.285714  \n",
       "1            0.285714  \n",
       "1            0.285714  \n",
       "2            0.285714  \n",
       "\n",
       "[5 rows x 29 columns]"
      ]
     },
     "execution_count": 1,
     "metadata": {},
     "output_type": "execute_result"
    }
   ],
   "source": [
    "import pandas as pd\n",
    "import numpy as np\n",
    "import os\n",
    "import matplotlib.pyplot as plt\n",
    "%matplotlib inline\n",
    "\n",
    "# read the 36-descriptor data\n",
    "df36Descriptor = pd.read_excel('data/ML_data/descriptor_used.xlsx',header=4,index_col=1)\n",
    "\n",
    "# clean up the column\n",
    "columns = [df36Descriptor.columns[1]] + df36Descriptor.columns[3: -11].tolist()\n",
    "\n",
    "newColumns = {}\n",
    "for ci in columns:\n",
    "    if ' ' in ci:\n",
    "        newColumns[ci] = ci.split(' ',1)[0]\n",
    "    elif '(' in ci:\n",
    "        newColumns[ci] = ci.split('(',1)[0]\n",
    "    else:\n",
    "        newColumns[ci] = ci\n",
    "\n",
    "dfShortNames = df36Descriptor[columns].rename(columns=newColumns)\n",
    "\n",
    "# reduce columns to only contain MOF features\n",
    "shared_descriptor = [col for col in dfShortNames.columns if col in newColumns]\n",
    "dfMLReduced = dfShortNames[shared_descriptor]\n",
    "\n",
    "dfMLReduced.head()"
   ]
  },
  {
   "cell_type": "markdown",
   "metadata": {},
   "source": [
    "## Read adsorption update data"
   ]
  },
  {
   "cell_type": "code",
   "execution_count": 2,
   "metadata": {},
   "outputs": [
    {
     "name": "stdout",
     "output_type": "stream",
     "text": [
      "The number of MOFs shared by two datasets are: 89.\n",
      "The total number of data points are: 801.\n"
     ]
    },
    {
     "data": {
      "text/html": [
       "<div>\n",
       "<style scoped>\n",
       "    .dataframe tbody tr th:only-of-type {\n",
       "        vertical-align: middle;\n",
       "    }\n",
       "\n",
       "    .dataframe tbody tr th {\n",
       "        vertical-align: top;\n",
       "    }\n",
       "\n",
       "    .dataframe thead th {\n",
       "        text-align: right;\n",
       "    }\n",
       "</style>\n",
       "<table border=\"1\" class=\"dataframe\">\n",
       "  <thead>\n",
       "    <tr style=\"text-align: right;\">\n",
       "      <th></th>\n",
       "      <th>MOF</th>\n",
       "      <th>vf</th>\n",
       "      <th>nAT-H</th>\n",
       "      <th>nNM</th>\n",
       "      <th>nM</th>\n",
       "      <th>nTB</th>\n",
       "      <th>nSB</th>\n",
       "      <th>nMB</th>\n",
       "      <th>nRB</th>\n",
       "      <th>nR6</th>\n",
       "      <th>...</th>\n",
       "      <th>nR4</th>\n",
       "      <th>MType</th>\n",
       "      <th>MaxMVal</th>\n",
       "      <th>n-O-</th>\n",
       "      <th>F01[H-C]</th>\n",
       "      <th>F01[C-N]</th>\n",
       "      <th>F01[C-O]</th>\n",
       "      <th>F02[H-C]</th>\n",
       "      <th>F02[C-N]</th>\n",
       "      <th>F02[C-O]</th>\n",
       "    </tr>\n",
       "    <tr>\n",
       "      <th>Isotherm ID</th>\n",
       "      <th></th>\n",
       "      <th></th>\n",
       "      <th></th>\n",
       "      <th></th>\n",
       "      <th></th>\n",
       "      <th></th>\n",
       "      <th></th>\n",
       "      <th></th>\n",
       "      <th></th>\n",
       "      <th></th>\n",
       "      <th></th>\n",
       "      <th></th>\n",
       "      <th></th>\n",
       "      <th></th>\n",
       "      <th></th>\n",
       "      <th></th>\n",
       "      <th></th>\n",
       "      <th></th>\n",
       "      <th></th>\n",
       "      <th></th>\n",
       "      <th></th>\n",
       "    </tr>\n",
       "  </thead>\n",
       "  <tbody>\n",
       "    <tr>\n",
       "      <th>1</th>\n",
       "      <td>ABUWOJ</td>\n",
       "      <td>0.545974</td>\n",
       "      <td>168</td>\n",
       "      <td>1.238095</td>\n",
       "      <td>0.095238</td>\n",
       "      <td>1.571428</td>\n",
       "      <td>1.190476</td>\n",
       "      <td>0.380952</td>\n",
       "      <td>0.952381</td>\n",
       "      <td>0.166667</td>\n",
       "      <td>...</td>\n",
       "      <td>0.023810</td>\n",
       "      <td>1</td>\n",
       "      <td>4</td>\n",
       "      <td>0.238095</td>\n",
       "      <td>0.285714</td>\n",
       "      <td>0.000000</td>\n",
       "      <td>0.285714</td>\n",
       "      <td>0.571429</td>\n",
       "      <td>0.000000</td>\n",
       "      <td>0.285714</td>\n",
       "    </tr>\n",
       "    <tr>\n",
       "      <th>26</th>\n",
       "      <td>ACOLIP</td>\n",
       "      <td>0.454051</td>\n",
       "      <td>256</td>\n",
       "      <td>1.562500</td>\n",
       "      <td>0.031250</td>\n",
       "      <td>1.750000</td>\n",
       "      <td>1.250000</td>\n",
       "      <td>0.125000</td>\n",
       "      <td>0.687500</td>\n",
       "      <td>0.062500</td>\n",
       "      <td>...</td>\n",
       "      <td>0.000000</td>\n",
       "      <td>1</td>\n",
       "      <td>4</td>\n",
       "      <td>0.062500</td>\n",
       "      <td>0.531250</td>\n",
       "      <td>0.343750</td>\n",
       "      <td>0.125000</td>\n",
       "      <td>0.750000</td>\n",
       "      <td>0.250000</td>\n",
       "      <td>0.125000</td>\n",
       "    </tr>\n",
       "    <tr>\n",
       "      <th>72</th>\n",
       "      <td>AGARUW</td>\n",
       "      <td>0.450504</td>\n",
       "      <td>224</td>\n",
       "      <td>1.071428</td>\n",
       "      <td>0.071429</td>\n",
       "      <td>1.678572</td>\n",
       "      <td>1.535714</td>\n",
       "      <td>0.642857</td>\n",
       "      <td>1.464286</td>\n",
       "      <td>0.357143</td>\n",
       "      <td>...</td>\n",
       "      <td>0.214286</td>\n",
       "      <td>1</td>\n",
       "      <td>9</td>\n",
       "      <td>0.214286</td>\n",
       "      <td>0.071429</td>\n",
       "      <td>0.142857</td>\n",
       "      <td>0.392857</td>\n",
       "      <td>0.214286</td>\n",
       "      <td>0.428571</td>\n",
       "      <td>0.285714</td>\n",
       "    </tr>\n",
       "    <tr>\n",
       "      <th>97</th>\n",
       "      <td>AHOKIR01</td>\n",
       "      <td>0.460404</td>\n",
       "      <td>112</td>\n",
       "      <td>1.428572</td>\n",
       "      <td>0.142857</td>\n",
       "      <td>1.928572</td>\n",
       "      <td>1.928572</td>\n",
       "      <td>0.571429</td>\n",
       "      <td>1.000000</td>\n",
       "      <td>0.142857</td>\n",
       "      <td>...</td>\n",
       "      <td>0.000000</td>\n",
       "      <td>1</td>\n",
       "      <td>4</td>\n",
       "      <td>0.285714</td>\n",
       "      <td>0.571429</td>\n",
       "      <td>0.000000</td>\n",
       "      <td>0.000000</td>\n",
       "      <td>0.857143</td>\n",
       "      <td>0.000000</td>\n",
       "      <td>0.428571</td>\n",
       "    </tr>\n",
       "    <tr>\n",
       "      <th>117</th>\n",
       "      <td>AMILUE</td>\n",
       "      <td>0.566397</td>\n",
       "      <td>176</td>\n",
       "      <td>1.500000</td>\n",
       "      <td>0.045455</td>\n",
       "      <td>1.795454</td>\n",
       "      <td>1.454546</td>\n",
       "      <td>0.204545</td>\n",
       "      <td>1.045454</td>\n",
       "      <td>0.181818</td>\n",
       "      <td>...</td>\n",
       "      <td>0.000000</td>\n",
       "      <td>1</td>\n",
       "      <td>5</td>\n",
       "      <td>0.170455</td>\n",
       "      <td>0.545455</td>\n",
       "      <td>0.272727</td>\n",
       "      <td>0.181818</td>\n",
       "      <td>0.545455</td>\n",
       "      <td>0.000000</td>\n",
       "      <td>0.181818</td>\n",
       "    </tr>\n",
       "  </tbody>\n",
       "</table>\n",
       "<p>5 rows × 29 columns</p>\n",
       "</div>"
      ],
      "text/plain": [
       "                  MOF        vf  nAT-H       nNM        nM       nTB  \\\n",
       "Isotherm ID                                                            \n",
       "1              ABUWOJ  0.545974    168  1.238095  0.095238  1.571428   \n",
       "26             ACOLIP  0.454051    256  1.562500  0.031250  1.750000   \n",
       "72             AGARUW  0.450504    224  1.071428  0.071429  1.678572   \n",
       "97           AHOKIR01  0.460404    112  1.428572  0.142857  1.928572   \n",
       "117            AMILUE  0.566397    176  1.500000  0.045455  1.795454   \n",
       "\n",
       "                  nSB       nMB       nRB       nR6    ...          nR4  \\\n",
       "Isotherm ID                                            ...                \n",
       "1            1.190476  0.380952  0.952381  0.166667    ...     0.023810   \n",
       "26           1.250000  0.125000  0.687500  0.062500    ...     0.000000   \n",
       "72           1.535714  0.642857  1.464286  0.357143    ...     0.214286   \n",
       "97           1.928572  0.571429  1.000000  0.142857    ...     0.000000   \n",
       "117          1.454546  0.204545  1.045454  0.181818    ...     0.000000   \n",
       "\n",
       "             MType  MaxMVal      n-O-  F01[H-C]  F01[C-N]  F01[C-O]  F02[H-C]  \\\n",
       "Isotherm ID                                                                     \n",
       "1                1        4  0.238095  0.285714  0.000000  0.285714  0.571429   \n",
       "26               1        4  0.062500  0.531250  0.343750  0.125000  0.750000   \n",
       "72               1        9  0.214286  0.071429  0.142857  0.392857  0.214286   \n",
       "97               1        4  0.285714  0.571429  0.000000  0.000000  0.857143   \n",
       "117              1        5  0.170455  0.545455  0.272727  0.181818  0.545455   \n",
       "\n",
       "             F02[C-N]  F02[C-O]  \n",
       "Isotherm ID                      \n",
       "1            0.000000  0.285714  \n",
       "26           0.250000  0.125000  \n",
       "72           0.428571  0.285714  \n",
       "97           0.000000  0.428571  \n",
       "117          0.000000  0.181818  \n",
       "\n",
       "[5 rows x 29 columns]"
      ]
     },
     "execution_count": 2,
     "metadata": {},
     "output_type": "execute_result"
    }
   ],
   "source": [
    "# the MOFs in \"dfMLReduced\" and adsorption data sets are different, so it is necessary to match the MOFs in two datasets\n",
    "def datasetMatch(MOFName):\n",
    "    dfML= dfMLReduced[dfMLReduced['MOF'].isin(MOFName)].drop_duplicates()\n",
    "    matchedMOFIndex=np.isin(MOFName, dfML['MOF'].values)\n",
    "    return matchedMOFIndex, dfML\n",
    "\n",
    "# read flexibility data\n",
    "flexibilityList=os.listdir('data/flexibility_data/y_data/adsorption_data') # obtain list of csv files for 9 adsorption uptakes\n",
    "flexivilityData=[]\n",
    "adsorbateNameList = []\n",
    "\n",
    "for i, name in enumerate(flexibilityList):\n",
    "    # read csv files for certain adsorption uptakes\n",
    "    df = pd.read_csv('data/flexibility_data/y_data/adsorption_data/' + name)\n",
    "    \n",
    "    # obtain the rigid value\n",
    "    rigidValue = np.array(df[df.columns[1]], dtype = float)\n",
    "    \n",
    "    # obtain the flexible mean value\n",
    "    flexValue = np.mean(np.array(df[df.columns[2:]],dtype=float),axis=1)\n",
    "    \n",
    "    # obtain the adsorbate label\n",
    "    label = np.array([name.split(\"_\")[1] for x in range(0,len(flexValue))],dtype=str)\n",
    "    adsorbateNameList.append(name.split(\"_\")[1])\n",
    "    \n",
    "    # stack the rigid value, flexible mean value and the adsorbate label\n",
    "    singleSet = np.column_stack([rigidValue,flexValue,label])\n",
    "\n",
    "    if i == 0:\n",
    "        # obtain the name list of MOFs\n",
    "        MOFNameTemp = np.array(df[df.columns[0]], dtype = str)\n",
    "        MOFName = [x.split(\"_\")[0] for x in MOFNameTemp]\n",
    "        \n",
    "        # search the MOF name in \"dfMLReduced\", generating dfML\n",
    "        matchedMOFIndex, dfML = datasetMatch(MOFName)\n",
    "        print(\"The number of MOFs shared by two datasets are: {:d}.\".format(dfML.shape[0]))\n",
    "        \n",
    "        # generating flexibilityData as \"y\"\n",
    "        flexibilityData = singleSet[matchedMOFIndex,:].copy()\n",
    "    else:\n",
    "        # concatenate \"y\"\n",
    "        flexibilityData = np.concatenate([flexibilityData.copy(),singleSet[matchedMOFIndex,:].copy()])\n",
    "\n",
    "print(\"The total number of data points are: {}.\".format(flexibilityData.shape[0]))\n",
    "\n",
    "dfML.head()"
   ]
  },
  {
   "cell_type": "markdown",
   "metadata": {},
   "source": [
    "flexibilityData contains the adsorption update data for (MOF, adsorbate) pairs. There are 89 MOFs and 9 adsorbates, so there are 801 data points in total.\n",
    "- 1st column: rigid data\n",
    "- 2nd column: flexible mean data\n",
    "- 3rd column: adsorbate label\n",
    "\n",
    "The order of the flexibilityData is:\n",
    "\n",
    "| MOF | adsorbate |\n",
    "|------|------------|\n",
    "| MOF1 | adsorbate1 |\n",
    "| MOF2 | adsorbate1 |\n",
    "| MOF3 | adsorbate1 |\n",
    "| ...  | ...        |\n",
    "| MOF89 | adsorbate1 |\n",
    "| MOF1 | adsorbate2 |\n",
    "| MOF2 | adsorbate2 |\n",
    "| MOF3 | adsorbate2 |\n",
    "| ...  | ...        |\n",
    "| MOF89 | adsorbate2 |\n",
    "| MOF1 | adsorbate3 |\n",
    "| MOF2 | adsorbate3 |\n",
    "| MOF3 | adsorbate3 |\n",
    "| ...  | ...        |"
   ]
  },
  {
   "cell_type": "markdown",
   "metadata": {},
   "source": [
    "## Manually add adsorbate features"
   ]
  },
  {
   "cell_type": "code",
   "execution_count": 3,
   "metadata": {},
   "outputs": [
    {
     "data": {
      "text/html": [
       "<div>\n",
       "<style scoped>\n",
       "    .dataframe tbody tr th:only-of-type {\n",
       "        vertical-align: middle;\n",
       "    }\n",
       "\n",
       "    .dataframe tbody tr th {\n",
       "        vertical-align: top;\n",
       "    }\n",
       "\n",
       "    .dataframe thead th {\n",
       "        text-align: right;\n",
       "    }\n",
       "</style>\n",
       "<table border=\"1\" class=\"dataframe\">\n",
       "  <thead>\n",
       "    <tr style=\"text-align: right;\">\n",
       "      <th></th>\n",
       "      <th>Mw/gr.mol-1</th>\n",
       "      <th>Tc/K</th>\n",
       "      <th>Pc/bar</th>\n",
       "      <th>ω</th>\n",
       "      <th>Tb/K</th>\n",
       "      <th>Tf/K</th>\n",
       "      <th>adsorbate</th>\n",
       "    </tr>\n",
       "  </thead>\n",
       "  <tbody>\n",
       "    <tr>\n",
       "      <th>4</th>\n",
       "      <td>44.100</td>\n",
       "      <td>416.5</td>\n",
       "      <td>44.6</td>\n",
       "      <td>0.200</td>\n",
       "      <td>230.10</td>\n",
       "      <td>136.5</td>\n",
       "      <td>propane</td>\n",
       "    </tr>\n",
       "    <tr>\n",
       "      <th>1</th>\n",
       "      <td>58.100</td>\n",
       "      <td>449.8</td>\n",
       "      <td>39.5</td>\n",
       "      <td>0.300</td>\n",
       "      <td>280.10</td>\n",
       "      <td>146.7</td>\n",
       "      <td>butane</td>\n",
       "    </tr>\n",
       "    <tr>\n",
       "      <th>5</th>\n",
       "      <td>44.000</td>\n",
       "      <td>295.9</td>\n",
       "      <td>71.8</td>\n",
       "      <td>0.200</td>\n",
       "      <td>317.40</td>\n",
       "      <td>204.9</td>\n",
       "      <td>CO2</td>\n",
       "    </tr>\n",
       "    <tr>\n",
       "      <th>8</th>\n",
       "      <td>83.798</td>\n",
       "      <td>209.4</td>\n",
       "      <td>55.0</td>\n",
       "      <td>0.005</td>\n",
       "      <td>119.60</td>\n",
       "      <td>115.6</td>\n",
       "      <td>krypton</td>\n",
       "    </tr>\n",
       "    <tr>\n",
       "      <th>3</th>\n",
       "      <td>30.100</td>\n",
       "      <td>381.8</td>\n",
       "      <td>50.3</td>\n",
       "      <td>0.200</td>\n",
       "      <td>184.00</td>\n",
       "      <td>126.2</td>\n",
       "      <td>ethane</td>\n",
       "    </tr>\n",
       "    <tr>\n",
       "      <th>2</th>\n",
       "      <td>42.100</td>\n",
       "      <td>436.9</td>\n",
       "      <td>51.7</td>\n",
       "      <td>0.200</td>\n",
       "      <td>254.80</td>\n",
       "      <td>150.6</td>\n",
       "      <td>propene</td>\n",
       "    </tr>\n",
       "    <tr>\n",
       "      <th>0</th>\n",
       "      <td>131.293</td>\n",
       "      <td>289.7</td>\n",
       "      <td>58.4</td>\n",
       "      <td>0.008</td>\n",
       "      <td>164.87</td>\n",
       "      <td>161.2</td>\n",
       "      <td>xenon</td>\n",
       "    </tr>\n",
       "    <tr>\n",
       "      <th>7</th>\n",
       "      <td>16.040</td>\n",
       "      <td>190.4</td>\n",
       "      <td>46.0</td>\n",
       "      <td>0.011</td>\n",
       "      <td>111.50</td>\n",
       "      <td>91.0</td>\n",
       "      <td>methane</td>\n",
       "    </tr>\n",
       "    <tr>\n",
       "      <th>6</th>\n",
       "      <td>28.054</td>\n",
       "      <td>282.5</td>\n",
       "      <td>51.2</td>\n",
       "      <td>0.089</td>\n",
       "      <td>169.30</td>\n",
       "      <td>228.0</td>\n",
       "      <td>ethene</td>\n",
       "    </tr>\n",
       "  </tbody>\n",
       "</table>\n",
       "</div>"
      ],
      "text/plain": [
       "   Mw/gr.mol-1   Tc/K  Pc/bar      ω    Tb/K   Tf/K adsorbate\n",
       "4       44.100  416.5    44.6  0.200  230.10  136.5   propane\n",
       "1       58.100  449.8    39.5  0.300  280.10  146.7    butane\n",
       "5       44.000  295.9    71.8  0.200  317.40  204.9       CO2\n",
       "8       83.798  209.4    55.0  0.005  119.60  115.6   krypton\n",
       "3       30.100  381.8    50.3  0.200  184.00  126.2    ethane\n",
       "2       42.100  436.9    51.7  0.200  254.80  150.6   propene\n",
       "0      131.293  289.7    58.4  0.008  164.87  161.2     xenon\n",
       "7       16.040  190.4    46.0  0.011  111.50   91.0   methane\n",
       "6       28.054  282.5    51.2  0.089  169.30  228.0    ethene"
      ]
     },
     "execution_count": 3,
     "metadata": {},
     "output_type": "execute_result"
    }
   ],
   "source": [
    "# manually add adsorbate descriptors\n",
    "\n",
    "# Mw/gr.mol-1, Tc/K, Pc/bar, ω, Tb/K, Tf/K\n",
    "\n",
    "adsorbateData=np.array([\n",
    "    ['xenon',131.293,289.7,58.4,0.008,164.87,161.2], \n",
    "    ['butane',58.1,449.8,39.5,0.3,280.1,146.7], \n",
    "    ['propene',42.1,436.9,51.7,0.2,254.8,150.6], \n",
    "    ['ethane',30.1,381.8,50.3,0.2,184.0,126.2], \n",
    "    ['propane',44.1,416.5,44.6,0.2,230.1,136.5], \n",
    "    ['CO2',44.0,295.9,71.8,0.2,317.4,204.9], \n",
    "    ['ethene',28.054,282.5,51.2,0.089,169.3,228], \n",
    "    ['methane',16.04,190.4,46.0,0.011,111.5,91],\n",
    "    ['krypton',83.798,209.4,55.0,0.005,119.6,115.6]])\n",
    "\n",
    "adsorbateData.shape\n",
    "adDf = pd.DataFrame(data=adsorbateData, columns=[\"adsorbate\", \"Mw/gr.mol-1\", \"Tc/K\", \"Pc/bar\", \"ω\", \"Tb/K\", \"Tf/K\"])\n",
    "\n",
    "# sort the dataframe based on adsorbateNameList\n",
    "sorterIndex = dict(zip(adsorbateNameList,range(len(adsorbateNameList))))\n",
    "adDf['an_Rank'] = adDf['adsorbate'].map(sorterIndex)\n",
    "adDf.sort_values(['an_Rank'],ascending = [True], inplace = True)\n",
    "adDf.drop('an_Rank', 1, inplace = True)\n",
    "adDfFloat = adDf.iloc[:, 1:].astype(np.float)\n",
    "adDfFloat[\"adsorbate\"] = adDf[\"adsorbate\"]\n",
    "adDfFloat"
   ]
  },
  {
   "cell_type": "code",
   "execution_count": 4,
   "metadata": {},
   "outputs": [
    {
     "name": "stdout",
     "output_type": "stream",
     "text": [
      "(9, 7)\n"
     ]
    }
   ],
   "source": [
    "print(adDfFloat.shape)"
   ]
  },
  {
   "cell_type": "markdown",
   "metadata": {},
   "source": [
    "There are 6 descriptors (excluding name label) for each adsorbate."
   ]
  },
  {
   "cell_type": "markdown",
   "metadata": {},
   "source": [
    "## Combine MOF and adsorbate descriptors\n",
    "The combined dataset should have $29+6=35$ descriptors:"
   ]
  },
  {
   "cell_type": "code",
   "execution_count": 5,
   "metadata": {},
   "outputs": [
    {
     "name": "stdout",
     "output_type": "stream",
     "text": [
      "(801, 36)\n"
     ]
    },
    {
     "data": {
      "text/html": [
       "<div>\n",
       "<style scoped>\n",
       "    .dataframe tbody tr th:only-of-type {\n",
       "        vertical-align: middle;\n",
       "    }\n",
       "\n",
       "    .dataframe tbody tr th {\n",
       "        vertical-align: top;\n",
       "    }\n",
       "\n",
       "    .dataframe thead th {\n",
       "        text-align: right;\n",
       "    }\n",
       "</style>\n",
       "<table border=\"1\" class=\"dataframe\">\n",
       "  <thead>\n",
       "    <tr style=\"text-align: right;\">\n",
       "      <th></th>\n",
       "      <th>MOF</th>\n",
       "      <th>vf</th>\n",
       "      <th>nAT-H</th>\n",
       "      <th>nNM</th>\n",
       "      <th>nM</th>\n",
       "      <th>nTB</th>\n",
       "      <th>nSB</th>\n",
       "      <th>nMB</th>\n",
       "      <th>nRB</th>\n",
       "      <th>nR6</th>\n",
       "      <th>...</th>\n",
       "      <th>F02[H-C]</th>\n",
       "      <th>F02[C-N]</th>\n",
       "      <th>F02[C-O]</th>\n",
       "      <th>Mw/gr.mol-1</th>\n",
       "      <th>Tc/K</th>\n",
       "      <th>Pc/bar</th>\n",
       "      <th>ω</th>\n",
       "      <th>Tb/K</th>\n",
       "      <th>Tf/K</th>\n",
       "      <th>adsorbate</th>\n",
       "    </tr>\n",
       "  </thead>\n",
       "  <tbody>\n",
       "    <tr>\n",
       "      <th>0</th>\n",
       "      <td>ABUWOJ</td>\n",
       "      <td>0.545974</td>\n",
       "      <td>168</td>\n",
       "      <td>1.238095</td>\n",
       "      <td>0.095238</td>\n",
       "      <td>1.571428</td>\n",
       "      <td>1.190476</td>\n",
       "      <td>0.380952</td>\n",
       "      <td>0.952381</td>\n",
       "      <td>0.166667</td>\n",
       "      <td>...</td>\n",
       "      <td>0.571429</td>\n",
       "      <td>0.000000</td>\n",
       "      <td>0.285714</td>\n",
       "      <td>44.1</td>\n",
       "      <td>416.5</td>\n",
       "      <td>44.6</td>\n",
       "      <td>0.2</td>\n",
       "      <td>230.1</td>\n",
       "      <td>136.5</td>\n",
       "      <td>propane</td>\n",
       "    </tr>\n",
       "    <tr>\n",
       "      <th>1</th>\n",
       "      <td>ACOLIP</td>\n",
       "      <td>0.454051</td>\n",
       "      <td>256</td>\n",
       "      <td>1.562500</td>\n",
       "      <td>0.031250</td>\n",
       "      <td>1.750000</td>\n",
       "      <td>1.250000</td>\n",
       "      <td>0.125000</td>\n",
       "      <td>0.687500</td>\n",
       "      <td>0.062500</td>\n",
       "      <td>...</td>\n",
       "      <td>0.750000</td>\n",
       "      <td>0.250000</td>\n",
       "      <td>0.125000</td>\n",
       "      <td>44.1</td>\n",
       "      <td>416.5</td>\n",
       "      <td>44.6</td>\n",
       "      <td>0.2</td>\n",
       "      <td>230.1</td>\n",
       "      <td>136.5</td>\n",
       "      <td>propane</td>\n",
       "    </tr>\n",
       "    <tr>\n",
       "      <th>2</th>\n",
       "      <td>AGARUW</td>\n",
       "      <td>0.450504</td>\n",
       "      <td>224</td>\n",
       "      <td>1.071428</td>\n",
       "      <td>0.071429</td>\n",
       "      <td>1.678572</td>\n",
       "      <td>1.535714</td>\n",
       "      <td>0.642857</td>\n",
       "      <td>1.464286</td>\n",
       "      <td>0.357143</td>\n",
       "      <td>...</td>\n",
       "      <td>0.214286</td>\n",
       "      <td>0.428571</td>\n",
       "      <td>0.285714</td>\n",
       "      <td>44.1</td>\n",
       "      <td>416.5</td>\n",
       "      <td>44.6</td>\n",
       "      <td>0.2</td>\n",
       "      <td>230.1</td>\n",
       "      <td>136.5</td>\n",
       "      <td>propane</td>\n",
       "    </tr>\n",
       "    <tr>\n",
       "      <th>3</th>\n",
       "      <td>AHOKIR01</td>\n",
       "      <td>0.460404</td>\n",
       "      <td>112</td>\n",
       "      <td>1.428572</td>\n",
       "      <td>0.142857</td>\n",
       "      <td>1.928572</td>\n",
       "      <td>1.928572</td>\n",
       "      <td>0.571429</td>\n",
       "      <td>1.000000</td>\n",
       "      <td>0.142857</td>\n",
       "      <td>...</td>\n",
       "      <td>0.857143</td>\n",
       "      <td>0.000000</td>\n",
       "      <td>0.428571</td>\n",
       "      <td>44.1</td>\n",
       "      <td>416.5</td>\n",
       "      <td>44.6</td>\n",
       "      <td>0.2</td>\n",
       "      <td>230.1</td>\n",
       "      <td>136.5</td>\n",
       "      <td>propane</td>\n",
       "    </tr>\n",
       "    <tr>\n",
       "      <th>4</th>\n",
       "      <td>AMILUE</td>\n",
       "      <td>0.566397</td>\n",
       "      <td>176</td>\n",
       "      <td>1.500000</td>\n",
       "      <td>0.045455</td>\n",
       "      <td>1.795454</td>\n",
       "      <td>1.454546</td>\n",
       "      <td>0.204545</td>\n",
       "      <td>1.045454</td>\n",
       "      <td>0.181818</td>\n",
       "      <td>...</td>\n",
       "      <td>0.545455</td>\n",
       "      <td>0.000000</td>\n",
       "      <td>0.181818</td>\n",
       "      <td>44.1</td>\n",
       "      <td>416.5</td>\n",
       "      <td>44.6</td>\n",
       "      <td>0.2</td>\n",
       "      <td>230.1</td>\n",
       "      <td>136.5</td>\n",
       "      <td>propane</td>\n",
       "    </tr>\n",
       "  </tbody>\n",
       "</table>\n",
       "<p>5 rows × 36 columns</p>\n",
       "</div>"
      ],
      "text/plain": [
       "        MOF        vf  nAT-H       nNM        nM       nTB       nSB  \\\n",
       "0    ABUWOJ  0.545974    168  1.238095  0.095238  1.571428  1.190476   \n",
       "1    ACOLIP  0.454051    256  1.562500  0.031250  1.750000  1.250000   \n",
       "2    AGARUW  0.450504    224  1.071428  0.071429  1.678572  1.535714   \n",
       "3  AHOKIR01  0.460404    112  1.428572  0.142857  1.928572  1.928572   \n",
       "4    AMILUE  0.566397    176  1.500000  0.045455  1.795454  1.454546   \n",
       "\n",
       "        nMB       nRB       nR6    ...      F02[H-C]  F02[C-N]  F02[C-O]  \\\n",
       "0  0.380952  0.952381  0.166667    ...      0.571429  0.000000  0.285714   \n",
       "1  0.125000  0.687500  0.062500    ...      0.750000  0.250000  0.125000   \n",
       "2  0.642857  1.464286  0.357143    ...      0.214286  0.428571  0.285714   \n",
       "3  0.571429  1.000000  0.142857    ...      0.857143  0.000000  0.428571   \n",
       "4  0.204545  1.045454  0.181818    ...      0.545455  0.000000  0.181818   \n",
       "\n",
       "   Mw/gr.mol-1   Tc/K  Pc/bar    ω   Tb/K   Tf/K  adsorbate  \n",
       "0         44.1  416.5    44.6  0.2  230.1  136.5    propane  \n",
       "1         44.1  416.5    44.6  0.2  230.1  136.5    propane  \n",
       "2         44.1  416.5    44.6  0.2  230.1  136.5    propane  \n",
       "3         44.1  416.5    44.6  0.2  230.1  136.5    propane  \n",
       "4         44.1  416.5    44.6  0.2  230.1  136.5    propane  \n",
       "\n",
       "[5 rows x 36 columns]"
      ]
     },
     "execution_count": 5,
     "metadata": {},
     "output_type": "execute_result"
    }
   ],
   "source": [
    "# replicate dfML for 9 adsorbates\n",
    "dfMLReplicate = pd.concat([dfML]*9)\n",
    "\n",
    "# replicate adDf for 89 MOFs\n",
    "adDfReplicate = pd.DataFrame(np.repeat(adDfFloat.values,89,axis=0))\n",
    "adDfReplicate.columns = adDfFloat.columns\n",
    "\n",
    "# concatenate two datasets\n",
    "dfMLReplicate.reset_index(drop=True, inplace=True)\n",
    "adDfReplicate.reset_index(drop=True, inplace=True)\n",
    "XAllDescriptor = pd.concat([dfMLReplicate, adDfReplicate],axis=1)\n",
    "print(XAllDescriptor.shape)\n",
    "XAllDescriptor.head()"
   ]
  },
  {
   "cell_type": "markdown",
   "metadata": {},
   "source": [
    "## generate X and y\n",
    "The rigid uptake data can be added into X, while the flexible mean data is chosen as y:"
   ]
  },
  {
   "cell_type": "code",
   "execution_count": 6,
   "metadata": {},
   "outputs": [],
   "source": [
    "X = np.concatenate((XAllDescriptor.iloc[:, 1:-1], flexibilityData[:, 0].reshape(-1, 1)),axis=1).astype(np.float)\n",
    "y = flexibilityData[:, 1].astype('float64') .reshape(-1,1)"
   ]
  },
  {
   "cell_type": "code",
   "execution_count": 7,
   "metadata": {},
   "outputs": [],
   "source": [
    "# # Remove rows that contains NaN\n",
    "# X_y = np.append(X, y, axis=1) \n",
    "# print(X_y.shape)\n",
    "# print(np.isnan(X_y).any())\n",
    "\n",
    "# X_y = X_y[~np.isnan(X_y).any(axis=1)] \n",
    "\n",
    "# print(X_y.shape)\n",
    "# print(np.isnan(X_y).any())\n",
    "\n",
    "# X, y = X_y[:,:-2], X_y[:,-1]\n",
    "# np.linalg.matrix_rank(X)"
   ]
  },
  {
   "cell_type": "markdown",
   "metadata": {},
   "source": [
    "## Visualize distributions of features"
   ]
  },
  {
   "cell_type": "code",
   "execution_count": 8,
   "metadata": {
    "scrolled": false
   },
   "outputs": [
    {
     "data": {
      "image/png": "[encoded data removed]",
      "text/plain": [
       "<Figure size 1800x1800 with 36 Axes>"
      ]
     },
     "metadata": {
      "needs_background": "light"
     },
     "output_type": "display_data"
    }
   ],
   "source": [
    "N = X.shape[-1]\n",
    "n = int(np.sqrt(N))\n",
    "fig, axes = plt.subplots(n+1, n+1, figsize = (5*n, 5*n))\n",
    "ax_list = axes.ravel()\n",
    "for i in range(N):\n",
    "    ax_list[i].hist(X[:,i])"
   ]
  },
  {
   "cell_type": "markdown",
   "metadata": {},
   "source": [
    "## Feature scaling"
   ]
  },
  {
   "cell_type": "code",
   "execution_count": 9,
   "metadata": {},
   "outputs": [
    {
     "data": {
      "text/plain": [
       "<matplotlib.colorbar.Colorbar at 0x117ec5278>"
      ]
     },
     "execution_count": 9,
     "metadata": {},
     "output_type": "execute_result"
    },
    {
     "data": {
      "image/png": "[encoded data removed]",
      "text/plain": [
       "<Figure size 576x576 with 2 Axes>"
      ]
     },
     "metadata": {
      "needs_background": "light"
     },
     "output_type": "display_data"
    }
   ],
   "source": [
    "covar = np.cov(X.T)\n",
    "\n",
    "fig,ax = plt.subplots(figsize=(8, 8))\n",
    "c = ax.imshow(covar)\n",
    "fig.colorbar(c)"
   ]
  },
  {
   "cell_type": "markdown",
   "metadata": {},
   "source": [
    "The colorbar indicates that the orders of magnitude of different features are quite different, thus it may be necessary to scale the features to help improve  regression performance."
   ]
  },
  {
   "cell_type": "code",
   "execution_count": 10,
   "metadata": {},
   "outputs": [
    {
     "data": {
      "text/plain": [
       "<matplotlib.colorbar.Colorbar at 0x1182f9198>"
      ]
     },
     "execution_count": 10,
     "metadata": {},
     "output_type": "execute_result"
    },
    {
     "data": {
      "image/png": "[encoded data removed]",
      "text/plain": [
       "<Figure size 576x576 with 2 Axes>"
      ]
     },
     "metadata": {
      "needs_background": "light"
     },
     "output_type": "display_data"
    }
   ],
   "source": [
    "X_scaled = (X - X.mean(axis=0))/X.std(axis=0) \n",
    "covar = np.cov(X_scaled.T)\n",
    "\n",
    "fig,ax = plt.subplots(figsize=(8, 8))\n",
    "c = ax.imshow(covar)\n",
    "fig.colorbar(c)"
   ]
  },
  {
   "cell_type": "markdown",
   "metadata": {},
   "source": [
    "The scaled heat map shows an interesting property: Feature 0-28 and Feature 29-34 are independent. This makes sense as the former is the features for MOFs and the latter is the ones for adsorbates."
   ]
  },
  {
   "cell_type": "markdown",
   "metadata": {},
   "source": [
    "## Train-test-validation set split"
   ]
  },
  {
   "cell_type": "code",
   "execution_count": 11,
   "metadata": {
    "scrolled": false
   },
   "outputs": [],
   "source": [
    "np.random.seed(5)\n",
    "from sklearn.model_selection import train_test_split\n",
    "\n",
    "# combine the unscaled and scaled X, so that they can be split together\n",
    "X_combined = np.concatenate((X, X_scaled), axis=1)\n",
    "\n",
    "# ----------------------------------------------------------------------------------------\n",
    "# ---------------------------- don't touch the validation set ----------------------------\n",
    "X_train_test_combined, X_validation_combined, y_train_test, y_validation = train_test_split(X_combined, \\\n",
    "                                                                                            y, test_size=0.25)\n",
    "X_validation, X_validation_scaled = X_validation_combined[:, :35], X_validation_combined[:, 35:]\n",
    "# ---------------------------- don't touch the validation set ----------------------------\n",
    "# ----------------------------------------------------------------------------------------\n",
    "\n",
    "X_train_combined, X_test_combined, y_train, y_test = train_test_split(X_train_test_combined, \\\n",
    "                                                                      y_train_test, test_size=0.3)\n",
    "X_train, X_train_scaled = X_train_combined[:, :35], X_train_combined[:, 35:]\n",
    "X_test, X_test_scaled = X_test_combined[:, :35], X_test_combined[:, 35:]"
   ]
  },
  {
   "cell_type": "markdown",
   "metadata": {},
   "source": [
    "# Baseline models\n",
    "Two models are first trained as baseline models: multi-linear regression and kernel regression."
   ]
  },
  {
   "cell_type": "markdown",
   "metadata": {},
   "source": [
    "## Multi-linear regression\n",
    "### Regression using unscaled data"
   ]
  },
  {
   "cell_type": "code",
   "execution_count": 12,
   "metadata": {
    "scrolled": true
   },
   "outputs": [
    {
     "name": "stdout",
     "output_type": "stream",
     "text": [
      "r^2 train:\t0.9790\n",
      "r^2 test:\t0.9864\n"
     ]
    }
   ],
   "source": [
    "from sklearn.linear_model import LinearRegression\n",
    "\n",
    "LR_model = LinearRegression() \n",
    "LR_model.fit(X_train, y_train) \n",
    "r2_LR_train = LR_model.score(X_train, y_train) \n",
    "r2_LR_test = LR_model.score(X_test, y_test) \n",
    "\n",
    "y_hat_train = LR_model.predict(X_train)\n",
    "y_hat_test = LR_model.predict(X_test)\n",
    "\n",
    "print(\"r^2 train:\\t{:.4f}\".format(r2_LR_train))\n",
    "print(\"r^2 test:\\t{:.4f}\".format(r2_LR_test))"
   ]
  },
  {
   "cell_type": "markdown",
   "metadata": {},
   "source": [
    "With high $r^2 (>0.97)$ for both trainning set and test set, the multi-linear model predicts data well."
   ]
  },
  {
   "cell_type": "code",
   "execution_count": 13,
   "metadata": {},
   "outputs": [
    {
     "data": {
      "text/plain": [
       "Text(0, 0.5, 'Predicted test data')"
      ]
     },
     "execution_count": 13,
     "metadata": {},
     "output_type": "execute_result"
    },
    {
     "data": {
      "image/png": "[encoded data removed]",
      "text/plain": [
       "<Figure size 936x432 with 2 Axes>"
      ]
     },
     "metadata": {
      "needs_background": "light"
     },
     "output_type": "display_data"
    }
   ],
   "source": [
    "fig, axes = plt.subplots(1, 2, figsize=(13, 6))\n",
    "\n",
    "axes[0].scatter(y_train, y_hat_train, alpha=0.15)\n",
    "axes[0].plot(y_train, y_train, '-k')\n",
    "axes[0].set_xlabel('Actual train data')\n",
    "axes[0].set_ylabel('Predicted train data')\n",
    "\n",
    "axes[1].scatter(y_test, y_hat_test, alpha=0.15, c='r')\n",
    "axes[1].plot(y_test, y_test, '-k')\n",
    "axes[1].set_xlabel('Actual test data')\n",
    "axes[1].set_ylabel('Predicted test data')"
   ]
  },
  {
   "cell_type": "markdown",
   "metadata": {},
   "source": [
    "From the parity plots for train set, we found that the outliers are uniformly distributed around the line.\n",
    "The model works with both sets well."
   ]
  },
  {
   "cell_type": "markdown",
   "metadata": {},
   "source": [
    "### Regression using scaled data"
   ]
  },
  {
   "cell_type": "code",
   "execution_count": 14,
   "metadata": {},
   "outputs": [
    {
     "name": "stdout",
     "output_type": "stream",
     "text": [
      "r^2 train:\t0.9790\n",
      "r^2 test:\t0.9864\n"
     ]
    }
   ],
   "source": [
    "LR_model_scaled = LinearRegression()\n",
    "LR_model_scaled.fit(X_train_scaled, y_train)\n",
    "\n",
    "r2_LR_train_scaled = LR_model_scaled.score(X_train_scaled, y_train) \n",
    "r2_LR_test_scaled = LR_model_scaled.score(X_test_scaled, y_test) \n",
    "\n",
    "y_hat_train_scaled = LR_model_scaled.predict(X_train_scaled)\n",
    "y_hat_test_scaled = LR_model_scaled.predict(X_test_scaled) \n",
    "\n",
    "print(\"r^2 train:\\t{:.4f}\".format(r2_LR_train_scaled))\n",
    "print(\"r^2 test:\\t{:.4f}\".format(r2_LR_test_scaled))"
   ]
  },
  {
   "cell_type": "markdown",
   "metadata": {},
   "source": [
    "By normalizing the data, we didn't see improvement on the r^2. "
   ]
  },
  {
   "cell_type": "markdown",
   "metadata": {},
   "source": [
    "## Multi-linear regression\n",
    "### Regression using unscaled data"
   ]
  },
  {
   "cell_type": "code",
   "execution_count": 15,
   "metadata": {},
   "outputs": [
    {
     "name": "stdout",
     "output_type": "stream",
     "text": [
      "Best gamma:\t50 (sigma = 0.1)\n",
      "r^2 train:\t1.0000\n",
      "r^2 test:\t0.0146\n"
     ]
    }
   ],
   "source": [
    "from sklearn.metrics.pairwise import rbf_kernel\n",
    "\n",
    "# set up different paprameters\n",
    "sigmas = np.array([1E-4, 5E-4, 1E-3, 5E-3, 0.01, 0.05, 0.1, 0.5, 1, 5, 10, 15, 20, 25, 30, 40, 50, 60])\n",
    "gammas = 1./(2*sigmas**2)\n",
    "r2_matrix = np.zeros((gammas.size, 3))\n",
    "\n",
    "# calculate r2 enumerating the list of gammas\n",
    "for i, gamma in enumerate(gammas):\n",
    "    \n",
    "    # create rbf with given gamma\n",
    "    X_train_kernel = rbf_kernel(X_train, X_train, gamma = gamma)\n",
    "    X_test_kernel = rbf_kernel(X_test, X_train, gamma = gamma)\n",
    "    model_rbf = LinearRegression()\n",
    "    model_rbf.fit(X_train_kernel, y_train)\n",
    "    \n",
    "    # record the gamma for the best prediction and the corresponding r2\n",
    "    r2_matrix[i, 0] = gamma\n",
    "    r2_matrix[i, 1] = model_rbf.score(X_train_kernel, y_train)\n",
    "    r2_matrix[i, -1] = model_rbf.score(X_test_kernel, y_test)\n",
    "\n",
    "# find the best r2\n",
    "n = r2_matrix[:, -1].argmax()\n",
    "print(\"Best gamma:\\t{:g} (sigma = {:n})\".format(r2_matrix[n, 0], (1 / 2 / r2_matrix[n, 0])**0.5))\n",
    "print(\"r^2 train:\\t{:.4f}\".format(r2_matrix[n, 1]))\n",
    "print(\"r^2 test:\\t{:.4f}\".format(r2_matrix[n, -1]))"
   ]
  },
  {
   "cell_type": "markdown",
   "metadata": {},
   "source": [
    "The big difference between the r2 scores of the training set and the test set is very interesting. \n",
    "To investigate if it is the common case for all gamma values, the r2 matrix is printed below (columns are: gamma, r2 for training, r2 to test):"
   ]
  },
  {
   "cell_type": "code",
   "execution_count": 16,
   "metadata": {},
   "outputs": [
    {
     "name": "stdout",
     "output_type": "stream",
     "text": [
      "[[50000000.           1.          -0.01 ]\n",
      " [ 2000000.           1.          -0.01 ]\n",
      " [  500000.           1.          -0.015]\n",
      " [   20000.           1.          -0.01 ]\n",
      " [    5000.           1.          -0.004]\n",
      " [     200.           1.           0.005]\n",
      " [      50.           1.           0.015]\n",
      " [       2.           1.          -0.185]\n",
      " [       0.5          1.     -315380.541]\n",
      " [       0.02         1.        -198.026]\n",
      " [       0.005        1.        -172.691]\n",
      " [       0.002        1.        -133.9  ]\n",
      " [       0.001        1.        -241.966]\n",
      " [       0.001        1.        -832.324]\n",
      " [       0.001        1.       -1758.694]\n",
      " [       0.           1.       -1551.724]\n",
      " [       0.           1.        -350.012]\n",
      " [       0.           1.          -4.596]]\n"
     ]
    }
   ],
   "source": [
    "np.set_printoptions(precision=3,suppress=True)\n",
    "print(r2_matrix)"
   ]
  },
  {
   "cell_type": "markdown",
   "metadata": {},
   "source": [
    "The table confirmed our assumption.\n",
    "This indicates that the kernel model overfits with all the given gamma values, which is also shown in the parity plots below:"
   ]
  },
  {
   "cell_type": "code",
   "execution_count": 17,
   "metadata": {},
   "outputs": [
    {
     "data": {
      "text/plain": [
       "Text(0, 0.5, 'Predicted test data')"
      ]
     },
     "execution_count": 17,
     "metadata": {},
     "output_type": "execute_result"
    },
    {
     "data": {
      "image/png": "[encoded data removed]",
      "text/plain": [
       "<Figure size 936x432 with 2 Axes>"
      ]
     },
     "metadata": {
      "needs_background": "light"
     },
     "output_type": "display_data"
    }
   ],
   "source": [
    "best_gamma = r2_matrix[n, 0]\n",
    "X_train_kernel = rbf_kernel(X_train, X_train, gamma = best_gamma)\n",
    "model_rbf = LinearRegression()\n",
    "model_rbf.fit(X_train_kernel, y_train)\n",
    "y_hat_train = model_rbf.predict(X_train_kernel)\n",
    "X_test_kernel = rbf_kernel(X_test, X_train, gamma = best_gamma)\n",
    "y_hat_test = model_rbf.predict(X_test_kernel)\n",
    "\n",
    "fig, axes = plt.subplots(1, 2, figsize=(13, 6))\n",
    "\n",
    "axes[0].scatter(y_train, y_hat_train, alpha=0.15)\n",
    "axes[0].plot(y_train, y_train, '-k')\n",
    "axes[0].set_xlabel('Actual train data')\n",
    "axes[0].set_ylabel('Predicted train data')\n",
    "\n",
    "axes[1].scatter(y_test, y_hat_test, alpha=0.15, c='r')\n",
    "axes[1].plot(y_test, y_test, '-k')\n",
    "axes[1].set_xlabel('Actual test data')\n",
    "axes[1].set_ylabel('Predicted test data')"
   ]
  },
  {
   "cell_type": "markdown",
   "metadata": {},
   "source": [
    "The right plot clearly shows that the model failed to predict a lot of data points (notice the horizontal line around 5-the model predicts this value for many data points, indicating that the model does not capture some relationships among features.)\n",
    "\n",
    "The gamma value can be further refined around the best value (50):"
   ]
  },
  {
   "cell_type": "code",
   "execution_count": 18,
   "metadata": {},
   "outputs": [
    {
     "name": "stdout",
     "output_type": "stream",
     "text": [
      "Best gamma:\t33.8776 (sigma = 0.121487)\n",
      "r^2 train:\t1.0000\n",
      "r^2 test:\t0.0167\n"
     ]
    }
   ],
   "source": [
    "gammas = np.linspace(10, 100)\n",
    "\n",
    "r2_matrix = np.zeros((gammas.size, 3))\n",
    "\n",
    "# calculate r2 enumerating the list of gammas\n",
    "for i, gamma in enumerate(gammas):\n",
    "    \n",
    "    # create rbf with given gamma\n",
    "    X_train_kernel = rbf_kernel(X_train, X_train, gamma = gamma)\n",
    "    X_test_kernel = rbf_kernel(X_test, X_train, gamma = gamma)\n",
    "    model_rbf = LinearRegression()\n",
    "    model_rbf.fit(X_train_kernel, y_train)\n",
    "    \n",
    "    # record the gamma for the best prediction and the corresponding r2\n",
    "    r2_matrix[i, 0] = gamma\n",
    "    r2_matrix[i, 1] = model_rbf.score(X_train_kernel, y_train)\n",
    "    r2_matrix[i, -1] = model_rbf.score(X_test_kernel, y_test)\n",
    "\n",
    "# find the best r2\n",
    "n = r2_matrix[:, -1].argmax()\n",
    "print(\"Best gamma:\\t{:g} (sigma = {:n})\".format(r2_matrix[n, 0], (1 / 2 / r2_matrix[n, 0])**0.5))\n",
    "print(\"r^2 train:\\t{:.4f}\".format(r2_matrix[n, 1]))\n",
    "print(\"r^2 test:\\t{:.4f}\".format(r2_matrix[n, -1]))"
   ]
  },
  {
   "cell_type": "markdown",
   "metadata": {},
   "source": [
    "The refined gamma does not improve the result much."
   ]
  },
  {
   "cell_type": "markdown",
   "metadata": {},
   "source": [
    "### Regression using scaled data"
   ]
  },
  {
   "cell_type": "code",
   "execution_count": 19,
   "metadata": {},
   "outputs": [
    {
     "name": "stdout",
     "output_type": "stream",
     "text": [
      "Best gamma:\t0.5 (sigma = 1)\n",
      "r^2 train:\t0.5599\n",
      "r^2 test:\t0.3449\n"
     ]
    }
   ],
   "source": [
    "sigmas = np.array([1E-4, 5E-4, 1E-3, 5E-3, 0.01, 0.05, 0.1, 0.5, 1, 5, 10, 15, 20, 25, 30, 40, 50, 60])\n",
    "gammas = 1./(2*sigmas**2)\n",
    "r2_matrix = np.zeros((gammas.size, 3))\n",
    "\n",
    "for i, gamma in enumerate(gammas):\n",
    "    \n",
    "    # create rbf with given gamma, using scaled data\n",
    "    X_train_kernel_scaled = rbf_kernel(X_train_scaled, X_train_scaled, gamma = gamma)\n",
    "    X_test_kernel_scaled = rbf_kernel(X_test_scaled, X_train_scaled, gamma = gamma)\n",
    "    model_rbf_scaled = LinearRegression()\n",
    "    model_rbf_scaled.fit(X_train_kernel_scaled, y_train)\n",
    "    \n",
    "    r2_matrix[i, 0] = gamma\n",
    "    r2_matrix[i, 1] = model_rbf.score(X_train_kernel_scaled, y_train)\n",
    "    r2_matrix[i, -1] = model_rbf.score(X_test_kernel_scaled, y_test)\n",
    "\n",
    "n = r2_matrix[:, -1].argmax()\n",
    "print(\"Best gamma:\\t{:g} (sigma = {:n})\".format(r2_matrix[n, 0], (1 / 2 / r2_matrix[n, 0])**0.5))\n",
    "print(\"r^2 train:\\t{:.4f}\".format(r2_matrix[n, 1]))\n",
    "print(\"r^2 test:\\t{:.4f}\".format(r2_matrix[n, -1]))\n",
    "best_gamma = r2_matrix[n, 0]"
   ]
  },
  {
   "cell_type": "code",
   "execution_count": 20,
   "metadata": {},
   "outputs": [
    {
     "name": "stdout",
     "output_type": "stream",
     "text": [
      "[[50000000.          -0.041       -0.009]\n",
      " [ 2000000.          -0.041       -0.009]\n",
      " [  500000.          -0.041       -0.009]\n",
      " [   20000.          -0.041       -0.009]\n",
      " [    5000.           0.009       -0.008]\n",
      " [     200.           0.978        0.005]\n",
      " [      50.           0.99         0.007]\n",
      " [       2.           0.962        0.167]\n",
      " [       0.5          0.56         0.345]\n",
      " [       0.02      -282.874     -205.621]\n",
      " [       0.005     -219.257     -158.034]\n",
      " [       0.002     -147.571     -102.115]\n",
      " [       0.001     -119.767      -81.202]\n",
      " [       0.001     -107.396      -72.179]\n",
      " [       0.001     -100.994      -67.618]\n",
      " [       0.         -94.947      -63.405]\n",
      " [       0.         -92.279      -61.584]\n",
      " [       0.         -90.87       -60.633]]\n"
     ]
    }
   ],
   "source": [
    "np.set_printoptions(precision=3,suppress=True)\n",
    "print(r2_matrix)"
   ]
  },
  {
   "cell_type": "markdown",
   "metadata": {},
   "source": [
    "For the scaled data, the kernel model does not overfit for the training set, but the score is still not satisfactory.\n",
    "\n",
    "The gamma value can be further refined around the best value (0.5):"
   ]
  },
  {
   "cell_type": "code",
   "execution_count": 21,
   "metadata": {},
   "outputs": [
    {
     "name": "stdout",
     "output_type": "stream",
     "text": [
      "Best gamma:\t0.44 (sigma = 1.066)\n",
      "r^2 train:\t0.4305\n",
      "r^2 test:\t0.3490\n"
     ]
    }
   ],
   "source": [
    "gammas = np.linspace(0.02, 2, 100)\n",
    "r2_matrix = np.zeros((gammas.size, 3))\n",
    "\n",
    "for i, gamma in enumerate(gammas):\n",
    "    \n",
    "    # create rbf with given gamma, using scaled data\n",
    "    X_train_kernel_scaled = rbf_kernel(X_train_scaled, X_train_scaled, gamma = gamma)\n",
    "    X_test_kernel_scaled = rbf_kernel(X_test_scaled, X_train_scaled, gamma = gamma)\n",
    "    model_rbf_scaled = LinearRegression()\n",
    "    model_rbf_scaled.fit(X_train_kernel_scaled, y_train)\n",
    "    \n",
    "    r2_matrix[i, 0] = gamma\n",
    "    r2_matrix[i, 1] = model_rbf.score(X_train_kernel_scaled, y_train)\n",
    "    r2_matrix[i, -1] = model_rbf.score(X_test_kernel_scaled, y_test)\n",
    "\n",
    "n = r2_matrix[:, -1].argmax()\n",
    "print(\"Best gamma:\\t{:g} (sigma = {:n})\".format(r2_matrix[n, 0], (1 / 2 / r2_matrix[n, 0])**0.5))\n",
    "print(\"r^2 train:\\t{:.4f}\".format(r2_matrix[n, 1]))\n",
    "print(\"r^2 test:\\t{:.4f}\".format(r2_matrix[n, -1]))\n",
    "best_gamma = r2_matrix[n, 0]"
   ]
  },
  {
   "cell_type": "code",
   "execution_count": 22,
   "metadata": {},
   "outputs": [
    {
     "data": {
      "text/plain": [
       "Text(0, 0.5, 'Predicted test data')"
      ]
     },
     "execution_count": 22,
     "metadata": {},
     "output_type": "execute_result"
    },
    {
     "data": {
      "image/png": "[encoded data removed]",
      "text/plain": [
       "<Figure size 936x432 with 2 Axes>"
      ]
     },
     "metadata": {
      "needs_background": "light"
     },
     "output_type": "display_data"
    }
   ],
   "source": [
    "best_gamma = r2_matrix[n, 0]\n",
    "X_train_kernel_scaled = rbf_kernel(X_train_scaled, X_train_scaled, gamma = best_gamma)\n",
    "X_test_kernel_scaled = rbf_kernel(X_test_scaled, X_train_scaled, gamma = best_gamma)\n",
    "model_rbf_scaled = LinearRegression()\n",
    "model_rbf_scaled.fit(X_train_kernel_scaled, y_train)\n",
    "y_hat_train = model_rbf.predict(X_train_kernel_scaled)\n",
    "y_hat_test = model_rbf.predict(X_test_kernel_scaled)\n",
    "\n",
    "fig, axes = plt.subplots(1, 2, figsize=(13, 6))\n",
    "\n",
    "axes[0].scatter(y_train, y_hat_train, alpha=0.15)\n",
    "axes[0].plot(y_train, y_train, '-k')\n",
    "axes[0].set_xlabel('Actual train data')\n",
    "axes[0].set_ylabel('Predicted train data')\n",
    "\n",
    "axes[1].scatter(y_test, y_hat_test, alpha=0.15, c='r')\n",
    "axes[1].plot(y_test, y_test, '-k')\n",
    "axes[1].set_xlabel('Actual test data')\n",
    "axes[1].set_ylabel('Predicted test data')"
   ]
  },
  {
   "cell_type": "markdown",
   "metadata": {},
   "source": [
    "## Conclusion for baseline models\n",
    "\n",
    "We have tested two models for this dataset: multi-linear model and kernel regression model (using rbf).\n",
    "- The multi-linear model manages to give high-quality regression results with both unscaled and scaled data.\n",
    "- We tried to apply simple hyperparameter tuning strategies for the kernel regression model, but the kernel model tends to overfit with the unscaled training set with all gamma values. When it is trained with unscaled training set, the overfitting issue no longer exists, but the model performs poorly for both the training and the test set.\n",
    "\n",
    "---\n",
    "\n",
    "The difference of the performance of two models may indicate that this data set works well with linear models, but may suffer severely with kernel based nonlinear model.\n",
    "This is a very interesting property that we have not seen in the examples given in the class.\n",
    "Our preliminary explanation is that this is caused by the combination of MOF features and adsorbate features (see the analysis in Section 1.7).\n",
    "Since two feature groups are independent of each other, the kernel that we created actually accounts for interaction between these two groups that does not exists, which causes the poor performance of the kernel model.\n",
    "We would like to further discuss with the instructors to figure out the reason behind this phenomena.\n",
    "\n",
    "---\n",
    "\n",
    "# Next steps\n",
    "1. investigate the cause of the poor performance of the kernel model\n",
    "2. apply other models (kernel ridge regression, LASSO, neuron network, etc.) for regression\n",
    "3. apply principal component analysis to see if regression based on principal components will have better performance\n",
    "4. assess the performance of all models using the validation set\n"
   ]
  }
 ],
 "metadata": {
  "kernelspec": {
   "display_name": "Python 3",
   "language": "python",
   "name": "python3"
  },
  "language_info": {
   "codemirror_mode": {
    "name": "ipython",
    "version": 3
   },
   "file_extension": ".py",
   "mimetype": "text/x-python",
   "name": "python",
   "nbconvert_exporter": "python",
   "pygments_lexer": "ipython3",
   "version": "3.7.1"
  },
  "latex_envs": {
   "LaTeX_envs_menu_present": true,
   "autoclose": true,
   "autocomplete": true,
   "bibliofile": "biblio.bib",
   "cite_by": "apalike",
   "current_citInitial": 1,
   "eqLabelWithNumbers": true,
   "eqNumInitial": 1,
   "hotkeys": {
    "equation": "Ctrl-E",
    "itemize": "Ctrl-I"
   },
   "labels_anchors": false,
   "latex_user_defs": false,
   "report_style_numbering": false,
   "user_envs_cfg": false
  },
  "toc": {
   "base_numbering": 1,
   "nav_menu": {
    "height": "361px",
    "width": "435px"
   },
   "number_sections": true,
   "sideBar": true,
   "skip_h1_title": false,
   "title_cell": "Table of Contents",
   "title_sidebar": "Contents",
   "toc_cell": false,
   "toc_position": {},
   "toc_section_display": true,
   "toc_window_display": false
  }
 },
 "nbformat": 4,
 "nbformat_minor": 2
}
