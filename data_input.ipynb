{
 "cells": [
  {
   "cell_type": "markdown",
   "metadata": {},
   "source": [
    "# Data preprocessing\n",
    "\n",
    "The dataset is composed of three parts:\n",
    "1. descriptors of **MOFs** (under `data/ML_data`)\n",
    "2. descriptors of **adsorbants** (mannually added below)\n",
    "3. **adsorption uptakes** of **(MOF, adsorbate) pairs** (under `data/flexibility_data/y_data/adsorption_data`), containing two values:\n",
    "    1. values from rigid model\n",
    "    2. mean values from flexible model"
   ]
  },
  {
   "cell_type": "markdown",
   "metadata": {},
   "source": [
    "## read MOF data"
   ]
  },
  {
   "cell_type": "code",
   "execution_count": 1,
   "metadata": {},
   "outputs": [],
   "source": [
    "import pandas as pd\n",
    "import numpy as np\n",
    "import os\n",
    "\n",
    "# read the 36-descriptor data\n",
    "df36Descriptor = pd.read_excel('data/ML_data/descriptor_used.xlsx',header=4,index_col=1)"
   ]
  },
  {
   "cell_type": "code",
   "execution_count": 2,
   "metadata": {},
   "outputs": [
    {
     "name": "stdout",
     "output_type": "stream",
     "text": [
      "['MOF', 'ρ(g.cm-3)', 'PLD (Å)', 'vf', 'vp (cm3.g-1)', 'V (A3)', 'nAT-H', 'nNM', 'nM', 'nTB', 'nSB', 'nMB', 'nRB', 'nR6', 'nTrM', 'nDB', 'nAcyclB', 'nR8', 'nAlkylC', 'nVinylC', 'nEnamineAN', 'nOHEPh', 'nR5', 'nR4', 'MType', 'MaxMVal', 'n-O-', 'F01[H-C]', 'F01[C-N]', 'F01[C-O]', 'F02[H-C]', 'F02[C-N]', 'F02[C-O]']\n"
     ]
    }
   ],
   "source": [
    "# obtain the descriptor list\n",
    "columns = [df36Descriptor.columns[1]] + df36Descriptor.columns[3: -11].tolist()\n",
    "print(columns)"
   ]
  },
  {
   "cell_type": "code",
   "execution_count": 3,
   "metadata": {},
   "outputs": [
    {
     "name": "stdout",
     "output_type": "stream",
     "text": [
      "{'MOF': 'MOF', 'ρ(g.cm-3)': 'ρ', 'PLD (Å)': 'PLD', 'vf': 'vf', 'vp (cm3.g-1)': 'vp', 'V (A3)': 'V', 'nAT-H': 'nAT-H', 'nNM': 'nNM', 'nM': 'nM', 'nTB': 'nTB', 'nSB': 'nSB', 'nMB': 'nMB', 'nRB': 'nRB', 'nR6': 'nR6', 'nTrM': 'nTrM', 'nDB': 'nDB', 'nAcyclB': 'nAcyclB', 'nR8': 'nR8', 'nAlkylC': 'nAlkylC', 'nVinylC': 'nVinylC', 'nEnamineAN': 'nEnamineAN', 'nOHEPh': 'nOHEPh', 'nR5': 'nR5', 'nR4': 'nR4', 'MType': 'MType', 'MaxMVal': 'MaxMVal', 'n-O-': 'n-O-', 'F01[H-C]': 'F01[H-C]', 'F01[C-N]': 'F01[C-N]', 'F01[C-O]': 'F01[C-O]', 'F02[H-C]': 'F02[H-C]', 'F02[C-N]': 'F02[C-N]', 'F02[C-O]': 'F02[C-O]'}\n"
     ]
    }
   ],
   "source": [
    "# clean up columns\n",
    "newColumns = {}\n",
    "for ci in columns:\n",
    "    if ' ' in ci:\n",
    "        newColumns[ci] = ci.split(' ',1)[0]\n",
    "    elif '(' in ci:\n",
    "        newColumns[ci] = ci.split('(',1)[0]\n",
    "    else:\n",
    "        newColumns[ci] = ci\n",
    "        \n",
    "print(newColumns)"
   ]
  },
  {
   "cell_type": "code",
   "execution_count": 4,
   "metadata": {
    "scrolled": true
   },
   "outputs": [],
   "source": [
    "# read ML data\n",
    "#dfMLOrigin = pd.read_excel('data/ML_data/descriptor_4717MOF.xlsx')"
   ]
  },
  {
   "cell_type": "markdown",
   "metadata": {},
   "source": [
    "The dataset contains 4717 MOFs with 1024 features."
   ]
  },
  {
   "cell_type": "code",
   "execution_count": 5,
   "metadata": {},
   "outputs": [],
   "source": [
    "dfShortNames = df36Descriptor[columns].rename(columns=newColumns)"
   ]
  },
  {
   "cell_type": "markdown",
   "metadata": {},
   "source": [
    "The reduced dataset contains 4717 MOFs with 29 features (excluding the first column)."
   ]
  },
  {
   "cell_type": "markdown",
   "metadata": {},
   "source": [
    "## read adsorption update data"
   ]
  },
  {
   "cell_type": "code",
   "execution_count": 6,
   "metadata": {},
   "outputs": [
    {
     "name": "stdout",
     "output_type": "stream",
     "text": [
      "The number of MOFs shared by two datasets are: 89.\n",
      "\n"
     ]
    },
    {
     "data": {
      "text/plain": [
       "array([['5.395625473', '5.016580520775', 'xenon'],\n",
       "       ['5.788896266', '4.817801024044944', 'xenon'],\n",
       "       ['2.323461698', '3.3505466442417773', 'xenon'],\n",
       "       ...,\n",
       "       ['6.718467229', '6.4977646543946666', 'krypton'],\n",
       "       ['5.026615122', '4.6271537747455', 'krypton'],\n",
       "       ['5.028696345', '4.590551175359306', 'krypton']], dtype='<U32')"
      ]
     },
     "execution_count": 6,
     "metadata": {},
     "output_type": "execute_result"
    }
   ],
   "source": [
    "# the MOFs in \"dfMLReduced\" and adsorption data sets are different, so it is necessary to match the MOFs in two datasets\n",
    "def datasetMatch(MOFName):\n",
    "    dfML= dfShortNames[dfShortNames['MOF'].isin(MOFName)].drop_duplicates()\n",
    "    matchedMOFIndex=np.isin(MOFName, dfML['MOF'].values)\n",
    "    return matchedMOFIndex, dfML\n",
    "\n",
    "# read flexibility data\n",
    "flexibilityList=os.listdir('data/flexibility_data/y_data/adsorption_data') # obtain list of csv files for 9 adsorption uptakes\n",
    "flexivilityData=[]\n",
    "adsorbantNameList = []\n",
    "\n",
    "for i, name in enumerate(flexibilityList):\n",
    "    # read csv files for certain adsorption uptakes\n",
    "    df = pd.read_csv('data/flexibility_data/y_data/adsorption_data/' + name)\n",
    "    \n",
    "    # obtain the rigid value\n",
    "    rigidValue = np.array(df[df.columns[1]], dtype = float)\n",
    "    \n",
    "    # obtain the flexible mean value\n",
    "    flexValue = np.mean(np.array(df[df.columns[2:]],dtype=float),axis=1)\n",
    "    \n",
    "    # obtain the adsorbate label\n",
    "    label = np.array([name.split(\"_\")[1] for x in range(0,len(flexValue))],dtype=str)\n",
    "    adsorbantNameList.append(name.split(\"_\")[1])\n",
    "    \n",
    "    # stack the rigid value, flexible mean value and the adsorbate label\n",
    "    singleSet = np.column_stack([rigidValue,flexValue,label])\n",
    "\n",
    "    if i == 0:\n",
    "        # obtain the name list of MOFs\n",
    "        MOFNaemTemp = np.array(df[df.columns[0]], dtype = str)\n",
    "        MOFName = [x.split(\"_\")[0] for x in MOFNaemTemp]\n",
    "        \n",
    "        # search the MOF name in \"dfMLReduced\", generating dfML\n",
    "        matchedMOFIndex, dfML = datasetMatch(MOFName)\n",
    "        print(\"The number of MOFs shared by two datasets are: {:d}.\\n\".format(dfML.shape[0]))\n",
    "        \n",
    "        # generating flexibilityData as \"y\"\n",
    "        flexibilityData = singleSet[matchedMOFIndex,:].copy()\n",
    "    else:\n",
    "        # concatenate \"y\"\n",
    "        flexibilityData = np.concatenate([flexibilityData.copy(),singleSet[matchedMOFIndex,:].copy()])\n",
    "\n",
    "flexibilityData"
   ]
  },
  {
   "cell_type": "code",
   "execution_count": 7,
   "metadata": {},
   "outputs": [
    {
     "name": "stdout",
     "output_type": "stream",
     "text": [
      "(801, 3)\n"
     ]
    }
   ],
   "source": [
    "print(flexibilityData.shape)"
   ]
  },
  {
   "cell_type": "markdown",
   "metadata": {},
   "source": [
    "flexibilityData contains the adsorption update data for (MOF, adsorbate) pairs. There are 98 MOFs and 9 adsorbants, so there are 882 data points in total.\n",
    "- 1st column: rigid data\n",
    "- 2nd column: flexible mean data\n",
    "- 3rd column: adsorbate label\n",
    "\n",
    "The order of the flexibilityData is:\n",
    "\n",
    "| MOF | adsorbant |\n",
    "|------|------------|\n",
    "| MOF1 | adsorbant1 |\n",
    "| MOF2 | adsorbant1 |\n",
    "| MOF3 | adsorbant1 |\n",
    "| ...  | ...        |\n",
    "| MOF98 | adsorbant1 |\n",
    "| MOF1 | adsorbant2 |\n",
    "| MOF2 | adsorbant2 |\n",
    "| MOF3 | adsorbant2 |\n",
    "| ...  | ...        |\n",
    "| MOF98 | adsorbant2 |\n",
    "| MOF1 | adsorbant3 |\n",
    "| MOF2 | adsorbant3 |\n",
    "| MOF3 | adsorbant3 |\n",
    "| ...  | ...        |"
   ]
  },
  {
   "cell_type": "markdown",
   "metadata": {},
   "source": [
    "## manually add adsorbant data"
   ]
  },
  {
   "cell_type": "code",
   "execution_count": 8,
   "metadata": {},
   "outputs": [
    {
     "data": {
      "text/html": [
       "<div>\n",
       "<style scoped>\n",
       "    .dataframe tbody tr th:only-of-type {\n",
       "        vertical-align: middle;\n",
       "    }\n",
       "\n",
       "    .dataframe tbody tr th {\n",
       "        vertical-align: top;\n",
       "    }\n",
       "\n",
       "    .dataframe thead th {\n",
       "        text-align: right;\n",
       "    }\n",
       "</style>\n",
       "<table border=\"1\" class=\"dataframe\">\n",
       "  <thead>\n",
       "    <tr style=\"text-align: right;\">\n",
       "      <th></th>\n",
       "      <th>Mw/gr.mol-1</th>\n",
       "      <th>Tc/K</th>\n",
       "      <th>Pc/bar</th>\n",
       "      <th>ω</th>\n",
       "      <th>Tb/K</th>\n",
       "      <th>Tf/K</th>\n",
       "      <th>adsorbant</th>\n",
       "    </tr>\n",
       "  </thead>\n",
       "  <tbody>\n",
       "    <tr>\n",
       "      <th>0</th>\n",
       "      <td>131.293</td>\n",
       "      <td>289.7</td>\n",
       "      <td>58.4</td>\n",
       "      <td>0.008</td>\n",
       "      <td>164.87</td>\n",
       "      <td>161.2</td>\n",
       "      <td>xenon</td>\n",
       "    </tr>\n",
       "    <tr>\n",
       "      <th>1</th>\n",
       "      <td>58.100</td>\n",
       "      <td>449.8</td>\n",
       "      <td>39.5</td>\n",
       "      <td>0.300</td>\n",
       "      <td>280.10</td>\n",
       "      <td>146.7</td>\n",
       "      <td>butane</td>\n",
       "    </tr>\n",
       "    <tr>\n",
       "      <th>2</th>\n",
       "      <td>42.100</td>\n",
       "      <td>436.9</td>\n",
       "      <td>51.7</td>\n",
       "      <td>0.200</td>\n",
       "      <td>254.80</td>\n",
       "      <td>150.6</td>\n",
       "      <td>propene</td>\n",
       "    </tr>\n",
       "    <tr>\n",
       "      <th>3</th>\n",
       "      <td>30.100</td>\n",
       "      <td>381.8</td>\n",
       "      <td>50.3</td>\n",
       "      <td>0.200</td>\n",
       "      <td>184.00</td>\n",
       "      <td>126.2</td>\n",
       "      <td>ethane</td>\n",
       "    </tr>\n",
       "    <tr>\n",
       "      <th>4</th>\n",
       "      <td>44.100</td>\n",
       "      <td>416.5</td>\n",
       "      <td>44.6</td>\n",
       "      <td>0.200</td>\n",
       "      <td>230.10</td>\n",
       "      <td>136.5</td>\n",
       "      <td>propane</td>\n",
       "    </tr>\n",
       "    <tr>\n",
       "      <th>5</th>\n",
       "      <td>44.000</td>\n",
       "      <td>295.9</td>\n",
       "      <td>71.8</td>\n",
       "      <td>0.200</td>\n",
       "      <td>317.40</td>\n",
       "      <td>204.9</td>\n",
       "      <td>CO2</td>\n",
       "    </tr>\n",
       "    <tr>\n",
       "      <th>6</th>\n",
       "      <td>28.054</td>\n",
       "      <td>282.5</td>\n",
       "      <td>51.2</td>\n",
       "      <td>0.089</td>\n",
       "      <td>169.30</td>\n",
       "      <td>228.0</td>\n",
       "      <td>ethene</td>\n",
       "    </tr>\n",
       "    <tr>\n",
       "      <th>7</th>\n",
       "      <td>16.040</td>\n",
       "      <td>190.4</td>\n",
       "      <td>46.0</td>\n",
       "      <td>0.011</td>\n",
       "      <td>111.50</td>\n",
       "      <td>91.0</td>\n",
       "      <td>methane</td>\n",
       "    </tr>\n",
       "    <tr>\n",
       "      <th>8</th>\n",
       "      <td>83.798</td>\n",
       "      <td>209.4</td>\n",
       "      <td>55.0</td>\n",
       "      <td>0.005</td>\n",
       "      <td>119.60</td>\n",
       "      <td>115.6</td>\n",
       "      <td>krypton</td>\n",
       "    </tr>\n",
       "  </tbody>\n",
       "</table>\n",
       "</div>"
      ],
      "text/plain": [
       "   Mw/gr.mol-1   Tc/K  Pc/bar      ω    Tb/K   Tf/K adsorbant\n",
       "0      131.293  289.7    58.4  0.008  164.87  161.2     xenon\n",
       "1       58.100  449.8    39.5  0.300  280.10  146.7    butane\n",
       "2       42.100  436.9    51.7  0.200  254.80  150.6   propene\n",
       "3       30.100  381.8    50.3  0.200  184.00  126.2    ethane\n",
       "4       44.100  416.5    44.6  0.200  230.10  136.5   propane\n",
       "5       44.000  295.9    71.8  0.200  317.40  204.9       CO2\n",
       "6       28.054  282.5    51.2  0.089  169.30  228.0    ethene\n",
       "7       16.040  190.4    46.0  0.011  111.50   91.0   methane\n",
       "8       83.798  209.4    55.0  0.005  119.60  115.6   krypton"
      ]
     },
     "execution_count": 8,
     "metadata": {},
     "output_type": "execute_result"
    }
   ],
   "source": [
    "# manually add adsorbate descriptors\n",
    "\n",
    "# Mw/gr.mol-1, Tc/K, Pc/bar, ω, Tb/K, Tf/K\n",
    "\n",
    "adsorbateData=np.array([\n",
    "    ['xenon',131.293,289.7,58.4,0.008,164.87,161.2], \n",
    "    ['butane',58.1,449.8,39.5,0.3,280.1,146.7], \n",
    "    ['propene',42.1,436.9,51.7,0.2,254.8,150.6], \n",
    "    ['ethane',30.1,381.8,50.3,0.2,184.0,126.2], \n",
    "    ['propane',44.1,416.5,44.6,0.2,230.1,136.5], \n",
    "    ['CO2',44.0,295.9,71.8,0.2,317.4,204.9], \n",
    "    ['ethene',28.054,282.5,51.2,0.089,169.3,228], \n",
    "    ['methane',16.04,190.4,46.0,0.011,111.5,91],\n",
    "    ['krypton',83.798,209.4,55.0,0.005,119.6,115.6]])\n",
    "\n",
    "adsorbateData.shape\n",
    "adDf = pd.DataFrame(data=adsorbateData, columns=[\"adsorbant\", \"Mw/gr.mol-1\", \"Tc/K\", \"Pc/bar\", \"ω\", \"Tb/K\", \"Tf/K\"])\n",
    "\n",
    "# sort the dataframe based on adsorbantNameList\n",
    "sorterIndex = dict(zip(adsorbantNameList,range(len(adsorbantNameList))))\n",
    "adDf['an_Rank'] = adDf['adsorbant'].map(sorterIndex)\n",
    "adDf.sort_values(['an_Rank'],ascending = [True], inplace = True)\n",
    "adDf.drop('an_Rank', 1, inplace = True)\n",
    "adDfFloat = adDf.iloc[:, 1:].astype(np.float)\n",
    "adDfFloat[\"adsorbant\"] = adDf[\"adsorbant\"]\n",
    "adDfFloat"
   ]
  },
  {
   "cell_type": "code",
   "execution_count": 9,
   "metadata": {},
   "outputs": [
    {
     "name": "stdout",
     "output_type": "stream",
     "text": [
      "(9, 7)\n"
     ]
    }
   ],
   "source": [
    "print(adDfFloat.shape)"
   ]
  },
  {
   "cell_type": "markdown",
   "metadata": {},
   "source": [
    "There are 6 descriptors (excluding name label) for each adsorbant."
   ]
  },
  {
   "cell_type": "markdown",
   "metadata": {},
   "source": [
    "## combine MOF and adsorbant descriptors\n",
    "The combined dataset should have $29+6=35$ descriptors:"
   ]
  },
  {
   "cell_type": "code",
   "execution_count": 10,
   "metadata": {},
   "outputs": [
    {
     "name": "stdout",
     "output_type": "stream",
     "text": [
      "(801, 40)\n"
     ]
    },
    {
     "data": {
      "text/html": [
       "<div>\n",
       "<style scoped>\n",
       "    .dataframe tbody tr th:only-of-type {\n",
       "        vertical-align: middle;\n",
       "    }\n",
       "\n",
       "    .dataframe tbody tr th {\n",
       "        vertical-align: top;\n",
       "    }\n",
       "\n",
       "    .dataframe thead th {\n",
       "        text-align: right;\n",
       "    }\n",
       "</style>\n",
       "<table border=\"1\" class=\"dataframe\">\n",
       "  <thead>\n",
       "    <tr style=\"text-align: right;\">\n",
       "      <th></th>\n",
       "      <th>MOF</th>\n",
       "      <th>ρ</th>\n",
       "      <th>PLD</th>\n",
       "      <th>vf</th>\n",
       "      <th>vp</th>\n",
       "      <th>V</th>\n",
       "      <th>nAT-H</th>\n",
       "      <th>nNM</th>\n",
       "      <th>nM</th>\n",
       "      <th>nTB</th>\n",
       "      <th>...</th>\n",
       "      <th>F02[H-C]</th>\n",
       "      <th>F02[C-N]</th>\n",
       "      <th>F02[C-O]</th>\n",
       "      <th>Mw/gr.mol-1</th>\n",
       "      <th>Tc/K</th>\n",
       "      <th>Pc/bar</th>\n",
       "      <th>ω</th>\n",
       "      <th>Tb/K</th>\n",
       "      <th>Tf/K</th>\n",
       "      <th>adsorbant</th>\n",
       "    </tr>\n",
       "  </thead>\n",
       "  <tbody>\n",
       "    <tr>\n",
       "      <th>0</th>\n",
       "      <td>ABUWOJ</td>\n",
       "      <td>1.158330</td>\n",
       "      <td>4.03039</td>\n",
       "      <td>0.545974</td>\n",
       "      <td>0.532253</td>\n",
       "      <td>4354.2656</td>\n",
       "      <td>168</td>\n",
       "      <td>1.238095</td>\n",
       "      <td>0.095238</td>\n",
       "      <td>1.571428</td>\n",
       "      <td>...</td>\n",
       "      <td>0.571429</td>\n",
       "      <td>0.000000</td>\n",
       "      <td>0.285714</td>\n",
       "      <td>131.293</td>\n",
       "      <td>289.7</td>\n",
       "      <td>58.4</td>\n",
       "      <td>0.008</td>\n",
       "      <td>164.87</td>\n",
       "      <td>161.2</td>\n",
       "      <td>xenon</td>\n",
       "    </tr>\n",
       "    <tr>\n",
       "      <th>1</th>\n",
       "      <td>ACOLIP</td>\n",
       "      <td>1.049490</td>\n",
       "      <td>3.57647</td>\n",
       "      <td>0.454051</td>\n",
       "      <td>0.521040</td>\n",
       "      <td>6253.0290</td>\n",
       "      <td>256</td>\n",
       "      <td>1.562500</td>\n",
       "      <td>0.031250</td>\n",
       "      <td>1.750000</td>\n",
       "      <td>...</td>\n",
       "      <td>0.750000</td>\n",
       "      <td>0.250000</td>\n",
       "      <td>0.125000</td>\n",
       "      <td>131.293</td>\n",
       "      <td>289.7</td>\n",
       "      <td>58.4</td>\n",
       "      <td>0.008</td>\n",
       "      <td>164.87</td>\n",
       "      <td>161.2</td>\n",
       "      <td>xenon</td>\n",
       "    </tr>\n",
       "    <tr>\n",
       "      <th>2</th>\n",
       "      <td>AGARUW</td>\n",
       "      <td>1.771950</td>\n",
       "      <td>6.25183</td>\n",
       "      <td>0.450504</td>\n",
       "      <td>0.291150</td>\n",
       "      <td>4625.2617</td>\n",
       "      <td>224</td>\n",
       "      <td>1.071428</td>\n",
       "      <td>0.071429</td>\n",
       "      <td>1.678572</td>\n",
       "      <td>...</td>\n",
       "      <td>0.214286</td>\n",
       "      <td>0.428571</td>\n",
       "      <td>0.285714</td>\n",
       "      <td>131.293</td>\n",
       "      <td>289.7</td>\n",
       "      <td>58.4</td>\n",
       "      <td>0.008</td>\n",
       "      <td>164.87</td>\n",
       "      <td>161.2</td>\n",
       "      <td>xenon</td>\n",
       "    </tr>\n",
       "    <tr>\n",
       "      <th>3</th>\n",
       "      <td>AHOKIR01</td>\n",
       "      <td>1.927010</td>\n",
       "      <td>3.46842</td>\n",
       "      <td>0.460404</td>\n",
       "      <td>0.251926</td>\n",
       "      <td>2360.6523</td>\n",
       "      <td>112</td>\n",
       "      <td>1.428572</td>\n",
       "      <td>0.142857</td>\n",
       "      <td>1.928572</td>\n",
       "      <td>...</td>\n",
       "      <td>0.857143</td>\n",
       "      <td>0.000000</td>\n",
       "      <td>0.428571</td>\n",
       "      <td>131.293</td>\n",
       "      <td>289.7</td>\n",
       "      <td>58.4</td>\n",
       "      <td>0.008</td>\n",
       "      <td>164.87</td>\n",
       "      <td>161.2</td>\n",
       "      <td>xenon</td>\n",
       "    </tr>\n",
       "    <tr>\n",
       "      <th>4</th>\n",
       "      <td>AMILUE</td>\n",
       "      <td>0.982365</td>\n",
       "      <td>11.07263</td>\n",
       "      <td>0.566397</td>\n",
       "      <td>0.622654</td>\n",
       "      <td>4871.6387</td>\n",
       "      <td>176</td>\n",
       "      <td>1.500000</td>\n",
       "      <td>0.045455</td>\n",
       "      <td>1.795454</td>\n",
       "      <td>...</td>\n",
       "      <td>0.545455</td>\n",
       "      <td>0.000000</td>\n",
       "      <td>0.181818</td>\n",
       "      <td>131.293</td>\n",
       "      <td>289.7</td>\n",
       "      <td>58.4</td>\n",
       "      <td>0.008</td>\n",
       "      <td>164.87</td>\n",
       "      <td>161.2</td>\n",
       "      <td>xenon</td>\n",
       "    </tr>\n",
       "  </tbody>\n",
       "</table>\n",
       "<p>5 rows × 40 columns</p>\n",
       "</div>"
      ],
      "text/plain": [
       "        MOF         ρ       PLD        vf        vp          V  nAT-H  \\\n",
       "0    ABUWOJ  1.158330   4.03039  0.545974  0.532253  4354.2656    168   \n",
       "1    ACOLIP  1.049490   3.57647  0.454051  0.521040  6253.0290    256   \n",
       "2    AGARUW  1.771950   6.25183  0.450504  0.291150  4625.2617    224   \n",
       "3  AHOKIR01  1.927010   3.46842  0.460404  0.251926  2360.6523    112   \n",
       "4    AMILUE  0.982365  11.07263  0.566397  0.622654  4871.6387    176   \n",
       "\n",
       "        nNM        nM       nTB  ...  F02[H-C]  F02[C-N]  F02[C-O]  \\\n",
       "0  1.238095  0.095238  1.571428  ...  0.571429  0.000000  0.285714   \n",
       "1  1.562500  0.031250  1.750000  ...  0.750000  0.250000  0.125000   \n",
       "2  1.071428  0.071429  1.678572  ...  0.214286  0.428571  0.285714   \n",
       "3  1.428572  0.142857  1.928572  ...  0.857143  0.000000  0.428571   \n",
       "4  1.500000  0.045455  1.795454  ...  0.545455  0.000000  0.181818   \n",
       "\n",
       "   Mw/gr.mol-1   Tc/K  Pc/bar      ω    Tb/K   Tf/K  adsorbant  \n",
       "0      131.293  289.7    58.4  0.008  164.87  161.2      xenon  \n",
       "1      131.293  289.7    58.4  0.008  164.87  161.2      xenon  \n",
       "2      131.293  289.7    58.4  0.008  164.87  161.2      xenon  \n",
       "3      131.293  289.7    58.4  0.008  164.87  161.2      xenon  \n",
       "4      131.293  289.7    58.4  0.008  164.87  161.2      xenon  \n",
       "\n",
       "[5 rows x 40 columns]"
      ]
     },
     "execution_count": 10,
     "metadata": {},
     "output_type": "execute_result"
    }
   ],
   "source": [
    "# replicate dfML for 9 adsorbants\n",
    "dfMLReplicate = pd.concat([dfML]*9)\n",
    "\n",
    "# replicate adDf for 98 MOFs\n",
    "adDfReplicate = pd.DataFrame(np.repeat(adDfFloat.values,88,axis=0))\n",
    "adDfReplicate.columns = adDfFloat.columns\n",
    "\n",
    "# concatenate two datasets\n",
    "dfMLReplicate.reset_index(drop=True, inplace=True)\n",
    "adDfReplicate.reset_index(drop=True, inplace=True)\n",
    "XAllDescriptor = pd.concat([dfMLReplicate, adDfReplicate],axis=1)\n",
    "print(XAllDescriptor.shape)\n",
    "XAllDescriptor.head()"
   ]
  },
  {
   "cell_type": "markdown",
   "metadata": {},
   "source": [
    "## generate X and y\n",
    "The rigid uptake data can be added into X:"
   ]
  },
  {
   "cell_type": "code",
   "execution_count": 11,
   "metadata": {},
   "outputs": [
    {
     "name": "stdout",
     "output_type": "stream",
     "text": [
      "(801, 39)\n"
     ]
    }
   ],
   "source": [
    "X = np.concatenate((XAllDescriptor.iloc[:, 1:-1], flexibilityData[:, 0].reshape(-1, 1)),axis=1).astype(np.float)\n",
    "print(X.shape)"
   ]
  },
  {
   "cell_type": "markdown",
   "metadata": {},
   "source": [
    "The flexible mean data is chosen as y:"
   ]
  },
  {
   "cell_type": "code",
   "execution_count": 12,
   "metadata": {},
   "outputs": [
    {
     "name": "stdout",
     "output_type": "stream",
     "text": [
      "(801,)\n"
     ]
    }
   ],
   "source": [
    "y = flexibilityData[:, 1]\n",
    "print(y.shape)"
   ]
  },
  {
   "cell_type": "markdown",
   "metadata": {},
   "source": [
    "# Validation set split"
   ]
  },
  {
   "cell_type": "code",
   "execution_count": 13,
   "metadata": {
    "scrolled": false
   },
   "outputs": [],
   "source": [
    "# ----------------------------------------------------------------------------------------\n",
    "# ---------------------------- don't touch the validation set ----------------------------\n",
    "np.random.seed(0)\n",
    "from sklearn.model_selection import train_test_split\n",
    "X_train_test, X_validation, y_train_test, y_validation = train_test_split(X, y, test_size=0.25)\n",
    "# ---------------------------- don't touch the validation set ----------------------------\n",
    "# ----------------------------------------------------------------------------------------"
   ]
  },
  {
   "cell_type": "markdown",
   "metadata": {},
   "source": [
    "# Regression"
   ]
  },
  {
   "cell_type": "code",
   "execution_count": null,
   "metadata": {},
   "outputs": [],
   "source": []
  }
 ],
 "metadata": {
  "kernelspec": {
   "display_name": "Python 3",
   "language": "python",
   "name": "python3"
  },
  "language_info": {
   "codemirror_mode": {
    "name": "ipython",
    "version": 3
   },
   "file_extension": ".py",
   "mimetype": "text/x-python",
   "name": "python",
   "nbconvert_exporter": "python",
   "pygments_lexer": "ipython3",
   "version": "3.6.8"
  },
  "latex_envs": {
   "LaTeX_envs_menu_present": true,
   "autoclose": true,
   "autocomplete": true,
   "bibliofile": "biblio.bib",
   "cite_by": "apalike",
   "current_citInitial": 1,
   "eqLabelWithNumbers": true,
   "eqNumInitial": 1,
   "hotkeys": {
    "equation": "Ctrl-E",
    "itemize": "Ctrl-I"
   },
   "labels_anchors": false,
   "latex_user_defs": false,
   "report_style_numbering": false,
   "user_envs_cfg": false
  },
  "toc": {
   "base_numbering": 1,
   "nav_menu": {},
   "number_sections": true,
   "sideBar": true,
   "skip_h1_title": false,
   "title_cell": "Table of Contents",
   "title_sidebar": "Contents",
   "toc_cell": false,
   "toc_position": {},
   "toc_section_display": true,
   "toc_window_display": false
  }
 },
 "nbformat": 4,
 "nbformat_minor": 2
}
